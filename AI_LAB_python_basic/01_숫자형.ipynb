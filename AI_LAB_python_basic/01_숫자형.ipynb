{
 "cells": [
  {
   "cell_type": "code",
   "execution_count": 1,
   "id": "f3bcef90-10ac-4ab5-b2d5-8d7c9e6ba2de",
   "metadata": {},
   "outputs": [
    {
     "data": {
      "text/plain": [
       "'3.11.7 | packaged by Anaconda, Inc. | (main, Dec 15 2023, 18:05:47) [MSC v.1916 64 bit (AMD64)]'"
      ]
     },
     "execution_count": 1,
     "metadata": {},
     "output_type": "execute_result"
    }
   ],
   "source": [
    "# 파이썬 버전 확인\n",
    "import sys\n",
    "sys.version"
   ]
  },
  {
   "cell_type": "code",
   "execution_count": 7,
   "id": "c7bbd379-90a3-4cb7-ac51-084c648a88b0",
   "metadata": {},
   "outputs": [
    {
     "name": "stdout",
     "output_type": "stream",
     "text": [
      "50\n"
     ]
    }
   ],
   "source": [
    "a = 30\n",
    "b = 20\n",
    "c = a + b\n",
    "print(c)"
   ]
  },
  {
   "cell_type": "code",
   "execution_count": null,
   "id": "389d5ecf-5ff7-4b8f-a6b5-27a77ebc0ffb",
   "metadata": {},
   "outputs": [],
   "source": [
    "## 객체: 파이썬의 모든 변수, 데이터 형은 객체로 관리된다."
   ]
  },
  {
   "cell_type": "code",
   "execution_count": 67,
   "id": "e5f3ef1f-6331-421e-bae8-3b428003d325",
   "metadata": {},
   "outputs": [
    {
     "name": "stdout",
     "output_type": "stream",
     "text": [
      "0x7ff9b2f4c6c8\n",
      "0x7ff9b2f4c808\n",
      "0x7ff9b2f4c6c8\n",
      "0x7ff9b2f4c808\n"
     ]
    }
   ],
   "source": [
    "a = 30 #int 클래스의 인스턴스 객체를 생성\n",
    "print(hex(id(a))) \n",
    "b = 40 #int 클래스의 인스턴스 객체를 생성\n",
    "print(hex(id(b)))\n",
    "b = a\n",
    "print(hex(id(b)))\n",
    "b = 40\n",
    "print(hex(id(b)))\n",
    "### 40이라는 값이 소멸되지않음 ###\n",
    "del a #객체의 삭제\n",
    "#print(hex(id(a)))"
   ]
  },
  {
   "cell_type": "markdown",
   "id": "9ffd5ddd-6543-4184-86ed-cf17f76566da",
   "metadata": {},
   "source": [
    "### 파이썬 자료형\n",
    "* 정수형 : int형"
   ]
  },
  {
   "cell_type": "code",
   "execution_count": 26,
   "id": "b53c7405-5c89-4df9-802a-ef9a39ce2414",
   "metadata": {},
   "outputs": [
    {
     "name": "stdout",
     "output_type": "stream",
     "text": [
      "12345\n",
      "<class 'int'>\n"
     ]
    },
    {
     "data": {
      "text/plain": [
       "['__abs__',\n",
       " '__add__',\n",
       " '__and__',\n",
       " '__bool__',\n",
       " '__ceil__',\n",
       " '__class__',\n",
       " '__delattr__',\n",
       " '__dir__',\n",
       " '__divmod__',\n",
       " '__doc__',\n",
       " '__eq__',\n",
       " '__float__',\n",
       " '__floor__',\n",
       " '__floordiv__',\n",
       " '__format__',\n",
       " '__ge__',\n",
       " '__getattribute__',\n",
       " '__getnewargs__',\n",
       " '__getstate__',\n",
       " '__gt__',\n",
       " '__hash__',\n",
       " '__index__',\n",
       " '__init__',\n",
       " '__init_subclass__',\n",
       " '__int__',\n",
       " '__invert__',\n",
       " '__le__',\n",
       " '__lshift__',\n",
       " '__lt__',\n",
       " '__mod__',\n",
       " '__mul__',\n",
       " '__ne__',\n",
       " '__neg__',\n",
       " '__new__',\n",
       " '__or__',\n",
       " '__pos__',\n",
       " '__pow__',\n",
       " '__radd__',\n",
       " '__rand__',\n",
       " '__rdivmod__',\n",
       " '__reduce__',\n",
       " '__reduce_ex__',\n",
       " '__repr__',\n",
       " '__rfloordiv__',\n",
       " '__rlshift__',\n",
       " '__rmod__',\n",
       " '__rmul__',\n",
       " '__ror__',\n",
       " '__round__',\n",
       " '__rpow__',\n",
       " '__rrshift__',\n",
       " '__rshift__',\n",
       " '__rsub__',\n",
       " '__rtruediv__',\n",
       " '__rxor__',\n",
       " '__setattr__',\n",
       " '__sizeof__',\n",
       " '__str__',\n",
       " '__sub__',\n",
       " '__subclasshook__',\n",
       " '__truediv__',\n",
       " '__trunc__',\n",
       " '__xor__',\n",
       " 'as_integer_ratio',\n",
       " 'bit_count',\n",
       " 'bit_length',\n",
       " 'conjugate',\n",
       " 'denominator',\n",
       " 'from_bytes',\n",
       " 'imag',\n",
       " 'numerator',\n",
       " 'real',\n",
       " 'to_bytes']"
      ]
     },
     "execution_count": 26,
     "metadata": {},
     "output_type": "execute_result"
    }
   ],
   "source": [
    "a=12345\n",
    "b=100\n",
    "print(a)\n",
    "print(type(a))\n",
    "dir(a)"
   ]
  },
  {
   "cell_type": "markdown",
   "id": "cf2bcaad-cdcb-4e2b-8523-0d2e5662216d",
   "metadata": {},
   "source": [
    "* 실수형 : float 형"
   ]
  },
  {
   "cell_type": "code",
   "execution_count": 51,
   "id": "ffd54c57-03e8-4e19-8002-c1544434fa95",
   "metadata": {},
   "outputs": [
    {
     "name": "stdout",
     "output_type": "stream",
     "text": [
      "10.54\n",
      "<class 'float'>\n",
      "12345.0 <class 'float'>\n",
      "<class 'float'>\n",
      "<class 'float'>\n"
     ]
    }
   ],
   "source": [
    "f = 10.54\n",
    "print(f)\n",
    "print(type(f))\n",
    "b = float(a) #형변환\n",
    "print(b,type(b))\n",
    "d=10.        # 소수점 뒤의 0은 생략가능\n",
    "print(type(d))\n",
    "e = .5\n",
    "print(type(e))"
   ]
  },
  {
   "cell_type": "code",
   "execution_count": 63,
   "id": "89eaeaa6-4a34-4270-9b4b-9e44c39e829e",
   "metadata": {
    "jp-MarkdownHeadingCollapsed": true
   },
   "outputs": [
    {
     "name": "stdout",
     "output_type": "stream",
     "text": [
      "13\n",
      "7\n",
      "3.3333333333333335\n",
      "3\n",
      "1000\n"
     ]
    }
   ],
   "source": [
    "### 사칙연산 : +,-,*,/,%,//,**\n",
    "a = 10\n",
    "b = 3\n",
    "c = a + b\n",
    "print(c)\n",
    "\n",
    "c = a - b\n",
    "print(c)\n",
    "\n",
    "c = a * b\n",
    "print(c)\n",
    "\n",
    "f = a / b # 값은 항상 float형\n",
    "print(f)\n",
    "print(a//b)   # 정수 몫\n",
    "print(a**b)   # 10^3, 10의 3제곱"
   ]
  },
  {
   "cell_type": "code",
   "execution_count": null,
   "id": "6b65c417-9e96-4794-9dfe-08d7f45d197b",
   "metadata": {},
   "outputs": [],
   "source": []
  },
  {
   "cell_type": "markdown",
   "id": "4e31ecb5-108d-42dd-9ed9-a314200658e9",
   "metadata": {},
   "source": [
    "# 표준 입출력\n",
    "## 1. 표준 입력 : 표준 input()"
   ]
  },
  {
   "cell_type": "code",
   "execution_count": 70,
   "id": "6bb16554-6049-4b31-b7ba-bdefbcac4505",
   "metadata": {},
   "outputs": [
    {
     "name": "stdin",
     "output_type": "stream",
     "text": [
      " hello\n"
     ]
    },
    {
     "name": "stdout",
     "output_type": "stream",
     "text": [
      "hello\n"
     ]
    }
   ],
   "source": [
    "a = input()\n",
    "print(a)"
   ]
  },
  {
   "cell_type": "markdown",
   "id": "ae5a181f-38d4-428f-9178-f89aa28e9f9b",
   "metadata": {},
   "source": [
    "### 2. 표준 출력 : print()"
   ]
  },
  {
   "cell_type": "code",
   "execution_count": 75,
   "id": "dada1393-159d-43d9-af87-3470648a4c5b",
   "metadata": {},
   "outputs": [
    {
     "name": "stdout",
     "output_type": "stream",
     "text": [
      "1 2 3 4\n"
     ]
    }
   ],
   "source": [
    "print(1,2,end=' ')# 줄 바꿈 대신 space를 사용\n",
    "print(3,4)"
   ]
  },
  {
   "cell_type": "code",
   "execution_count": 77,
   "id": "81426041-f625-4c4e-b3ad-4dfe142123b5",
   "metadata": {},
   "outputs": [
    {
     "name": "stdout",
     "output_type": "stream",
     "text": [
      "5:6:7\n"
     ]
    }
   ],
   "source": [
    "print(5,6,7, sep=':')"
   ]
  },
  {
   "cell_type": "code",
   "execution_count": null,
   "id": "f2038a58-84d8-4ec4-a809-dc33d77722ad",
   "metadata": {},
   "outputs": [],
   "source": []
  }
 ],
 "metadata": {
  "kernelspec": {
   "display_name": "Python 3 (ipykernel)",
   "language": "python",
   "name": "python3"
  },
  "language_info": {
   "codemirror_mode": {
    "name": "ipython",
    "version": 3
   },
   "file_extension": ".py",
   "mimetype": "text/x-python",
   "name": "python",
   "nbconvert_exporter": "python",
   "pygments_lexer": "ipython3",
   "version": "3.11.7"
  }
 },
 "nbformat": 4,
 "nbformat_minor": 5
}
