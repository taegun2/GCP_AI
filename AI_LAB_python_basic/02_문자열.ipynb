{
 "cells": [
  {
   "cell_type": "markdown",
   "id": "841540de-5ab0-40f3-9f33-db0e3d8b5a01",
   "metadata": {},
   "source": [
    "# 문자열(string): 불변형(immutable), 시퀀스형"
   ]
  },
  {
   "cell_type": "markdown",
   "id": "6d44513e-bb62-47b4-9208-8269fab091ed",
   "metadata": {},
   "source": [
    "- 문자열은 요소를 수정할 수 없는 자료형, 순서를 갖는 자료형"
   ]
  },
  {
   "cell_type": "code",
   "execution_count": 26,
   "id": "ac562ff3-c868-4b03-b101-9e14d8f81f80",
   "metadata": {},
   "outputs": [
    {
     "name": "stdout",
     "output_type": "stream",
     "text": [
      "Hello Python\n",
      "<class 'str'>\n",
      "Good Bye\n",
      "\n",
      "Desc : This is a test code!\n",
      "date : 2024-06-26\n",
      "(C) copyright\n",
      "\n",
      "this is a 'double' quotation\n"
     ]
    }
   ],
   "source": [
    "a = 'Hello Python'\n",
    "print(a)\n",
    "print(type(a))\n",
    "\n",
    "b = 'Good Bye'\n",
    "print(b)\n",
    "\n",
    "c = \\\n",
    "'''\n",
    "Desc : This is a test code!\n",
    "date : 2024-06-26\n",
    "(C) copyright\n",
    "'''\n",
    "print(c)\n",
    "\n",
    "d = \"this is a 'double' quotation\"\n",
    "print(d)"
   ]
  },
  {
   "cell_type": "markdown",
   "id": "3b0078d1-3f6e-427f-b1d9-c822dcfa21af",
   "metadata": {},
   "source": [
    "### 문자열의 indexing 과 slicing"
   ]
  },
  {
   "cell_type": "code",
   "execution_count": 69,
   "id": "5f73365a-34f2-4851-b296-6f0faa3c11a7",
   "metadata": {},
   "outputs": [
    {
     "name": "stdout",
     "output_type": "stream",
     "text": [
      "Life is too short, you need python\n",
      "L i f e t i L\n",
      "n o h\n",
      "n\n"
     ]
    }
   ],
   "source": [
    "# indexing : 문자열의 요소를 접근하는 방법, a[index], 처음 0번으로 시작\n",
    "a = 'Life is too short, you need python'\n",
    "print(a)\n",
    "print(a[0],a[1],a[2],a[3],a[8],a[True],a[False]) # True ==> 1, False ==> 0\n",
    "print(a[-1],a[-2],a[-3])\n",
    "print(a[len(a) - 1])\n",
    "b = a[0] #OK\n",
    "# a[0] = 'n' #TypeError: 'str' object does not support item assignment # 불변형 데이터는 요소 수정이 불가"
   ]
  },
  {
   "cell_type": "code",
   "execution_count": 113,
   "id": "a221353b-bbe1-481d-8a09-aff314215c36",
   "metadata": {},
   "outputs": [
    {
     "name": "stdout",
     "output_type": "stream",
     "text": [
      "Lif\n",
      "Life is to\n",
      "o\n",
      "Life is too short, you need python\n",
      "too short, you need python\n",
      "Life is too short, you need pytho\n",
      "pytho\n",
      "Lesosr ue \n",
      "Life is too short, you need python\n",
      "nohtyp deen uoy ,trohs oot si efiL\n"
     ]
    }
   ],
   "source": [
    "# slicing : a[start : end + 1 : step], start <= data < end + 1\n",
    "a = 'Life is too short, you need python'\n",
    "print(a[0:3]) #from 0 to (3-1)\n",
    "print(a[0:10])\n",
    "print(a[9:10])\n",
    "print(a[:]) # 첨부터 끝까지\n",
    "print(a[8:])\n",
    "print(a[:-1:])\n",
    "print(a[-6:-1])\n",
    "print(a[:30:3])\n",
    "print(a[::])\n",
    "print(a[::-1])\n",
    "b = a[:3] # OK!\n",
    "#a[:3] = 'nif' # Fail!"
   ]
  },
  {
   "cell_type": "code",
   "execution_count": null,
   "id": "a7f4cf3c-2f75-4c65-bfb2-8bb38f3ad8ce",
   "metadata": {},
   "outputs": [],
   "source": []
  }
 ],
 "metadata": {
  "kernelspec": {
   "display_name": "Python 3 (ipykernel)",
   "language": "python",
   "name": "python3"
  },
  "language_info": {
   "codemirror_mode": {
    "name": "ipython",
    "version": 3
   },
   "file_extension": ".py",
   "mimetype": "text/x-python",
   "name": "python",
   "nbconvert_exporter": "python",
   "pygments_lexer": "ipython3",
   "version": "3.11.7"
  }
 },
 "nbformat": 4,
 "nbformat_minor": 5
}
