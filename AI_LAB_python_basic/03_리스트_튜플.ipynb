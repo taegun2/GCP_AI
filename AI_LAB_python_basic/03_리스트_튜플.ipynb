{
 "cells": [
  {
   "cell_type": "markdown",
   "id": "5fa0f095-1672-47a0-8018-50cc5b1dcf81",
   "metadata": {},
   "source": [
    "### 리스트(list) : 가변형(nutable), 시퀀스, 가장 유용한 자료형, [] : 대괄호, 중복 허용"
   ]
  },
  {
   "cell_type": "code",
   "execution_count": 12,
   "id": "378a5dd1-8aec-42da-b603-19f784fc3018",
   "metadata": {},
   "outputs": [
    {
     "name": "stdout",
     "output_type": "stream",
     "text": [
      "[1, 2, 3, 4, 5, 6]\n",
      "<class 'list'>\n",
      "['a', 'hello', 1, 3.5, [1, 2, 3, 4, 5, 6], 3.5, 1]\n"
     ]
    }
   ],
   "source": [
    "a = [1,2,3,4,5,6]\n",
    "print(a)\n",
    "print(type(a))\n",
    "\n",
    "b=['a','hello',1,3.5,a,3.5,1]\n",
    "print(b)"
   ]
  },
  {
   "cell_type": "code",
   "execution_count": 32,
   "id": "261590aa-cd9a-424d-b4d3-ef575572c35e",
   "metadata": {},
   "outputs": [
    {
     "name": "stdout",
     "output_type": "stream",
     "text": [
      "[1, 2, 3, 4, 5, 6]\n",
      "1 2 3 4 5 2 1\n",
      "6 5 4\n",
      "6\n"
     ]
    },
    {
     "data": {
      "text/plain": [
       "[10, 2, 3, 4, 5, 6]"
      ]
     },
     "execution_count": 32,
     "metadata": {},
     "output_type": "execute_result"
    }
   ],
   "source": [
    "# 인덱싱 슬라이싱 : 문자열과 동일\n",
    "# indexing : 문자열의 요소를 접근하는 방법, a[index], 처음 0번으로 시작\n",
    "a = [1,2,3,4,5,6]\n",
    "print(a)\n",
    "print(a[0],a[1],a[2],a[3],a[4],a[True],a[False]) # True ==> 1, False ==> 0\n",
    "print(a[-1],a[-2],a[-3])\n",
    "print(a[len(a) - 1])\n",
    "b = a[0] #OK\n",
    "a[0] = 10 # 가변형이므로 요소 변경이 가능하다.\n",
    "a"
   ]
  },
  {
   "cell_type": "code",
   "execution_count": 34,
   "id": "084679f0-308a-4bd2-ad37-3c1280bc6cf4",
   "metadata": {},
   "outputs": [
    {
     "name": "stdout",
     "output_type": "stream",
     "text": [
      "[10, 2, 3]\n",
      "[10, 2, 3, 4, 5]\n",
      "[3, 4, 5]\n",
      "[10, 2, 3, 4, 5, 6]\n",
      "[4, 5, 6]\n",
      "[10, 2, 3, 4, 5]\n",
      "[4, 5]\n",
      "[10, 4]\n",
      "[10, 3, 5]\n",
      "[6, 5, 4, 3, 2, 10]\n"
     ]
    }
   ],
   "source": [
    "# slicing : a[start : end + 1 : step], start <= data < end + 1\n",
    "print(a[0:3]) \n",
    "print(a[0:5])\n",
    "print(a[2:5])\n",
    "\n",
    "print(a[:]) # 첨부터 끝까지\n",
    "print(a[3:])\n",
    "\n",
    "print(a[:-1])\n",
    "print(a[-3:-1])\n",
    "print(a[:5:3])\n",
    "print(a[::2])\n",
    "print(a[::-1])\n",
    "b = a[:3] # OK!\n",
    "a[1:3] = [8,9,10]"
   ]
  },
  {
   "cell_type": "code",
   "execution_count": 46,
   "id": "a8df121e-a2df-413f-b4db-bd4251bc3fb1",
   "metadata": {},
   "outputs": [
    {
     "name": "stdout",
     "output_type": "stream",
     "text": [
      "[6, 8, 10]\n"
     ]
    }
   ],
   "source": [
    "#for 문, if문\n",
    "a = []\n",
    "total = 0\n",
    "for k in range(0,11,2):\n",
    "    #print(k)\n",
    "    if k > 4:\n",
    "        a.append(k)\n",
    "print(a)"
   ]
  },
  {
   "cell_type": "code",
   "execution_count": 60,
   "id": "e5bdae1c-660e-46e6-aabc-b03d48731990",
   "metadata": {},
   "outputs": [
    {
     "name": "stdout",
     "output_type": "stream",
     "text": [
      "[0, 2, 4, 6, 8, 10]\n"
     ]
    }
   ],
   "source": [
    "# 리스트 내장(List Comprehension) : 파이썬 스타일(Pythonic), 필수 암기\n",
    "a = [k for k in range(0,11,2)]\n",
    "print(a)"
   ]
  },
  {
   "cell_type": "code",
   "execution_count": 64,
   "id": "65e95189-49aa-4b0e-9131-564954d11b2d",
   "metadata": {},
   "outputs": [
    {
     "name": "stdout",
     "output_type": "stream",
     "text": [
      "[6, 8, 10]\n",
      "[6, 9]\n"
     ]
    }
   ],
   "source": [
    "# 조건식이 포함된 리스트 내장\n",
    "a = [k for k in range(0,11,2) if k > 4]\n",
    "print(a)\n",
    "\n",
    "b = [k for k in range(0,10) if (k%3 == 0) and (k > 4)]\n",
    "print(b)"
   ]
  },
  {
   "cell_type": "markdown",
   "id": "3fc53f22-3c0d-4904-96dc-7fa0c8166ec4",
   "metadata": {},
   "source": [
    "### 튜플(tuple) : 불변형(immutable), 시퀀스형, (): 소괄호 사용"
   ]
  },
  {
   "cell_type": "code",
   "execution_count": 93,
   "id": "424e6f9f-3732-41bd-92a4-3dd4293ea67e",
   "metadata": {},
   "outputs": [
    {
     "name": "stdout",
     "output_type": "stream",
     "text": [
      "(1, 2, 3, 4, 5)\n",
      "<class 'tuple'>\n"
     ]
    }
   ],
   "source": [
    "a = (1,2,3,4,5)\n",
    "print(a)\n",
    "print(type(a))"
   ]
  },
  {
   "cell_type": "code",
   "execution_count": 95,
   "id": "4df53015-3f0f-4ba1-adca-ae9ac406c645",
   "metadata": {},
   "outputs": [
    {
     "name": "stdout",
     "output_type": "stream",
     "text": [
      "1 2 3 5 4\n"
     ]
    }
   ],
   "source": [
    "#인덱싱\n",
    "print(a[0],a[1],a[2],a[-1],a[-2])\n",
    "#a[0] = 10"
   ]
  },
  {
   "cell_type": "code",
   "execution_count": 71,
   "id": "634dce37-661e-4ad7-851a-9994dee3a6c8",
   "metadata": {},
   "outputs": [
    {
     "name": "stdout",
     "output_type": "stream",
     "text": [
      "(10, 2, 3, 4, 5)\n"
     ]
    }
   ],
   "source": [
    "b = list(a)\n",
    "b[0] = 10\n",
    "b = tuple(b)\n",
    "print(b)"
   ]
  },
  {
   "cell_type": "code",
   "execution_count": 85,
   "id": "5aa1e665-b2a2-41a0-95bb-37b652b90a48",
   "metadata": {},
   "outputs": [
    {
     "name": "stdout",
     "output_type": "stream",
     "text": [
      "<class 'tuple'>\n",
      "1\n"
     ]
    }
   ],
   "source": [
    "# 패킹(packing), 언패킹 튜플\n",
    "t = 1,2,'hello' #괄호 생략 가능, 쉼표로 데이터가 구분되어 있으면 튜플, 패킹\n",
    "print(type(t))\n",
    "x,y,z = t       # 언패킹\n",
    "print(int(x))"
   ]
  },
  {
   "cell_type": "code",
   "execution_count": 97,
   "id": "8775de54-b173-4e0b-b1ae-008c0ae15a2b",
   "metadata": {},
   "outputs": [],
   "source": [
    "a,b,c = 10,20,'hi' # 언패킹"
   ]
  },
  {
   "cell_type": "code",
   "execution_count": 99,
   "id": "a1e0993f-448d-4e0c-9f97-673715d46c91",
   "metadata": {},
   "outputs": [],
   "source": [
    "a,b,c = 10,20,30 # 튜플을 언패킹해서 들어감"
   ]
  },
  {
   "cell_type": "code",
   "execution_count": 111,
   "id": "53e9e2b9-015b-4751-838a-742dcc0159de",
   "metadata": {},
   "outputs": [
    {
     "name": "stdout",
     "output_type": "stream",
     "text": [
      "<class 'int'>\n",
      "<class 'tuple'>\n",
      "<class 'tuple'>\n"
     ]
    }
   ],
   "source": [
    "a = (10)\n",
    "print(type(a))\n",
    "a = (10,)\n",
    "print(type(a))\n",
    "a = 10,\n",
    "print(type(a))"
   ]
  },
  {
   "cell_type": "code",
   "execution_count": 115,
   "id": "735f4888-1d66-4299-90d3-d46505682b62",
   "metadata": {},
   "outputs": [],
   "source": [
    "t = (1,2,3,4,5,6,7)\n",
    "#a,b = t\n",
    "a,b,_,c,_,_,d=t"
   ]
  },
  {
   "cell_type": "code",
   "execution_count": 133,
   "id": "ca402f3d-de17-4181-98aa-1edf18fe510c",
   "metadata": {},
   "outputs": [
    {
     "name": "stdout",
     "output_type": "stream",
     "text": [
      "1\n",
      "[2, 3, 4, 5, 6, 7]\n"
     ]
    }
   ],
   "source": [
    "# 확장된 언패킹\n",
    "a,*b = t # b에 남은 인자 모두\n",
    "print(a)\n",
    "print(b)\n",
    "*a,b = t\n",
    "a,b,*c = t\n",
    "\n",
    "#a,*b,*c = t  -- fail"
   ]
  },
  {
   "cell_type": "code",
   "execution_count": 147,
   "id": "f0d951fd-cb56-4752-ab2a-a4c84a9b0685",
   "metadata": {},
   "outputs": [
    {
     "name": "stdout",
     "output_type": "stream",
     "text": [
      "2 1\n",
      "2 1\n"
     ]
    }
   ],
   "source": [
    "# 두 개의 값을 서로 변경하는 코드\n",
    "# x:1, y:2\n",
    "# (1) 전통 언어 방식\n",
    "x = 1\n",
    "y = 2\n",
    "temp = x\n",
    "x = y\n",
    "y = temp\n",
    "print(x,y)\n",
    "# (2) 파이썬 방식(튜플의 언패킹 사용)\n",
    "x,y = 1,2\n",
    "x,y = y,x\n",
    "print(x,y)s"
   ]
  },
  {
   "cell_type": "code",
   "execution_count": null,
   "id": "f0d1d2f8-783a-41ee-a541-472b3661a07a",
   "metadata": {},
   "outputs": [],
   "source": []
  }
 ],
 "metadata": {
  "kernelspec": {
   "display_name": "Python 3 (ipykernel)",
   "language": "python",
   "name": "python3"
  },
  "language_info": {
   "codemirror_mode": {
    "name": "ipython",
    "version": 3
   },
   "file_extension": ".py",
   "mimetype": "text/x-python",
   "name": "python",
   "nbconvert_exporter": "python",
   "pygments_lexer": "ipython3",
   "version": "3.11.7"
  }
 },
 "nbformat": 4,
 "nbformat_minor": 5
}
