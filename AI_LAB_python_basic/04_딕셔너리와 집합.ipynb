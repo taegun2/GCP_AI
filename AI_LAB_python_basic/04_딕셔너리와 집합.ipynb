{
 "cells": [
  {
   "cell_type": "markdown",
   "id": "7e1306e6-24fd-4470-8c86-4c0f4ee61fc3",
   "metadata": {},
   "source": [
    "### 사전(dict): 가변형(nutable), 순서가 없다, 연관형, 매핑형, {}: 중괄호 사용\n",
    "##### {key: value,.....}, key는 반드시 immutable형 이어야 한다(숫자형,문자형,튜플)\n",
    "##### value는 nutable,immutable 모두 사용 가능하다"
   ]
  },
  {
   "cell_type": "code",
   "execution_count": null,
   "id": "620dc25d-17cc-494b-a899-44c6fee2efde",
   "metadata": {},
   "outputs": [],
   "source": []
  },
  {
   "cell_type": "code",
   "execution_count": null,
   "id": "fc8db8cf-e3bb-4d10-9296-f7c8476695c1",
   "metadata": {},
   "outputs": [],
   "source": []
  }
 ],
 "metadata": {
  "kernelspec": {
   "display_name": "Python 3 (ipykernel)",
   "language": "python",
   "name": "python3"
  },
  "language_info": {
   "codemirror_mode": {
    "name": "ipython",
    "version": 3
   },
   "file_extension": ".py",
   "mimetype": "text/x-python",
   "name": "python",
   "nbconvert_exporter": "python",
   "pygments_lexer": "ipython3",
   "version": "3.11.7"
  }
 },
 "nbformat": 4,
 "nbformat_minor": 5
}
