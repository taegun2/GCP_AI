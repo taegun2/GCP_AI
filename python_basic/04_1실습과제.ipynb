{
 "cells": [
  {
   "cell_type": "markdown",
   "id": "0c184c02-e3dc-42c9-89ad-7a3180bd3b8b",
   "metadata": {},
   "source": [
    "### 숫자형 실습 과제"
   ]
  },
  {
   "cell_type": "code",
   "execution_count": 21,
   "id": "1845620e-dc68-4aaf-8e42-102b9ec629df",
   "metadata": {},
   "outputs": [
    {
     "name": "stdin",
     "output_type": "stream",
     "text": [
      "거리를 입력하시오 : 10\n",
      "속도를 입력하시오 : 5\n"
     ]
    },
    {
     "name": "stdout",
     "output_type": "stream",
     "text": [
      "걸리는 시간 :  2.0\n"
     ]
    }
   ],
   "source": [
    "# 1. 속도와 거리를 입력받아 시간을 계산하여   출력하는 프로그램\n",
    "s = int(input('거리를 입력하시오 :'))\n",
    "v = int(input('속도를 입력하시오 :'))\n",
    "t = s / v\n",
    "print('걸리는 시간 : ',t)"
   ]
  },
  {
   "cell_type": "code",
   "execution_count": 23,
   "id": "1a79bcbd-c4f9-48c6-92c8-d7d65ed64df7",
   "metadata": {},
   "outputs": [
    {
     "name": "stdin",
     "output_type": "stream",
     "text": [
      "길이를 입력하시오 : 10\n",
      "너비를 입력하시오 : 5\n"
     ]
    },
    {
     "name": "stdout",
     "output_type": "stream",
     "text": [
      "면적 : 50\n",
      "둘레 : 30\n"
     ]
    }
   ],
   "source": [
    "# 2. 길이와 너비를 입력받아 면적과 둘레를  계산하여 출력하는 프로그램\n",
    "h = int(input('길이를 입력하시오 :'))\n",
    "w = int(input('너비를 입력하시오 :'))\n",
    "s = h * w\n",
    "r = h*2 + w*2\n",
    "print('면적 :',s)\n",
    "print('둘레 :',r)"
   ]
  },
  {
   "cell_type": "code",
   "execution_count": 27,
   "id": "e1f7ee47-05b2-433b-ab9c-e3c45cd424ae",
   "metadata": {},
   "outputs": [
    {
     "name": "stdin",
     "output_type": "stream",
     "text": [
      "화씨온도를 입력하세요: 58\n"
     ]
    },
    {
     "name": "stdout",
     "output_type": "stream",
     "text": [
      "14.444444444444445\n"
     ]
    }
   ],
   "source": [
    "# 3. 화씨 온도를 입력받아 섭씨 온도로 변환하는 프로그램\n",
    "qwe = int(input('화씨온도를 입력하세요:'))\n",
    "ewq = (qwe - 32) / 1.8\n",
    "print(ewq)"
   ]
  },
  {
   "cell_type": "code",
   "execution_count": 29,
   "id": "3d8f952f-4a42-4576-b134-c49d555d7639",
   "metadata": {},
   "outputs": [
    {
     "name": "stdin",
     "output_type": "stream",
     "text": [
      "첫 번째 : 10\n",
      "두 번째 : 3\n"
     ]
    },
    {
     "name": "stdout",
     "output_type": "stream",
     "text": [
      "13\n",
      "7\n",
      "30\n",
      "3\n",
      "1\n"
     ]
    }
   ],
   "source": [
    "# 4. 두 수를 입력받아 덧셈, 뺄셈, 곱셈, 몫, 나머지를 출력하는 프로그램\n",
    "a=int(input(\"첫 번째 :\"))\n",
    "b=int(input(\"두 번째 :\"))\n",
    "print(a+b)\n",
    "print(a-b)\n",
    "print(a*b)\n",
    "print(a//b)\n",
    "print(a%b)"
   ]
  },
  {
   "cell_type": "markdown",
   "id": "cf8fa157-6b5f-45fc-bb58-75fae87ea2f5",
   "metadata": {},
   "source": [
    "### 문자열 실습 과제"
   ]
  },
  {
   "cell_type": "code",
   "execution_count": 54,
   "id": "c3f49076-cbe6-4fc4-a836-4fd314f04ae0",
   "metadata": {},
   "outputs": [
    {
     "name": "stdout",
     "output_type": "stream",
     "text": [
      "Name :  hong gil dong\n",
      "Birthday :  2021/04/21\n",
      "ID Number :  20210421-1623210\n"
     ]
    }
   ],
   "source": [
    "# 1. s = 'hong gil dong202104211623210' 을 다음과 같이 출력하시오\n",
    "\t\n",
    "#\t    Name : hong gil dong\n",
    "#\t    Birthday : 2021/04/21\n",
    "#\t    ID Number : 20210421-1623210 \n",
    "s = 'hong gil dong202104211623210'\n",
    "print(\"Name : \",s[0:13])\n",
    "bir = s[13:17]+'/'+s[17:19] + '/'+s[19:21]\n",
    "print(\"Birthday : \",bir)\n",
    "id = s[13:21] + '-' + s[21:]\n",
    "print(\"ID Number : \",id)"
   ]
  },
  {
   "cell_type": "code",
   "execution_count": 58,
   "id": "5891232a-804a-4f5f-8c3e-d3febdf0b0d6",
   "metadata": {},
   "outputs": [
    {
     "name": "stdout",
     "output_type": "stream",
     "text": [
      "ProgrammingPython\n"
     ]
    }
   ],
   "source": [
    "#2. s = 'PythonProgramming' 내용을 문자열 슬라이싱과 문자열 \n",
    "#       연결하기를 이용하여   'ProgrammingPython' 으로 변경하여 출력하시오.\n",
    "s = 'PythonProgramming'\n",
    "print(s[6:]+s[0:6])"
   ]
  },
  {
   "cell_type": "code",
   "execution_count": 76,
   "id": "f699c4f2-78bd-4301-80f3-2748beae67a1",
   "metadata": {},
   "outputs": [
    {
     "name": "stdout",
     "output_type": "stream",
     "text": [
      "hi world\n"
     ]
    }
   ],
   "source": [
    "#3. s = 'hello world'의 내용을 'hi world'로 변경하여 출력하시오.\n",
    "s = 'hello world'\n",
    "print('hi' + ' ' + s[s.find( 'world' ): ])"
   ]
  },
  {
   "cell_type": "markdown",
   "id": "920fd138-b421-416e-be4a-474e451ace8a",
   "metadata": {},
   "source": [
    "### 리스트 실습 과제"
   ]
  },
  {
   "cell_type": "code",
   "execution_count": 136,
   "id": "2f152da4-743f-4815-acff-7fdf7b6aad66",
   "metadata": {},
   "outputs": [
    {
     "name": "stdin",
     "output_type": "stream",
     "text": [
      " 10 5\n",
      "what : 0\n"
     ]
    },
    {
     "name": "stdout",
     "output_type": "stream",
     "text": [
      "<class 'str'>\n",
      "<class 'str'>\n",
      "<class 'int'>\n",
      "15\n"
     ]
    }
   ],
   "source": [
    "# 리스트에 '+', '-', '*', '/'를 저장해 놓고 정수 2개를 입력 받고 계산 방식은\n",
    "#   정수로 입력받아 해당 연산을 수행하는 프로그램을 작성하시오(선택옵션:eval()함수를 사용하세요)\n",
    "li_1 = ['+','-','*','/']\n",
    "a,b = input().split()\n",
    "c = int(input(\"what :\"))\n",
    "a1 = eval(a + li_1[c] + b)\n",
    "print(a1)"
   ]
  },
  {
   "cell_type": "code",
   "execution_count": 130,
   "id": "8dcdd996-3122-48af-a37e-e4414bc32b6f",
   "metadata": {},
   "outputs": [
    {
     "name": "stdout",
     "output_type": "stream",
     "text": [
      "========================4=========================\n"
     ]
    },
    {
     "name": "stdin",
     "output_type": "stream",
     "text": [
      "Input number1 :  10\n",
      "Input number2 :  5\n",
      "Input operator( 1:+, 2:-, 3:*, 4:/ ) :  1\n"
     ]
    },
    {
     "name": "stdout",
     "output_type": "stream",
     "text": [
      "\n",
      "number1 :   10  \n",
      "number2 :   5   \n",
      "  10    +    5    = 15.00\n"
     ]
    }
   ],
   "source": [
    "# 2. 1 ~ n까지 합을 출력하는 프로그램을  리스트를 이용하여 작성하시오.\n",
    "#    (range(),sum()함수를 사용하세요, 최대값 n을 input()함수로 입력 받아 사용하세요)\n",
    "#\t\n",
    "#        <힌트>  >>>mylist = [0,1,2,3,4,5,6,7,8,9,10]\n",
    "#                >>>sum(mylist)\n",
    "#                          55"
   ]
  },
  {
   "cell_type": "code",
   "execution_count": 102,
   "id": "878051cb-b7dd-46b9-93f2-1b8020ec9d05",
   "metadata": {},
   "outputs": [
    {
     "name": "stdin",
     "output_type": "stream",
     "text": [
      "최대값 : 10\n"
     ]
    },
    {
     "name": "stdout",
     "output_type": "stream",
     "text": [
      "[1, 2, 4, 7, 8]\n",
      "22\n"
     ]
    }
   ],
   "source": [
    "# 4. 1 ~ n까지 3의 배수와 5의 배수를 제외한 수를 출력하고 그 합을 출력하는 \n",
    "# 프로그램을 작성하시오. (최대값 n을 input()함수로 입력 받아 사용하세요)\n",
    "n = int(input('최대값 :'))\n",
    "sum = 0\n",
    "ans = [i for i in range (0,n+1) if not (i % 3 == 0) and  not (i % 5 == 0)]\n",
    "for i in ans :\n",
    "    sum += i\n",
    "print(ans)\n",
    "print(sum)"
   ]
  },
  {
   "cell_type": "code",
   "execution_count": null,
   "id": "8a4280b7-841a-4494-b93f-407216bca044",
   "metadata": {},
   "outputs": [],
   "source": []
  }
 ],
 "metadata": {
  "kernelspec": {
   "display_name": "Python 3 (ipykernel)",
   "language": "python",
   "name": "python3"
  },
  "language_info": {
   "codemirror_mode": {
    "name": "ipython",
    "version": 3
   },
   "file_extension": ".py",
   "mimetype": "text/x-python",
   "name": "python",
   "nbconvert_exporter": "python",
   "pygments_lexer": "ipython3",
   "version": "3.11.7"
  }
 },
 "nbformat": 4,
 "nbformat_minor": 5
}
