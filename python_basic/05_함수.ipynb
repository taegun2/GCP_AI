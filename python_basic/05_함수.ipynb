{
 "cells": [
  {
   "cell_type": "markdown",
   "id": "cf3e6c5d-9584-4013-8f0e-4dc7fad16eb3",
   "metadata": {},
   "source": [
    "### 함수(function)"
   ]
  },
  {
   "cell_type": "code",
   "execution_count": null,
   "id": "3bcbc300-d233-4c57-9538-3e99d43122e3",
   "metadata": {},
   "outputs": [],
   "source": [
    "# 함수 구현 방법\n",
    "# '''\n",
    "# def 함수명(매개변수 , ...):\n",
    "#     <수행할 문장 1>\n",
    "#     <수행할 문장 2>\n",
    "#     <수행할 문장 3>\n",
    "#     ..\n",
    "#     return 반환할 값\n",
    "# '''"
   ]
  },
  {
   "cell_type": "code",
   "execution_count": 12,
   "id": "58507bb6-21b3-47d2-be6f-65d598cfa9e7",
   "metadata": {},
   "outputs": [
    {
     "name": "stdout",
     "output_type": "stream",
     "text": [
      "<class 'function'>\n",
      "add is called!\n",
      "subtract is called!\n",
      "multiply is called!\n",
      "divide is called!\n",
      "30\n",
      "10\n",
      "200\n",
      "2.0\n"
     ]
    }
   ],
   "source": [
    "# 함수정의\n",
    "def add(a,b):\n",
    "    c = a + b\n",
    "    print('add is called!')\n",
    "    return c\n",
    "\n",
    "def subtract(a,b):\n",
    "    c = a - b\n",
    "    print('subtract is called!')\n",
    "    return c\n",
    "\n",
    "def multiply(a,b):\n",
    "    c = a * b\n",
    "    print('multiply is called!')\n",
    "    return c\n",
    "\n",
    "def divide(a,b):\n",
    "    c = a / b\n",
    "    print('divide is called!')\n",
    "    return c\n",
    " \n",
    "    \n",
    "\n",
    "print(type(add))    #class 'function'\n",
    "#dir(add)            # '__call__' : 호출 가능\n",
    "\n",
    "# 함수 호출\n",
    "c = add(10,20)\n",
    "print(c)\n",
    "c = subtract(20,10)\n",
    "print(c)\n",
    "c = multiply(10,20)\n",
    "print(c)\n",
    "c = divide(20,10)\n",
    "print(c)\n"
   ]
  },
  {
   "cell_type": "code",
   "execution_count": 18,
   "id": "3abf3d2c-357f-419f-9781-b0e289b0b9cd",
   "metadata": {},
   "outputs": [],
   "source": [
    "### 함수 구현 순서\n",
    "#### (1) def를 사용하고 함수이름을 결정\n",
    "#### (2) 매개변수(인자)를 결정\n",
    "#### (3) 인자를 사용하여 처리하는 코드를 구현\n",
    "#### (4) return 을 사용하여 결과값을 반환\n",
    "#### (5) 인자를 설정하여 함수를 호출하여 결과를 확인"
   ]
  },
  {
   "cell_type": "code",
   "execution_count": 24,
   "id": "e58c1ed0-ded9-423d-8be3-34bfd0787a08",
   "metadata": {},
   "outputs": [
    {
     "name": "stdout",
     "output_type": "stream",
     "text": [
      "f_1 is called\n",
      "None\n",
      "<class 'NoneType'>\n"
     ]
    }
   ],
   "source": [
    "# 함수의 유형 4가지\n",
    "# [1] 반환값이 없고 인자도 없는 경우\n",
    "def f_1():\n",
    "    print('f_1 is called')\n",
    "print(f_1())\n",
    "print(type(None))\n"
   ]
  },
  {
   "cell_type": "code",
   "execution_count": 26,
   "id": "fcbff723-6957-400d-a451-fcb3ce30bffd",
   "metadata": {},
   "outputs": [
    {
     "name": "stdout",
     "output_type": "stream",
     "text": [
      "f_2 is called\n",
      "13 7\n",
      "None\n"
     ]
    }
   ],
   "source": [
    "# [2] 반환값이 없고 인자는 있는 경우\n",
    "def f_2(a,b):\n",
    "    print('f_2 is called')\n",
    "    print(a + b, a - b)\n",
    "print(f_2(10,3))\n"
   ]
  },
  {
   "cell_type": "code",
   "execution_count": 36,
   "id": "f5539011-e016-4e6b-8f51-f68200f2ebf5",
   "metadata": {},
   "outputs": [
    {
     "name": "stdout",
     "output_type": "stream",
     "text": [
      "f_3  is called\n",
      "('Bread', 'butter', 100, [1, 2, 3])\n",
      "<class 'tuple'>\n",
      "f_3  is called\n",
      "Bread butter 100 [1, 2, 3]\n"
     ]
    }
   ],
   "source": [
    "# [3] 반환값이 있고 인자는 없는 경우\n",
    "def f_3():\n",
    "    print('f_3  is called')\n",
    "    return 'Bread','butter',100,[1,2,3]\n",
    "    \n",
    "ret = f_3()      #언패킹\n",
    "print(ret)\n",
    "print(type(ret))\n",
    "a,b,c,d = f_3()   #튜플의 언패킹\n",
    "print(a,b,c,d)"
   ]
  },
  {
   "cell_type": "code",
   "execution_count": 38,
   "id": "a825eed6-e208-486a-b8ef-5b205bf934dd",
   "metadata": {},
   "outputs": [
    {
     "name": "stdout",
     "output_type": "stream",
     "text": [
      "f_4  is called\n",
      "(8, -2, 15, 0.6)\n"
     ]
    }
   ],
   "source": [
    "# [4] 반환값이 있고 인자도 있는 경우\n",
    "def f_4(a,b):\n",
    "    print('f_4  is called')\n",
    "    return a+b,a-b,a*b,a/b\n",
    "print(f_4(3,5))"
   ]
  },
  {
   "cell_type": "code",
   "execution_count": 56,
   "id": "2cb1edf0-9f0f-48f3-9236-5ac3dc97b973",
   "metadata": {},
   "outputs": [
    {
     "name": "stdout",
     "output_type": "stream",
     "text": [
      "(5, 3)\n",
      "(5, 3)\n",
      "('yes', 'hello')\n",
      "('yes', 'hello')\n"
     ]
    }
   ],
   "source": [
    "# 문제 1 : 두개의 정수형 인자를 주면, 큰 수, 작은 수의 순서로 반환하는 함수 order()를 구현\n",
    "# 3,5 ==> 5,3\n",
    "# 5,3 ==> 5,3\n",
    "def order(a,b):\n",
    "    if(b>a):\n",
    "        a,b = b,a\n",
    "    return a,b\n",
    "\n",
    "print(order(3,5))\n",
    "print(order(5,3))\n",
    "print(order('hello','yes'))\n",
    "print(('yes','hello'))"
   ]
  },
  {
   "cell_type": "code",
   "execution_count": 64,
   "id": "f72732c3-e812-49ff-8fbb-1ae6559444d5",
   "metadata": {},
   "outputs": [
    {
     "name": "stdout",
     "output_type": "stream",
     "text": [
      "Global: 10\n",
      "foo: 20\n",
      "bar: 30 20\n"
     ]
    }
   ],
   "source": [
    "# 함수 사용시 변수의 유효 범위 규칙 (Scope Rule)\n",
    "# local 변수 : 지역 변수  , 변수가 선언된 함수내에서만 사용가능\n",
    "# global 변수 : 전역 변수 , 모든 함수안에서 접근 가능\n",
    "# LEGB 규칙 : Local > Enclosing Function Local > Global > Built-in\n",
    "# 핵심 : 지역변수가 전역변수보다 우선한다!!\n",
    "\n",
    "x = 10  # G:전역변수(Global Variable)\n",
    "y = 11  # G:전역변수(Global Variable)\n",
    "\n",
    "def foo():\n",
    "    x = 20          # L:지역변수(Local variable)\n",
    "    print('foo:',x)\n",
    "\n",
    "    def bar():          \n",
    "        a = 30          # L:지역변수(Local variable)   \n",
    "        print('bar:',a,x)   # a : L, x : E\n",
    "    bar()\n",
    "\n",
    "print('Global:',x)\n",
    "foo()"
   ]
  },
  {
   "cell_type": "markdown",
   "id": "76e28caa-2701-4edc-be5d-0744fdf8a8e1",
   "metadata": {},
   "source": [
    "### 일급함수(First Class Function) : 함수이름을 변수처럼 사용가능하다\n",
    "#### (1) 함수객체를 다른 함수의 인자로 전달할 수 있다\n",
    "#### (2) 함수객체를 반환 값으로 전달할 수 있다\n",
    "#### (3) 함수객체를 다른 자료 구조에 저장해서 사용 가능"
   ]
  },
  {
   "cell_type": "code",
   "execution_count": 71,
   "id": "787bb816-e877-4784-ad4a-407bcc016dff",
   "metadata": {},
   "outputs": [
    {
     "name": "stdout",
     "output_type": "stream",
     "text": [
      "func_two is called!\n",
      "add_two is called!\n",
      "30\n"
     ]
    }
   ],
   "source": [
    "#### (1) 함수객체를 다른 함수의 인자로 전달할 수 있다\n",
    "def add_two(a,b):\n",
    "    print('add_two is called!')\n",
    "    return a + b\n",
    "#b = add_two\n",
    "#b(10,20)\n",
    "\n",
    "def func_two(func,a,b):\n",
    "    print('func_two is called!')\n",
    "    result = func(a,b)\n",
    "    return result \n",
    "result = func_two(add_two,10,20)\n",
    "print(result)"
   ]
  },
  {
   "cell_type": "code",
   "execution_count": 73,
   "id": "79cec784-8c1c-4a19-82b3-61a1e38c6169",
   "metadata": {},
   "outputs": [
    {
     "name": "stdout",
     "output_type": "stream",
     "text": [
      "foo2 is called!!\n",
      "<class 'function'>\n",
      "bar2 is called!!\n"
     ]
    }
   ],
   "source": [
    "# (2) 함수객체를 반환 값으로 전달할 수 있다\n",
    "def foo2():\n",
    "    print('foo2 is called!!')\n",
    "    \n",
    "    def bar2():\n",
    "        print('bar2 is called!!')\n",
    "        \n",
    "    return bar2    \n",
    "\n",
    "ret = foo2()\n",
    "print(type(ret))\n",
    "ret()"
   ]
  },
  {
   "cell_type": "code",
   "execution_count": 89,
   "id": "73f58d02-c0d1-4127-8dee-9b5dfeca7455",
   "metadata": {},
   "outputs": [
    {
     "name": "stdout",
     "output_type": "stream",
     "text": [
      "[<function add at 0x000001FF68B03600>, <function subtract at 0x000001FF662728E0>, <function multiply at 0x000001FF66272F20>, <function divide at 0x000001FF66272CA0>]\n",
      "add is called!\n",
      "30\n",
      "subtract is called!\n",
      "-10\n",
      "multiply is called!\n",
      "200\n",
      "divide is called!\n",
      "0.5\n",
      "--------------------\n",
      "add is called!\n",
      "30\n",
      "subtract is called!\n",
      "-10\n",
      "multiply is called!\n",
      "200\n",
      "divide is called!\n",
      "0.5\n"
     ]
    }
   ],
   "source": [
    "#### (3) 함수객체를 다른 자료 구조에 저장해서 사용 가능\n",
    "def add(a,b):\n",
    "    c = a+b\n",
    "    print('add is called!')\n",
    "    return c\n",
    "\n",
    "def divided(a,b):\n",
    "    c = a/b\n",
    "    print('divide is called')\n",
    "    return c\n",
    "\n",
    "# list 사용\n",
    "func_list = [add,subtract,multiply,divide]\n",
    "print(func_list)\n",
    "\n",
    "print(func_list[0](10,20))\n",
    "print(func_list[1](10,20))\n",
    "print(func_list[2](10,20))\n",
    "print(func_list[3](10,20))\n",
    "\n",
    "print('-'*20)\n",
    "for k in func_list:\n",
    "    print(k(10,20))"
   ]
  },
  {
   "cell_type": "markdown",
   "id": "42bcaf0a-28e3-4760-b3af-dba38f265481",
   "metadata": {},
   "source": [
    "### 람다(lambda) 함수 , 람다식\n",
    "#### : 한줄 짜리 함수식, 식을 정의하는 순간 바로 함수 객체로 사용, 바로 인수로 전달할 수 있다, def 키워드를 사용하지 않는다\n",
    "#### 함수명 = lambda 인수1,인수2,.. : 반환할 식"
   ]
  },
  {
   "cell_type": "code",
   "execution_count": 95,
   "id": "9f555266-7070-47db-819d-0b87f0859a00",
   "metadata": {},
   "outputs": [
    {
     "name": "stdout",
     "output_type": "stream",
     "text": [
      "<class 'function'>\n",
      "<class 'function'>\n"
     ]
    },
    {
     "data": {
      "text/plain": [
       "30"
      ]
     },
     "execution_count": 95,
     "metadata": {},
     "output_type": "execute_result"
    }
   ],
   "source": [
    "def add(a,b):\n",
    "    return a + b\n",
    "add(3,4)\n",
    "add(10,20)\n",
    "print(type(add))\n",
    "\n",
    "add_new = lambda a,b : a + b\n",
    "print(type(add_new))\n",
    "add_new(10,20)"
   ]
  },
  {
   "cell_type": "code",
   "execution_count": 116,
   "id": "45377985-ea2b-4baa-9110-d2fa312c1757",
   "metadata": {},
   "outputs": [
    {
     "name": "stdout",
     "output_type": "stream",
     "text": [
      "[2, 5, 10, 17]\n",
      "[3, 5, 7, 9]\n",
      "[3, 13, 37, 81]\n"
     ]
    }
   ],
   "source": [
    "def g(func):\n",
    "    return [func(x) for x in range(1,5)]\n",
    "\n",
    "print(g(lambda x : x*x + 1))\n",
    "print(g(lambda x : 2*x + 1))\n",
    "print(g(lambda x : x**3 + x**2  + 1))"
   ]
  },
  {
   "cell_type": "markdown",
   "id": "95e36015-9ed0-47d6-b17b-95b8d9e0674b",
   "metadata": {},
   "source": [
    "### 파이썬 내장(Built-in) 함수\n",
    ":map()/max()/min()/sum()/round()/id()/hex()/zip()등 다양한 내장 함수가 존재"
   ]
  },
  {
   "cell_type": "code",
   "execution_count": 139,
   "id": "94a19166-7d53-40ad-8b63-971eb83eca3a",
   "metadata": {},
   "outputs": [
    {
     "name": "stdout",
     "output_type": "stream",
     "text": [
      "<class 'map'>\n",
      "multi_two is called!!\n",
      "multi_two is called!!\n",
      "multi_two is called!!\n",
      "multi_two is called!!\n",
      "multi_two is called!!\n",
      "multi_two is called!!\n",
      "[2, 4, 6, 8, 10, 12]\n"
     ]
    }
   ],
   "source": [
    "# map()함수\n",
    "def multi_two(x):\n",
    "    print('multi_two is called!!')\n",
    "    return x*2\n",
    "\n",
    "ret = map(multi_two, [1,2,3,4,5,6])   # map객체를 생성 \n",
    "print(type(ret))                      # <class 'map'>\n",
    "print(list(ret))  # list로 형 변환 , map객체로 데이터 접근시에 함수가 실제 호출됨"
   ]
  },
  {
   "cell_type": "code",
   "execution_count": 151,
   "id": "3ad1b7ff-3f92-4873-b574-780e69ca6e78",
   "metadata": {},
   "outputs": [
    {
     "name": "stdout",
     "output_type": "stream",
     "text": [
      "[2, 4, 6, 8, 10, 12]\n",
      "<map object at 0x000001FF673DA320>\n"
     ]
    }
   ],
   "source": [
    "# 문제 : 아래 코드를 람다 함수를 사용하여 구현해 보세요(def를 사용하지 않고 람다식으로 함수객체 생성)\n",
    "# def multi_two(x):     # 함수를 반복해서 재사용할 예정인 경우에는 def를 사용한다\n",
    "#     return x*2\n",
    "\n",
    "# ret = map(multi_two,[1,2,3,4,5,6])\n",
    "# print(list(ret))\n",
    "ret = map(lambda x : x*2, [1,2,3,4,5,6])\n",
    "print(list(ret))"
   ]
  },
  {
   "cell_type": "code",
   "execution_count": null,
   "id": "dfc69c0f-963c-4835-97c4-fab56dae52f0",
   "metadata": {},
   "outputs": [],
   "source": []
  }
 ],
 "metadata": {
  "kernelspec": {
   "display_name": "Python 3 (ipykernel)",
   "language": "python",
   "name": "python3"
  },
  "language_info": {
   "codemirror_mode": {
    "name": "ipython",
    "version": 3
   },
   "file_extension": ".py",
   "mimetype": "text/x-python",
   "name": "python",
   "nbconvert_exporter": "python",
   "pygments_lexer": "ipython3",
   "version": "3.11.7"
  }
 },
 "nbformat": 4,
 "nbformat_minor": 5
}
