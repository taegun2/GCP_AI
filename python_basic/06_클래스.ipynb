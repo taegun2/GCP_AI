{
 "cells": [
  {
   "cell_type": "markdown",
   "metadata": {},
   "source": [
    "### 클래스(Class)"
   ]
  },
  {
   "cell_type": "code",
   "execution_count": 1,
   "metadata": {},
   "outputs": [],
   "source": [
    "* 파이썬 클래스 관련 용어\n",
    "(1) 클래스(class) : class 문으로 정의하며, 멤버와 메서드를 가지는 객체이다, 새로운 이름 공간을 갖는 단위\n",
    "(2) 클래스 객체(class object) : 클래스와 같은 의미\n",
    "\n",
    "(3) 클래스 인스턴스  : 클래스를 호출하여 생성된 객체  \n",
    "(4) 클래스 인스턴스 객체 : 클래스 인스턴스와 같은 의미\n",
    "\n",
    "(5) 멤버 : 클래스 혹은 클래스 인스턴스 공간에 정의 된 변수\n",
    "(6) 메서드 : 클래스 공간에 정의된 함수, def 사용\n",
    "(7) 속성(Attribute) : 멤버와 메서드 전체를 가리킨다\n",
    "\n",
    "(8) 상속 : 상위 클래스의 속성과 행동을 그대로 받아들이고 추가로 필요한 기능"
   ]
  },
  {
   "cell_type": "code",
   "execution_count": 9,
   "metadata": {},
   "outputs": [
    {
     "name": "stdout",
     "output_type": "stream",
     "text": [
      "<class '__main__.Simple'>\n",
      "<__main__.Simple object at 0x000002144B5BB430>\n",
      "<__main__.Simple object at 0x000002144B5BBB50>\n"
     ]
    }
   ],
   "source": [
    "# class 클래스 이름 :\n",
    "#        속성 .... \n",
    "\n",
    "# 클래스 생성\n",
    "class Simple:\n",
    "    pass\n",
    "\n",
    "print(Simple)\n",
    "\n",
    "\n",
    "# 인스턴스의 생성\n",
    "s1 = Simple()\n",
    "print(s1)\n",
    "\n",
    "s2 = Simple()\n",
    "print(s2)\n",
    "\n",
    "# 인스턴스의 삭제(소멸) : 파이썬에서는 종료시 자동으로 소멸\n",
    "del s1\n",
    "# print(s1)"
   ]
  },
  {
   "cell_type": "code",
   "execution_count": 22,
   "metadata": {
    "collapsed": true,
    "jupyter": {
     "outputs_hidden": true
    }
   },
   "outputs": [
    {
     "name": "stdout",
     "output_type": "stream",
     "text": [
      "100\n",
      "[1, 2, 3, 4]\n",
      "Hi\n",
      "300\n",
      "300\n",
      "500\n",
      "300\n",
      "--------------------\n",
      "300\n",
      "700\n",
      "300\n"
     ]
    }
   ],
   "source": [
    "# 멤버 접근 : 클래스 멤버와 인스턴스 멤버\n",
    "\n",
    "# (1) 클래스 멤버\n",
    "class MyClass:\n",
    "    cl_mem = 100         # 클래스 멤버\n",
    "    cl_list = [1,2,3,4]  # 클래스 멤버\n",
    "    a = 'Hi'             # 클래스 멤버\n",
    "\n",
    "# 클래스 객체를 통해서 접근\n",
    "print(MyClass.cl_mem)\n",
    "print(MyClass.cl_list)\n",
    "print(MyClass.a)\n",
    "\n",
    "# 변경\n",
    "MyClass.cl_mem = 300\n",
    "print(MyClass.cl_mem)\n",
    "\n",
    "# 인스턴스 객체를 통해서 접근\n",
    "m1 = MyClass()    # 인스턴스의 생성\n",
    "print(m1.cl_mem)      # 300\n",
    "m1.cl_mem = 500\n",
    "print(m1.cl_mem)      # 500\n",
    "print(MyClass.cl_mem) # 300\n",
    "print('-'*20)\n",
    "\n",
    "m2 = MyClass()    # 인스턴스의 생성\n",
    "print(m2.cl_mem)      # 300\n",
    "m2.cl_mem = 700\n",
    "print(m2.cl_mem)      # 700\n",
    "print(MyClass.cl_mem) # 300"
   ]
  },
  {
   "cell_type": "code",
   "execution_count": 32,
   "metadata": {},
   "outputs": [
    {
     "name": "stdout",
     "output_type": "stream",
     "text": [
      "MyClass2 생성자가 호출됨\n",
      "__init__: <__main__.MyClass2 object at 0x000002144AEC6D90> 10 20\n",
      "m1:       <__main__.MyClass2 object at 0x000002144AEC6D90>\n"
     ]
    }
   ],
   "source": [
    "# (2) 인스턴스 멤버의 구현과 접근 : 클래스의 메서드 내에 구현한 멤버\n",
    "\n",
    "# 생성자 메서드의 구현\n",
    "class MyClass2:\n",
    "    def __init__(self,a,b): # 생성자 메서드,인스턴스 객체를 생성할 때 자동으로 호출, 인스턴스 멤버 초기화 \n",
    "                            # 변수명을 self 대신 다른 이름으로 써도 가능하다 \n",
    "                            # self는 파이썬 내장 예약어는 아님\n",
    "        print('MyClass2 생성자가 호출됨')\n",
    "        print('__init__:',self,a,b)\n",
    "        \n",
    "m1 = MyClass2(10,20)\n",
    "print('m1:      ',m1)"
   ]
  },
  {
   "cell_type": "code",
   "execution_count": 37,
   "metadata": {},
   "outputs": [
    {
     "name": "stdout",
     "output_type": "stream",
     "text": [
      "MyClass2 생성자가 호출됨\n",
      "0\n",
      "50\n",
      "1\n",
      "80\n",
      "MyClass2 생성자가 호출됨\n",
      "0\n",
      "Hi\n",
      "1\n",
      "80\n"
     ]
    }
   ],
   "source": [
    "# 인스턴스 멤버의 생성과 초기화\n",
    "class MyClass2:\n",
    "    def __init__(self,var1): # 생성자 메서드,인스턴스 메서드,첫 인자는 인스턴스 자신:self\n",
    "        print('MyClass2 생성자가 호출됨')\n",
    "        self.in_mem = 0       # 인스턴스 멤버를 생성, 초기화\n",
    "        self.in_list = [0]    # 인스턴스 멤버를 생성, 초기화\n",
    "        self.a = var1         # 인스턴스 멤버를 생성, 초기화\n",
    "        \n",
    "m1 = MyClass2(50)    # 인스턴스의 생성\n",
    "print(m1.in_mem)     # 인스턴스의 멤버의 접근, 인스턴스를 통해서 접근가능\n",
    "print(m1.a)\n",
    "\n",
    "m1.in_mem = 1        # 인스턴스 멤버의 변경\n",
    "m1.a = 80\n",
    "print(m1.in_mem)\n",
    "print(m1.a)\n",
    "\n",
    "m2 = MyClass2('Hi')    # 인스턴스의 생성\n",
    "print(m2.in_mem)       # 0\n",
    "print(m2.a)            # 'Hi'\n",
    "print(m1.in_mem)       # 1\n",
    "print(m1.a)            # 80"
   ]
  },
  {
   "cell_type": "code",
   "execution_count": 45,
   "metadata": {},
   "outputs": [
    {
     "name": "stdout",
     "output_type": "stream",
     "text": [
      "MyClass2 생성자가 호출됨\n",
      "0 0\n",
      "set 메서드가 호출됨\n",
      "30 40\n",
      "get 메서드가 호출됨\n",
      "30 40\n",
      "MyClass2 생성자가 호출됨\n",
      "MyClass2 소멸자가 호출됨\n"
     ]
    },
    {
     "data": {
      "text/plain": [
       "<__main__.MyClass2 at 0x2144ac57fa0>"
      ]
     },
     "execution_count": 45,
     "metadata": {},
     "output_type": "execute_result"
    }
   ],
   "source": [
    "# 인스턴스 메서드의 구현 : 생성된 인스턴스를 통해서 호출이 가능\n",
    "class MyClass2:\n",
    "    def __init__(self,var1): # 생성자 메서드,인스턴스 메서드,첫 인자는 인스턴스 자신:self\n",
    "        print('MyClass2 생성자가 호출됨')\n",
    "        self.in_mem = 0       # 인스턴스 멤버를 생성, 초기화\n",
    "        self.in_list = [0]    # 인스턴스 멤버를 생성, 초기화\n",
    "        self.a = var1         # 인스턴스 멤버를 생성, 초기화\n",
    "    \n",
    "    def set(self,var1,var2): # 인스턴스 메서드\n",
    "        print('set 메서드가 호출됨')\n",
    "        self.in_mem = var1   # 인스턴스 멤버를 변경\n",
    "        self.a = var2        # 인스턴스 멤버를 변경\n",
    "        \n",
    "    def get(self):           # 인스턴스 메서드\n",
    "        print('get 메서드가 호출됨')\n",
    "        return self.in_mem,self.a\n",
    "    \n",
    "    def __del__(self):  # 소멸자, 인스턴스 삭제시 호출, 파이썬에서는 구현이 불필요\n",
    "        print('MyClass2 소멸자가 호출됨')\n",
    "        \n",
    "m1 = MyClass2(0)        # 인스턴스의 생성, 생성자 메서드가 호출\n",
    "print(m1.in_mem, m1.a)\n",
    "\n",
    "m1.set(30,40)           # 인스턴스를 통해서 인스턴스 메서드를 호출\n",
    "print(m1.in_mem, m1.a)\n",
    "\n",
    "a,b = m1.get()\n",
    "print(a,b)\n",
    "\n",
    "m1.__init__(0)    # 생성자 메서드를 직접 호출, 인스턴스 객체가 생성되는건 아님, 인스턴스 멤버를 리셋\n",
    "\n",
    "del m1            # 인스턴스의 삭제, 소멸자 메서드가 호출\n",
    "# m1.__del__()    # 소멸자만 호출됨, 인스턴스 객체는 삭제 되지 않음\n",
    "# m1"
   ]
  },
  {
   "cell_type": "markdown",
   "metadata": {},
   "source": [
    "## 클래스 상속\n",
    "#### 클래스 A에서 상속된 클래스 B가 있다고 할때, \n",
    "#### 클래스 A를 기반(Base) 클래스, 부모(Parent) 클래스 또는 상위(Super) 클래스라고 하며, \n",
    "#### 클래스 B를 파생(Derived) 클래스, 자식(Child) 클래스 또는 하위(Sub) 클래스라 한다."
   ]
  },
  {
   "cell_type": "code",
   "execution_count": 15,
   "metadata": {},
   "outputs": [
    {
     "name": "stdout",
     "output_type": "stream",
     "text": [
      "('홍길동', '012-1234-1234')\n",
      "홍길동 012-1234-1234\n",
      "(<class 'object'>,)\n"
     ]
    }
   ],
   "source": [
    "# 부모(상위,super,base) 클래스\n",
    "class Person:\n",
    "    def __init__(self,name,phone=None):  # 생성자\n",
    "        self.name = name                 # 인스턴스 멤버\n",
    "        self.phone = phone               # 인스턴스 멤버\n",
    "        \n",
    "    def get_info(self):                  # 인스턴스 메서드\n",
    "        return self.name, self.phone   \n",
    "    \n",
    "p = Person('홍길동','012-1234-1234')     # 인스턴스 생성\n",
    "print(p.get_info())                     # 메서드 호출 \n",
    "print(p.name,p.phone)                   # 멤버 접근\n",
    "print(Person.__bases__)                 # 파이썬의 모든 클래스의 base 클래스는 object 이다"
   ]
  },
  {
   "cell_type": "code",
   "execution_count": 14,
   "metadata": {},
   "outputs": [
    {
     "name": "stdout",
     "output_type": "stream",
     "text": [
      "('김철수', '111-2222-3333')\n",
      "김철수 111-2222-3333\n",
      "(<class '__main__.Person'>,)\n",
      "('임꺽정', '000-0000-0000')\n"
     ]
    }
   ],
   "source": [
    "# 자식(하위) 클래스\n",
    "class Employee(Person):            # 부모 클래스를 괄호안에 넣는다\n",
    "    def set_info(self,var1,var2):  # 메서드\n",
    "        self.name = var1\n",
    "        self.phone = var2\n",
    "\n",
    "e = Employee('김철수','111-2222-3333')\n",
    "\n",
    "print(e.get_info())        # 메서드 호출\n",
    "print(e.name,e.phone)      # 멤버 접근  \n",
    "print(Employee.__bases__)  # 부모 클래스 : Person      \n",
    "\n",
    "e.set_info('임꺽정','000-0000-0000')  # 메서드 호출\n",
    "print(e.get_info())                   # 메서드 호출"
   ]
  },
  {
   "cell_type": "code",
   "execution_count": null,
   "metadata": {},
   "outputs": [],
   "source": []
  }
 ],
 "metadata": {
  "kernelspec": {
   "display_name": "Python 3 (ipykernel)",
   "language": "python",
   "name": "python3"
  },
  "language_info": {
   "codemirror_mode": {
    "name": "ipython",
    "version": 3
   },
   "file_extension": ".py",
   "mimetype": "text/x-python",
   "name": "python",
   "nbconvert_exporter": "python",
   "pygments_lexer": "ipython3",
   "version": "3.11.7"
  }
 },
 "nbformat": 4,
 "nbformat_minor": 4
}
