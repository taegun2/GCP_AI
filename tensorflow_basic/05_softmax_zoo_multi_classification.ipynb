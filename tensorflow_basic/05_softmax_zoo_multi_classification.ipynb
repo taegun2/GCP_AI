{
 "cells": [
  {
   "cell_type": "markdown",
   "id": "4856248f-8b29-4c3f-956a-08e386e22758",
   "metadata": {},
   "source": [
    "# softmax_zoo_multi_classification\n",
    "\n",
    "### multi-classification\n",
    "### multi-nomial classification (다중 분류) : Y값의 범주가 3개 이상인 분류\n",
    "### 활성화 함수(Activation function) 으로 softmax함수 가 사용된다"
   ]
  },
  {
   "cell_type": "code",
   "execution_count": 2,
   "id": "5600e028-cddd-47cf-8075-3edbff3ee407",
   "metadata": {},
   "outputs": [],
   "source": [
    "import tensorflow as tf\n",
    "import numpy as np\n",
    "tf.random.set_seed(5)"
   ]
  },
  {
   "cell_type": "code",
   "execution_count": 3,
   "id": "7ed747a7-14ab-4338-91c7-b0404f04abaf",
   "metadata": {},
   "outputs": [
    {
     "name": "stdout",
     "output_type": "stream",
     "text": [
      "(70, 16) (70, 1)\n",
      "(31, 16) (31, 1)\n"
     ]
    }
   ],
   "source": [
    "# 데이터 불러 오기\n",
    "xy = np.loadtxt('data-04-zoo.csv', delimiter=',', dtype=np.float32)\n",
    "xy.shape        #(759,9)\n",
    "\n",
    "# 학습 데이터 분리 : 70% 70개\n",
    "x_train = xy[:70,:-1]     # X     \n",
    "y_train = xy[:70,[-1]]    # Y\n",
    "print(x_train.shape,y_train.shape)   #(70,16) (70,1)\n",
    "\n",
    "# 검증 데이터 분리 : 30% 31개\n",
    "x_test = xy[70:,:-1]     # X     \n",
    "y_test = xy[70:,[-1]]    # Y\n",
    "print(x_test.shape,y_test.shape)"
   ]
  },
  {
   "cell_type": "code",
   "execution_count": 4,
   "id": "b13f522c-4afc-4d64-8e04-f23ba9786a4f",
   "metadata": {},
   "outputs": [
    {
     "name": "stdout",
     "output_type": "stream",
     "text": [
      "(70, 1, 7)\n",
      "(70, 7)\n"
     ]
    }
   ],
   "source": [
    "# one-hot 인코딩\n",
    "# 0 : [1 0 0 0 0 0 0]\n",
    "# 1 : [0 1 0 0 0 0 0]\n",
    "# 2 : [0 0 1 0 0 0 0]\n",
    "# 3 : [0 0 0 1 0 0 0]\n",
    "# ...\n",
    "# 6 : [0 0 0 0 0 0 1]\n",
    "nb_classes = 7 # 분류(class) 개수(0,1,2,3,4,5,6)\n",
    "\n",
    "Y_one_hot = tf.one_hot(y_train,nb_classes)\n",
    "print(Y_one_hot.shape)     #(70, 1, 7)   #rank = 3(3차원)\n",
    "Y_one_hot = tf.reshape(Y_one_hot,[-1,nb_classes])\n",
    "print(Y_one_hot.shape) #(70, 7)         #rank =2(2차원)"
   ]
  },
  {
   "cell_type": "code",
   "execution_count": 5,
   "id": "a0fbfa11-9bb0-48ce-842d-018c9da6c754",
   "metadata": {},
   "outputs": [],
   "source": [
    "# 변수 초기화 : weight, bias\n",
    "# (m,n) * (n,l) = (m,l)  : 행렬의 내적 곱셉 공식\n",
    "#(70,16) * (16,7) = (70,7)                                 # x_train.shape과 W를 행렬곱하여 y_train.shape되도록\n",
    "W = tf.Variable(tf.random.normal([16,nb_classes]),name='weight')     # W의 행렬 수치 수정(random.normal([ 여기 값 ])) \n",
    "b = tf.Variable(tf.random.normal([nb_classes]),name='bias')         # b(bias)는 W의 마지막값과 같은 값으로 둔다 "
   ]
  },
  {
   "cell_type": "code",
   "execution_count": 6,
   "id": "bd6f8583-51d9-4075-8d05-7b3fd76eeeac",
   "metadata": {},
   "outputs": [],
   "source": [
    "# 예측 함수(hypothesis) : H(X) = softmax(W*X + b)\n",
    "def logits(X) : \n",
    "    return tf.matmul(X,W) + b\n",
    "\n",
    "def hypothesis(X):\n",
    "    return tf.nn.softmax(logits(X))"
   ]
  },
  {
   "cell_type": "code",
   "execution_count": 7,
   "id": "aa6b5f57-7b01-47a7-8bd3-62d52c06b3a5",
   "metadata": {},
   "outputs": [],
   "source": [
    "# 비용함수 구현 방법 : tf.nn.softmax_cross_entropy_with_logits() 함수 사용\n",
    "def cost_func():\n",
    "    cost_i = tf.nn.softmax_cross_entropy_with_logits(logits = logits(x_train),\n",
    "                                                     labels = Y_one_hot)\n",
    "    cost = tf.reduce_mean(cost_i)\n",
    "    return cost"
   ]
  },
  {
   "cell_type": "code",
   "execution_count": 8,
   "id": "5ac4d8f3-e99b-40ee-a88f-f9e99203950c",
   "metadata": {},
   "outputs": [],
   "source": [
    "# 경사 하강법\n",
    "# learning_rate(학습율)을 0.01 로 설정하여 optimizer객체를 생성\n",
    "optimizer = tf.optimizers.Adam(learning_rate=0.01)"
   ]
  },
  {
   "cell_type": "code",
   "execution_count": 9,
   "id": "d2e3d643-4b81-4038-b4e0-59965a15847d",
   "metadata": {},
   "outputs": [
    {
     "name": "stdout",
     "output_type": "stream",
     "text": [
      "***** Start Learning!!\n",
      "0000 cost:[ 4.3755355 ]\n",
      "1000 cost:[ 0.003682128 ]\n",
      "2000 cost:[ 0.0011357067 ]\n",
      "3000 cost:[ 0.00051795447 ]\n",
      "4000 cost:[ 0.00027280813 ]\n",
      "5000 cost:[ 0.00015373307 ]\n",
      "***** Learning Finished!!\n"
     ]
    }
   ],
   "source": [
    "# 학습 시작\n",
    "print('***** Start Learning!!')\n",
    "for step in range(5001):\n",
    "    optimizer.minimize(cost_func,var_list=[W,b])\n",
    "    if step % 1000 == 0:\n",
    "        print('%04d'%step,'cost:[',cost_func().numpy(),']')\n",
    "        \n",
    "print('***** Learning Finished!!')"
   ]
  },
  {
   "cell_type": "code",
   "execution_count": 20,
   "id": "f27a429d-af00-47e4-8060-7c2c76a12864",
   "metadata": {},
   "outputs": [
    {
     "name": "stdout",
     "output_type": "stream",
     "text": [
      "(31, 1, 7)\n",
      "(31, 7)\n",
      "Accuracy: 0.8064516\n"
     ]
    }
   ],
   "source": [
    "# 정확도 측정 : accuracy computation\n",
    "\n",
    "# y_test 값의 one-hot 인코딩\n",
    "Y_one_hot = tf.one_hot(y_test,nb_classes)   \n",
    "print(Y_one_hot.shape)                       # [31,1,7]  , Rank=3 (3차원)\n",
    "Y_one_hot = tf.reshape(Y_one_hot,[-1,nb_classes])\n",
    "print(Y_one_hot.shape)                       # [31,7]  , Rank=2 (2차원)\n",
    "\n",
    "#tf.argmax() : 값이 가장 큰 요소의 인덱스 값을 반환\n",
    "def predict(X):\n",
    "    return tf.argmax(hypothesis(X),axis=1)\n",
    "\n",
    "correct_predict = tf.equal(predict(x_test),tf.argmax(Y_one_hot,1))\n",
    "accuracy = tf.reduce_mean(tf.cast(correct_predict, dtype = tf.float32))\n",
    "print(\"Accuracy:\",accuracy.numpy())"
   ]
  },
  {
   "cell_type": "code",
   "execution_count": 22,
   "id": "7290cee7-7ae2-41b0-b4bb-27b666a4ece3",
   "metadata": {},
   "outputs": [
    {
     "name": "stdout",
     "output_type": "stream",
     "text": [
      "[True] Prediction: 0 / Real Y: 0\n",
      "[True] Prediction: 1 / Real Y: 1\n",
      "[False] Prediction: 5 / Real Y: 6\n",
      "[True] Prediction: 3 / Real Y: 3\n",
      "[True] Prediction: 0 / Real Y: 0\n",
      "[True] Prediction: 0 / Real Y: 0\n",
      "[False] Prediction: 4 / Real Y: 2\n",
      "[True] Prediction: 6 / Real Y: 6\n",
      "[True] Prediction: 1 / Real Y: 1\n",
      "[True] Prediction: 1 / Real Y: 1\n",
      "[True] Prediction: 2 / Real Y: 2\n",
      "[False] Prediction: 2 / Real Y: 6\n",
      "[True] Prediction: 3 / Real Y: 3\n",
      "[True] Prediction: 1 / Real Y: 1\n",
      "[True] Prediction: 0 / Real Y: 0\n",
      "[True] Prediction: 6 / Real Y: 6\n",
      "[True] Prediction: 3 / Real Y: 3\n",
      "[True] Prediction: 1 / Real Y: 1\n",
      "[True] Prediction: 5 / Real Y: 5\n",
      "[True] Prediction: 4 / Real Y: 4\n",
      "[False] Prediction: 0 / Real Y: 2\n",
      "[False] Prediction: 4 / Real Y: 2\n",
      "[True] Prediction: 3 / Real Y: 3\n",
      "[True] Prediction: 0 / Real Y: 0\n",
      "[True] Prediction: 0 / Real Y: 0\n",
      "[True] Prediction: 1 / Real Y: 1\n",
      "[True] Prediction: 0 / Real Y: 0\n",
      "[True] Prediction: 5 / Real Y: 5\n",
      "[True] Prediction: 0 / Real Y: 0\n",
      "[False] Prediction: 2 / Real Y: 6\n",
      "[True] Prediction: 1 / Real Y: 1\n"
     ]
    }
   ],
   "source": [
    "pred = predict(x_test).numpy()\n",
    "for p,y in zip(pred, y_test.flatten()):\n",
    "    print(\"[{}] Prediction: {} / Real Y: {}\".format(p == int(y), p, int(y)))"
   ]
  },
  {
   "cell_type": "code",
   "execution_count": null,
   "id": "50f9cb43-86b7-438e-89d4-aede9b8f16ec",
   "metadata": {},
   "outputs": [],
   "source": []
  }
 ],
 "metadata": {
  "kernelspec": {
   "display_name": "Python 3 (ipykernel)",
   "language": "python",
   "name": "python3"
  },
  "language_info": {
   "codemirror_mode": {
    "name": "ipython",
    "version": 3
   },
   "file_extension": ".py",
   "mimetype": "text/x-python",
   "name": "python",
   "nbconvert_exporter": "python",
   "pygments_lexer": "ipython3",
   "version": "3.10.14"
  }
 },
 "nbformat": 4,
 "nbformat_minor": 5
}
