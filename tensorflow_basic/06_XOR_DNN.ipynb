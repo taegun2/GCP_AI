{
 "cells": [
  {
   "cell_type": "markdown",
   "id": "1af39918-4510-45a6-a341-30de7dc0742d",
   "metadata": {},
   "source": [
    "# xor_nn\n",
    "### 2진 분류 : Logistic Regression\n",
    "### 활성화 함수 : sigmoid 함수 사용\n",
    "### two Layers of Neural Network"
   ]
  },
  {
   "cell_type": "code",
   "execution_count": 1,
   "id": "3068a7dd-ada4-4245-bbf7-d0f601f4edcd",
   "metadata": {},
   "outputs": [],
   "source": [
    "import tensorflow as tf\n",
    "import numpy as np\n",
    "tf.random.set_seed(5)"
   ]
  },
  {
   "cell_type": "code",
   "execution_count": 13,
   "id": "49bd2c34-4676-469a-afec-95adc47b5be6",
   "metadata": {},
   "outputs": [
    {
     "name": "stdout",
     "output_type": "stream",
     "text": [
      "(4, 2) (4, 1)\n"
     ]
    }
   ],
   "source": [
    "# train data set \n",
    "x_data = [[0,0],\n",
    "          [0,1],\n",
    "          [1,0],\n",
    "          [1,1]]\n",
    "\n",
    "y_data = [[0],\n",
    "          [1],\n",
    "          [1],\n",
    "          [0]]\n",
    "\n",
    "x_train = np.array(x_data,dtype=np.float32)\n",
    "y_train = np.array(y_data,dtype=np.float32)\n",
    "print(x_train.shape,y_train.shape)"
   ]
  },
  {
   "cell_type": "code",
   "execution_count": 3,
   "id": "3c737f0e-d0bc-4523-b4a0-aba632da1ee6",
   "metadata": {},
   "outputs": [],
   "source": [
    "# Layer 1 : 은닉층(Hidden layer)\n",
    "# 변수 초기화 : weight, bias\n",
    "# (m,n) * (n,l) = (m,l)  : 행렬의 내적 곱셉 공식\n",
    "# (4,2) * (2,2) = (4,2)                                 # x_train.shape과 W를 행렬곱하여 y_train.shape되도록\n",
    "W1 = tf.Variable(tf.random.normal([2,2]),name='weight1')     # W의 행렬 수치 수정(random.normal([ 여기 값 ])) \n",
    "b1 = tf.Variable(tf.random.normal([2]),name='bias1')         # b(bias)는 W의 마지막값과 같은 값으로 둔다 \n",
    "\n",
    "def layer1(X):\n",
    "    return tf.sigmoid(tf.matmul(X,W1) + b1)"
   ]
  },
  {
   "cell_type": "code",
   "execution_count": 4,
   "id": "d5e17a7f-2ac0-4427-a9f9-9974fa874c7a",
   "metadata": {},
   "outputs": [],
   "source": [
    "# Layer 2 : 출력 층(Output layer)\n",
    "# 변수 초기화 : weight, bias\n",
    "# (m,n) * (n,l) = (m,l)  : 행렬의 내적 곱셉 공식\n",
    "# (4,2) * (2,1) = (4,1)                                 # x_train.shape과 W를 행렬곱하여 y_train.shape되도록\n",
    "W2 = tf.Variable(tf.random.normal([2,2]),name='weight2')     # W의 행렬 수치 수정(random.normal([ 여기 값 ])) \n",
    "b2 = tf.Variable(tf.random.normal([2]),name='bias2')         # b(bias)는 W의 마지막값과 같은 값으로 둔다 \n",
    "\n",
    "def layer2(X):\n",
    "    return tf.sigmoid(tf.matmul(layer1(X),W2) + b2)"
   ]
  },
  {
   "cell_type": "code",
   "execution_count": 5,
   "id": "20c93ac4-774e-44d0-a16a-0fa891916139",
   "metadata": {},
   "outputs": [],
   "source": [
    "# Layer 3 : 출력 층(Output layer)\n",
    "W3 = tf.Variable(tf.random.normal([2,1]),name='weight3')     # W의 행렬 수치 수정(random.normal([ 여기 값 ])) \n",
    "b3 = tf.Variable(tf.random.normal([1]),name='bias3')         # b(bias)는 W의 마지막값과 같은 값으로 둔다 "
   ]
  },
  {
   "cell_type": "code",
   "execution_count": 6,
   "id": "45b9701d-de1d-4f6c-82ef-222a4b914c16",
   "metadata": {},
   "outputs": [],
   "source": [
    "# 예측 함수(hypothesis) : H(X) = sigmoid(W*X + b)\n",
    "# 이전 층의 출력이 입력으로 들어와야됨 \n",
    "def hypothesis(X):\n",
    "    return tf.sigmoid(tf.matmul(layer2(X),W3) + b3)  # 0 과 1 사이의 값 출력   "
   ]
  },
  {
   "cell_type": "code",
   "execution_count": 7,
   "id": "a1cc7893-0cce-4e01-885b-6cc34cc53d79",
   "metadata": {},
   "outputs": [],
   "source": [
    "# 비용 함수 : logloss, 2진 분류 모델\n",
    "def cost_func():\n",
    "    cost = -tf.reduce_mean(y_train*tf.math.log(hypothesis(x_train)) +                # y가 0일때는 앞의식은 0됨 \n",
    "                         (1-y_train)*tf.math.log(1-hypothesis(x_train)))             # y가 1일때는 뒤의식은 0됨 \n",
    "    return cost"
   ]
  },
  {
   "cell_type": "code",
   "execution_count": 8,
   "id": "89744ebb-d1c6-4eee-9e3c-9545f1d83f26",
   "metadata": {},
   "outputs": [],
   "source": [
    "# 경사 하강법\n",
    "# learning_rate(학습율)을 0.01 로 설정하여 optimizer객체를 생성\n",
    "optimizer = tf.optimizers.Adam(learning_rate=0.01)"
   ]
  },
  {
   "cell_type": "code",
   "execution_count": 9,
   "id": "f9971001-e6bd-4924-96ff-9132a7d10753",
   "metadata": {},
   "outputs": [
    {
     "name": "stdout",
     "output_type": "stream",
     "text": [
      "***** Start Learning!!\n",
      "0000 cost:[ 0.7832414 ]\n",
      "1000 cost:[ 0.0067457184 ]\n",
      "2000 cost:[ 0.00167249 ]\n",
      "3000 cost:[ 0.00071030983 ]\n",
      "4000 cost:[ 0.000359988 ]\n",
      "5000 cost:[ 0.0001976985 ]\n",
      "***** Learning Finished!!\n"
     ]
    }
   ],
   "source": [
    "# 학습 시작\n",
    "print('***** Start Learning!!')\n",
    "for step in range(5001):\n",
    "    optimizer.minimize(cost_func,var_list=[W1,b1,W2,b2,W3,b3])\n",
    "    if step % 1000 == 0:\n",
    "        print('%04d'%step,'cost:[',cost_func().numpy(),']')\n",
    "        \n",
    "print('***** Learning Finished!!')"
   ]
  },
  {
   "cell_type": "code",
   "execution_count": 10,
   "id": "4084b09d-2d10-4598-94da-46c321112527",
   "metadata": {},
   "outputs": [
    {
     "name": "stdout",
     "output_type": "stream",
     "text": [
      "Accuracy: 1.0\n",
      "tf.Tensor(\n",
      "[[0.]\n",
      " [1.]\n",
      " [1.]\n",
      " [0.]], shape=(4, 1), dtype=float32)\n"
     ]
    }
   ],
   "source": [
    "# 정확도 측정 : accuracy computation\n",
    "def predict(X):\n",
    "    return tf.cast(hypothesis(X) > 0.5,dtype=tf.float32)\n",
    "\n",
    "# 검증 데이터를 사용하여 예측 \n",
    "preds = predict(x_train)\n",
    "accuracy = tf.reduce_mean(tf.cast(tf.equal(preds,y_train),dtype=tf.float32))\n",
    "\n",
    "print('Accuracy:',accuracy.numpy()) \n",
    "print(preds)"
   ]
  },
  {
   "cell_type": "code",
   "execution_count": null,
   "id": "365fad08-dd2d-4787-bbc8-e15d54517af9",
   "metadata": {},
   "outputs": [],
   "source": []
  }
 ],
 "metadata": {
  "kernelspec": {
   "display_name": "Python 3 (ipykernel)",
   "language": "python",
   "name": "python3"
  },
  "language_info": {
   "codemirror_mode": {
    "name": "ipython",
    "version": 3
   },
   "file_extension": ".py",
   "mimetype": "text/x-python",
   "name": "python",
   "nbconvert_exporter": "python",
   "pygments_lexer": "ipython3",
   "version": "3.10.14"
  }
 },
 "nbformat": 4,
 "nbformat_minor": 5
}
