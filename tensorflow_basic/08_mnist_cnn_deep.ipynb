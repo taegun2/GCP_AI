{
 "cells": [
  {
   "cell_type": "markdown",
   "id": "6757ff0a-e52f-4f78-93a5-82fac506f248",
   "metadata": {},
   "source": [
    "# mnist_cnn_deep\n",
    "### MNIST and Convolutional Neural Network\n",
    "### L1,L2 : conv2d + relu + max_pool \n",
    "### L3 : FC(Fully Connected Layer)"
   ]
  },
  {
   "cell_type": "code",
   "execution_count": 1,
   "id": "b7139958-3d20-49e6-b2b1-fdf446c68bea",
   "metadata": {},
   "outputs": [],
   "source": [
    "import tensorflow as tf\n",
    "import numpy as np\n",
    "import matplotlib.pyplot as plt\n",
    "tf.random.set_seed(5)"
   ]
  },
  {
   "cell_type": "code",
   "execution_count": 2,
   "id": "0c8fc24b-f656-48e4-b72b-1ad9be840ea3",
   "metadata": {},
   "outputs": [
    {
     "name": "stdout",
     "output_type": "stream",
     "text": [
      "(60000, 28, 28)\n",
      "(60000,)\n",
      "(10000, 28, 28)\n",
      "(10000,)\n"
     ]
    }
   ],
   "source": [
    "# mnist 데이터 가져오기\n",
    "mnist = tf.keras.datasets.mnist\n",
    "(x_train,y_train),(x_test,y_test) = mnist.load_data()\n",
    "print(x_train.shape)\n",
    "print(y_train.shape)\n",
    "print(x_test.shape)\n",
    "print(y_test.shape)"
   ]
  },
  {
   "cell_type": "code",
   "execution_count": 3,
   "id": "5bfda4f7-ac50-42d2-aa52-3ebae16271ba",
   "metadata": {},
   "outputs": [
    {
     "data": {
      "text/plain": [
       "TensorShape([60000, 10])"
      ]
     },
     "execution_count": 3,
     "metadata": {},
     "output_type": "execute_result"
    }
   ],
   "source": [
    "# one-hot 인코딩\n",
    "nb_classes = 10 # 분류 class의 갯수(0~9)\n",
    "\n",
    "Y_one_hot = tf.one_hot(y_train, nb_classes)  #(60000,)\n",
    "Y_one_hot.shape                              #(60000,10)"
   ]
  },
  {
   "cell_type": "code",
   "execution_count": 4,
   "id": "39e078b9-84ab-4290-8b7c-f056282ee1bd",
   "metadata": {},
   "outputs": [],
   "source": [
    "x_train = tf.cast(x_train,dtype=tf.float32)\n",
    "x_test = tf.cast(x_test,dtype=tf.float32)"
   ]
  },
  {
   "cell_type": "code",
   "execution_count": 5,
   "id": "9138a09a-f1e5-472e-82f7-fd6cdfb81314",
   "metadata": {},
   "outputs": [
    {
     "name": "stdout",
     "output_type": "stream",
     "text": [
      "(60000, 28, 28, 1)\n"
     ]
    }
   ],
   "source": [
    "# X값의 shape을 4차원으로 변환                     # 무조건 4차원  아브렐슈드3관 마름모\n",
    "X_img = tf.reshape(x_train,[-1,28,28,1])\n",
    "print(X_img.shape)                         # (60000, 28, 28, 1)"
   ]
  },
  {
   "cell_type": "code",
   "execution_count": 6,
   "id": "f19f1db0-fac0-40cf-a7f6-919e5852c899",
   "metadata": {},
   "outputs": [],
   "source": [
    "# Layer 1 : conv2d - relu - max_pool\n",
    "# (?, 28, 28, 1) --> (?, 14, 14, 32)\n",
    " \n",
    "# <1> conv2d\n",
    "# L1 input image shape : (?, 28, 28, 1)\n",
    "# filter : (3,3,1,32), 필터 32개\n",
    "# strides : (1,1,1,1), padding='SAME'    출력도 같은 크기로 나옴 \n",
    "# 출력 이미지 : (28+2 - 3)/1 + 1 = 28\n",
    "# (?, 28, 28, 1) --> (?, 28, 28, 32)\n",
    "\n",
    "W1 = tf.Variable(tf.random.normal([3,3,1,32]),name='weight1')\n",
    "\n",
    "def L1_conv2d(X):\n",
    "    return tf.nn.conv2d(X,W1,strides=[1,1,1,1],padding = 'SAME')\n",
    "\n",
    "# <2> relu\n",
    "def L1_relu(X):\n",
    "    return tf.nn.relu(L1_conv2d(X))     #shape 변화가 없다\n",
    "\n",
    "# <3> max_pool\n",
    "# input image : (?, 28, 28, 32)\n",
    "# ksize : (1,2,2,1), strides : (1,2,2,1), padding='SAME'\n",
    "# 출력 이미지 : (28+1 - 2)/2 + 1 = 14\n",
    "#  (?, 28, 28, 32) -->  (?, 14, 14, 32)\n",
    "def L1_MaxPool(X):\n",
    "    return tf.nn.max_pool(L1_relu(X), ksize=[1,2,2,1],strides=[1,2,2,1],padding='SAME') # ksize 는 커널사이즈"
   ]
  },
  {
   "cell_type": "code",
   "execution_count": 7,
   "id": "cd16d5b1-b795-4b37-b4d4-cfd45d96c5ee",
   "metadata": {},
   "outputs": [],
   "source": [
    "# Layer 2 : conv2d - relu - max_pool\n",
    "# (?, 14, 14, 32) --> (?, 7, 7, 64)\n",
    " \n",
    "# <1> conv2d\n",
    "# L1 input image shape : (?, 14, 14, 32)\n",
    "# filter : (3,3,32,64), 필터 32개\n",
    "# strides : (1,1,1,1), padding='SAME'    출력도 같은 크기로 나옴 \n",
    "# 출력 이미지 : (14+2 - 3)/1 + 1 = 14\n",
    "# (?, 14, 14, 32) --> (?, 14, 14, 64)\n",
    "\n",
    "W2 = tf.Variable(tf.random.normal([3,3,32,64]),name='weight2')\n",
    "\n",
    "def L2_conv2d(X):\n",
    "    return tf.nn.conv2d(L1_MaxPool(X),W2,strides=[1,1,1,1],padding = 'SAME')\n",
    "\n",
    "# <2> relu\n",
    "def L2_relu(X):\n",
    "    return tf.nn.relu(L2_conv2d(X))     #shape 변화가 없다\n",
    "\n",
    "# <3> max_pool\n",
    "# input image : (?, 14, 14, 64)\n",
    "# ksize : (1,2,2,1), strides : (1,2,2,1), padding='SAME'\n",
    "# 출력 이미지 : (14+1 - 2)/2 + 1 = 7\n",
    "#  (?, 14, 14, 64) -->  (?, 7, 7, 64)\n",
    "def L2_MaxPool(X):\n",
    "    return tf.nn.max_pool(L2_relu(X), ksize=[1,2,2,1],strides=[1,2,2,1],padding='SAME') # ksize 는 커널사이즈\n",
    "\n",
    "# <4> flatten layer : 다차원 배열을 2차원으로 변환하여 FC layer에 전달한다\n",
    "def L2_flat(X):\n",
    "    return tf.reshape(L2_MaxPool(X), [-1,7*7*64])"
   ]
  },
  {
   "cell_type": "code",
   "execution_count": 8,
   "id": "1a90be1b-9f5e-4034-bfc3-e50983e96945",
   "metadata": {},
   "outputs": [],
   "source": [
    "# Layer 3 : FC(Fully Connected Layer)\n",
    "# (?,7*7*64) * (7*7*64, 10) = (?,10)\n",
    "nb_classes = 10\n",
    "W3 = tf.Variable(tf.random.normal([7*7*64,nb_classes]),name='weight3')\n",
    "b = tf.Variable(tf.random.normal([nb_classes]),name='bias')"
   ]
  },
  {
   "cell_type": "code",
   "execution_count": 9,
   "id": "efadb779-0e69-47e7-87b8-fd9d95b838e8",
   "metadata": {},
   "outputs": [],
   "source": [
    "# 예측 함수(hypothesis) : H(X) = softmax(W*X + b)\n",
    "def logits(X):\n",
    "    return tf.matmul(L2_flat(X),W3) + b\n",
    "\n",
    "def hypothesis(X):\n",
    "    return tf.nn.softmax(logits(X))"
   ]
  },
  {
   "cell_type": "code",
   "execution_count": 10,
   "id": "99411dd0-f97c-4747-8d83-5961b730ebe1",
   "metadata": {},
   "outputs": [
    {
     "name": "stdout",
     "output_type": "stream",
     "text": [
      "***** Start Learning!!\n",
      "Epoch: 0001 cost: 16350.877973633\n",
      "Epoch: 0002 cost: 2602.741390381\n",
      "Epoch: 0003 cost: 1498.446667786\n",
      "Epoch: 0004 cost: 1014.855358276\n",
      "Epoch: 0005 cost: 754.467217255\n",
      "Epoch: 0006 cost: 579.923805923\n",
      "Epoch: 0007 cost: 456.708410187\n",
      "Epoch: 0008 cost: 370.457182026\n",
      "Epoch: 0009 cost: 315.862138405\n",
      "Epoch: 0010 cost: 256.596597557\n",
      "Epoch: 0011 cost: 219.776536026\n",
      "Epoch: 0012 cost: 181.298711648\n",
      "Epoch: 0013 cost: 157.049478645\n",
      "Epoch: 0014 cost: 127.052940435\n",
      "Epoch: 0015 cost: 94.352319641\n",
      "Epoch: 0016 cost: 72.297872360\n",
      "Epoch: 0017 cost: 69.243633177\n",
      "Epoch: 0018 cost: 59.629100535\n",
      "Epoch: 0019 cost: 54.233009040\n",
      "Epoch: 0020 cost: 44.924261066\n",
      "Epoch: 0021 cost: 36.190608300\n",
      "Epoch: 0022 cost: 31.053305846\n",
      "Epoch: 0023 cost: 27.441334740\n",
      "Epoch: 0024 cost: 27.921191647\n",
      "Epoch: 0025 cost: 22.072800317\n",
      "Epoch: 0026 cost: 16.191557769\n",
      "Epoch: 0027 cost: 13.946444909\n",
      "Epoch: 0028 cost: 15.119055512\n",
      "Epoch: 0029 cost: 17.530641075\n",
      "Epoch: 0030 cost: 12.917535325\n",
      "Epoch: 0031 cost: 8.121016009\n",
      "Epoch: 0032 cost: 7.599237559\n",
      "Epoch: 0033 cost: 8.395751511\n",
      "Epoch: 0034 cost: 9.035657338\n",
      "Epoch: 0035 cost: 10.402152502\n",
      "Epoch: 0036 cost: 13.617840005\n",
      "Epoch: 0037 cost: 5.741075142\n",
      "Epoch: 0038 cost: 3.683204485\n",
      "Epoch: 0039 cost: 4.013161413\n",
      "Epoch: 0040 cost: 6.975590628\n",
      "Epoch: 0041 cost: 5.750888108\n",
      "Epoch: 0042 cost: 7.451317751\n",
      "Epoch: 0043 cost: 5.234317712\n",
      "Epoch: 0044 cost: 5.206686788\n",
      "Epoch: 0045 cost: 12.952418060\n",
      "Epoch: 0046 cost: 4.731189424\n",
      "Epoch: 0047 cost: 8.113512862\n",
      "Epoch: 0048 cost: 5.333332350\n",
      "Epoch: 0049 cost: 2.993427769\n",
      "Epoch: 0050 cost: 4.402691966\n",
      "***** Learning Finished!!\n"
     ]
    }
   ],
   "source": [
    "# batch 사이즈로 나누어 학습, 효율적 이며 학습 시간 단축\n",
    "training_epoch = 50\n",
    "batch_size = 600\n",
    "\n",
    "#경사 하강법\n",
    "# 경사 하강법\n",
    "# learning_rate(학습율)을 0.01 로 설정하여 optimizer객체를 생성\n",
    "optimizer = tf.optimizers.Adam(learning_rate=0.01)\n",
    "\n",
    "#학습 시작\n",
    "print('***** Start Learning!!')\n",
    "for epoch in range(training_epoch):  #  50회\n",
    "    avg_cost = 0\n",
    "    total_batch = int(x_train.shape[0] / batch_size)   # 100 = 60000 / 600 (전체데이터를 batch_size로 나눈 횟수)\n",
    "    for k in range(total_batch) :\n",
    "        batch_xs = x_train[k * batch_size : k*batch_size + batch_size] # 600개의 x 데이터\n",
    "        batch_ys = Y_one_hot[k * batch_size : k*batch_size + batch_size] # 600개의 Y 데이터\n",
    "\n",
    "        # x값의 shape을 4차원으로 변환\n",
    "        X_img = tf.reshape(batch_xs,[-1,28,28,1])  \n",
    "        # 비용함수 구현 방법 : tf.nn.softmax_cross_entropy_with_logits() 함수 사용\n",
    "        def cost_func_batch():\n",
    "            cost_i = tf.nn.softmax_cross_entropy_with_logits(logits = logits(X_img),\n",
    "                                                             labels = batch_ys)\n",
    "            cost = tf.reduce_mean(cost_i)\n",
    "            return cost\n",
    "\n",
    "        optimizer.minimize(cost_func_batch,var_list=[W1,W2,W3,b])\n",
    "        avg_cost += cost_func_batch().numpy() / total_batch   # 평균 비용 (개수로 나눈 걸 다 더함)\n",
    "\n",
    "    print('Epoch:','%04d'%(epoch + 1),'cost:','{:.9f}'.format(avg_cost))\n",
    "print('***** Learning Finished!!')\n"
   ]
  },
  {
   "cell_type": "code",
   "execution_count": 11,
   "id": "82f97bba-9a9e-465e-808a-a6c30ee058a4",
   "metadata": {},
   "outputs": [
    {
     "name": "stdout",
     "output_type": "stream",
     "text": [
      "Accuracy: 0.9815\n",
      "***** Predict\n",
      "[7 2 1 ... 4 5 6] [7 2 1 ... 4 5 6]\n"
     ]
    }
   ],
   "source": [
    "# 정확도 측정 : accuracy computation\n",
    "\n",
    "# y_test 값의 one-hot 인코딩\n",
    "Y_one_hot = tf.one_hot(y_test,nb_classes)    # (10000,10)\n",
    "# print(Y_one_hot.shape)                       # (10000,10)  , (2차원)\n",
    "\n",
    "# tf.argmax() : 값이 가장 큰 요소의 인덱스 값을 반환\n",
    "def predict(X):\n",
    "    return tf.argmax(hypothesis(X),axis=1)\n",
    "\n",
    "# X값의 shape을 4차원으로 변환\n",
    "X_img = tf.reshape(x_test,[-1,28,28,1])\n",
    "        \n",
    "correct_predict = tf.equal(predict(X_img),tf.argmax(Y_one_hot,1))\n",
    "accuracy = tf.reduce_mean(tf.cast(correct_predict, dtype = tf.float32))\n",
    "print(\"Accuracy:\",accuracy.numpy()) # Accuracy: 0.9534\n",
    "\n",
    "#예측\n",
    "print('***** Predict')\n",
    "pred = predict(X_img).numpy()\n",
    "print(pred,y_test)\n"
   ]
  }
 ],
 "metadata": {
  "kernelspec": {
   "display_name": "Python 3 (ipykernel)",
   "language": "python",
   "name": "python3"
  },
  "language_info": {
   "codemirror_mode": {
    "name": "ipython",
    "version": 3
   },
   "file_extension": ".py",
   "mimetype": "text/x-python",
   "name": "python",
   "nbconvert_exporter": "python",
   "pygments_lexer": "ipython3",
   "version": "3.10.14"
  }
 },
 "nbformat": 4,
 "nbformat_minor": 5
}
