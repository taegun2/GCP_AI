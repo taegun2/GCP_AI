{
 "cells": [
  {
   "cell_type": "code",
   "execution_count": 1,
   "id": "5f79a3fd-a335-45a4-af1c-f989ecc0e23e",
   "metadata": {},
   "outputs": [],
   "source": [
    "#mnist_cnn_keras\n",
    "import tensorflow as tf\n",
    "import numpy as np\n",
    "import matplotlib.pyplot as plt\n",
    "tf.random.set_seed(5)"
   ]
  },
  {
   "cell_type": "code",
   "execution_count": 2,
   "id": "5a2cf539-c972-4475-8cd2-f3a4886a5ddc",
   "metadata": {},
   "outputs": [
    {
     "name": "stdout",
     "output_type": "stream",
     "text": [
      "Downloading data from https://storage.googleapis.com/tensorflow/tf-keras-datasets/train-labels-idx1-ubyte.gz\n",
      "29515/29515 [==============================] - 0s 0us/step\n",
      "Downloading data from https://storage.googleapis.com/tensorflow/tf-keras-datasets/train-images-idx3-ubyte.gz\n",
      "26421880/26421880 [==============================] - 5s 0us/step\n",
      "Downloading data from https://storage.googleapis.com/tensorflow/tf-keras-datasets/t10k-labels-idx1-ubyte.gz\n",
      "5148/5148 [==============================] - 0s 0s/step\n",
      "Downloading data from https://storage.googleapis.com/tensorflow/tf-keras-datasets/t10k-images-idx3-ubyte.gz\n",
      "4422102/4422102 [==============================] - 1s 0us/step\n",
      "(60000, 28, 28, 1)\n",
      "(10000, 28, 28, 1)\n",
      "(60000,)\n"
     ]
    }
   ],
   "source": [
    "# mnist 데이터 가져오기\n",
    "# mnist = tf.keras.datasets.mnist         # MNIST : 손글씨 이미지\n",
    "mnist = tf.keras.datasets.fashion_mnist   # 의류(Fashion) 이미지\n",
    "(x_train,y_train),(x_test,y_test) = mnist.load_data()\n",
    "\n",
    "# X값의 타입을 float형으로 변환\n",
    "x_train = tf.cast(x_train,dtype=tf.float32)\n",
    "x_test = tf.cast(x_test,dtype=tf.float32)\n",
    "\n",
    "\n",
    "# X값의 shape을 4차원으로 변환                     # 무조건 4차원  아브렐슈드3관 마름모\n",
    "x_train = tf.reshape(x_train,[-1,28,28,1])\n",
    "x_test = tf.reshape(x_test,[-1,28,28,1])\n",
    "print(x_train.shape)                         # (60000, 28, 28, 1)\n",
    "print(x_test.shape)                          # (10000, 28, 28, 1)\n",
    "print(y_train.shape)                         # (60000,)"
   ]
  },
  {
   "cell_type": "code",
   "execution_count": 3,
   "id": "96ab0e14-ff47-4055-975a-3a0a14b448c0",
   "metadata": {},
   "outputs": [
    {
     "name": "stdout",
     "output_type": "stream",
     "text": [
      "Model: \"sequential\"\n",
      "_________________________________________________________________\n",
      " Layer (type)                Output Shape              Param #   \n",
      "=================================================================\n",
      " conv2d (Conv2D)             (None, 28, 28, 32)        320       \n",
      "                                                                 \n",
      " max_pooling2d (MaxPooling2D  (None, 14, 14, 32)       0         \n",
      " )                                                               \n",
      "                                                                 \n",
      " conv2d_1 (Conv2D)           (None, 14, 14, 64)        18496     \n",
      "                                                                 \n",
      " max_pooling2d_1 (MaxPooling  (None, 7, 7, 64)         0         \n",
      " 2D)                                                             \n",
      "                                                                 \n",
      " conv2d_2 (Conv2D)           (None, 7, 7, 128)         73856     \n",
      "                                                                 \n",
      " max_pooling2d_2 (MaxPooling  (None, 4, 4, 128)        0         \n",
      " 2D)                                                             \n",
      "                                                                 \n",
      " flatten (Flatten)           (None, 2048)              0         \n",
      "                                                                 \n",
      " dense (Dense)               (None, 10)                20490     \n",
      "                                                                 \n",
      "=================================================================\n",
      "Total params: 113,162\n",
      "Trainable params: 113,162\n",
      "Non-trainable params: 0\n",
      "_________________________________________________________________\n"
     ]
    }
   ],
   "source": [
    "# MNIST 분류 CNN Keras 모델 구현\n",
    "model = tf.keras.Sequential([\n",
    "    tf.keras.layers.Conv2D(filters=32,kernel_size=(3,3),padding='same',activation='relu',input_shape=(28, 28, 1)),\n",
    "    tf.keras.layers.MaxPool2D(pool_size=(2,2),strides=(2,2),padding='same'),\n",
    "    tf.keras.layers.Conv2D(filters=64,kernel_size=(3,3),padding='same',activation='relu'),\n",
    "    tf.keras.layers.MaxPool2D(pool_size=(2,2),strides=(2,2),padding='same'),\n",
    "    tf.keras.layers.Conv2D(filters=128,kernel_size=(3,3),padding='same',activation='relu'),\n",
    "    tf.keras.layers.MaxPool2D(pool_size=(2,2),strides=(2,2),padding='same'),\n",
    "    tf.keras.layers.Flatten(),\n",
    "    tf.keras.layers.Dense(units=10 ,activation='softmax')         # units 수는 카테고리수 회귀랑 이진분류는 1\n",
    "])\n",
    "model.compile(optimizer=tf.keras.optimizers.Adam(learning_rate=0.01),\n",
    "              loss ='sparse_categorical_crossentropy',\n",
    "              metrics = ['accuracy'])\n",
    "model.summary()\n",
    "# https://yeomko.tistory.com/40\n",
    "# Xavier Glorot Initialization : W(Weight) 값을 fan_in,fan_out를 사용하여 초기화하여 정확도 향상\n",
    "\n",
    "# loss 종류\n",
    "# mean_squared_error : 평균제곱 오차\n",
    "# binary_crossentropy : 이진분류 오차\n",
    "# categorical_crossentropy : 다중 분류 오차. one-hot encoding 클래스, [0.2, 0.3, 0.5] 와 같은 출력값과 실측값의 오차값을 계산한다.\n",
    "# sparse_categorical_crossentropy: 다중 분류 오차. 위와 동일하지만 , integer type 클래스라는 것이 다르다."
   ]
  },
  {
   "cell_type": "code",
   "execution_count": 4,
   "id": "d8ded166-036d-4334-9fab-e1b4b3785cbe",
   "metadata": {},
   "outputs": [
    {
     "name": "stdout",
     "output_type": "stream",
     "text": [
      "Epoch 1/25\n",
      "1407/1407 [==============================] - 7s 4ms/step - loss: 0.8597 - accuracy: 0.7722 - val_loss: 0.5396 - val_accuracy: 0.8020\n",
      "Epoch 2/25\n",
      "1407/1407 [==============================] - 5s 3ms/step - loss: 0.5536 - accuracy: 0.7967 - val_loss: 0.5505 - val_accuracy: 0.7751\n",
      "Epoch 3/25\n",
      "1407/1407 [==============================] - 5s 4ms/step - loss: 0.5491 - accuracy: 0.7987 - val_loss: 0.5690 - val_accuracy: 0.7806\n",
      "Epoch 4/25\n",
      "1407/1407 [==============================] - 5s 4ms/step - loss: 0.6122 - accuracy: 0.7717 - val_loss: 0.7065 - val_accuracy: 0.7165\n",
      "Epoch 5/25\n",
      "1407/1407 [==============================] - 5s 4ms/step - loss: 0.5625 - accuracy: 0.7884 - val_loss: 0.6167 - val_accuracy: 0.7670\n",
      "Epoch 6/25\n",
      "1407/1407 [==============================] - 5s 4ms/step - loss: 0.5683 - accuracy: 0.7872 - val_loss: 0.6107 - val_accuracy: 0.7660\n",
      "Epoch 7/25\n",
      "1407/1407 [==============================] - 5s 4ms/step - loss: 0.5822 - accuracy: 0.7818 - val_loss: 0.5370 - val_accuracy: 0.8012\n",
      "Epoch 8/25\n",
      "1407/1407 [==============================] - 5s 4ms/step - loss: 0.5650 - accuracy: 0.7905 - val_loss: 0.6369 - val_accuracy: 0.7745\n",
      "Epoch 9/25\n",
      "1407/1407 [==============================] - 5s 4ms/step - loss: 0.6034 - accuracy: 0.7659 - val_loss: 0.7111 - val_accuracy: 0.7354\n",
      "Epoch 10/25\n",
      "1407/1407 [==============================] - 5s 4ms/step - loss: 0.6023 - accuracy: 0.7700 - val_loss: 0.5701 - val_accuracy: 0.7847\n",
      "Epoch 11/25\n",
      "1407/1407 [==============================] - 5s 3ms/step - loss: 0.6286 - accuracy: 0.7588 - val_loss: 0.6401 - val_accuracy: 0.7355\n",
      "Epoch 12/25\n",
      "1407/1407 [==============================] - 5s 3ms/step - loss: 0.5944 - accuracy: 0.7649 - val_loss: 0.6165 - val_accuracy: 0.7582\n",
      "Epoch 13/25\n",
      "1407/1407 [==============================] - 5s 4ms/step - loss: 0.6060 - accuracy: 0.7603 - val_loss: 0.6619 - val_accuracy: 0.7388\n",
      "Epoch 14/25\n",
      "1407/1407 [==============================] - 5s 4ms/step - loss: 0.6424 - accuracy: 0.7522 - val_loss: 0.6240 - val_accuracy: 0.7539\n",
      "Epoch 15/25\n",
      "1407/1407 [==============================] - 5s 4ms/step - loss: 0.6359 - accuracy: 0.7542 - val_loss: 0.5891 - val_accuracy: 0.7738\n",
      "Epoch 16/25\n",
      "1407/1407 [==============================] - 5s 4ms/step - loss: 1.0248 - accuracy: 0.6277 - val_loss: 1.1768 - val_accuracy: 0.5690\n",
      "Epoch 17/25\n",
      "1407/1407 [==============================] - 5s 4ms/step - loss: 1.0720 - accuracy: 0.6028 - val_loss: 1.0229 - val_accuracy: 0.6126\n",
      "Epoch 18/25\n",
      "1407/1407 [==============================] - 5s 4ms/step - loss: 0.9747 - accuracy: 0.6256 - val_loss: 0.9227 - val_accuracy: 0.6457\n",
      "Epoch 19/25\n",
      "1407/1407 [==============================] - 5s 4ms/step - loss: 0.9209 - accuracy: 0.6442 - val_loss: 0.8185 - val_accuracy: 0.6882\n",
      "Epoch 20/25\n",
      "1407/1407 [==============================] - 5s 3ms/step - loss: 0.7537 - accuracy: 0.7112 - val_loss: 0.7166 - val_accuracy: 0.7323\n",
      "Epoch 21/25\n",
      "1407/1407 [==============================] - 5s 4ms/step - loss: 0.7020 - accuracy: 0.7351 - val_loss: 0.6821 - val_accuracy: 0.7467\n",
      "Epoch 22/25\n",
      "1407/1407 [==============================] - 5s 4ms/step - loss: 0.6859 - accuracy: 0.7421 - val_loss: 0.6825 - val_accuracy: 0.7513\n",
      "Epoch 23/25\n",
      "1407/1407 [==============================] - 5s 4ms/step - loss: 0.6479 - accuracy: 0.7580 - val_loss: 0.6332 - val_accuracy: 0.7724\n",
      "Epoch 24/25\n",
      "1407/1407 [==============================] - 5s 4ms/step - loss: 0.6631 - accuracy: 0.7564 - val_loss: 0.6112 - val_accuracy: 0.7715\n",
      "Epoch 25/25\n",
      "1407/1407 [==============================] - 5s 3ms/step - loss: 0.6123 - accuracy: 0.7747 - val_loss: 0.6203 - val_accuracy: 0.7711\n"
     ]
    },
    {
     "data": {
      "text/plain": [
       "<keras.callbacks.History at 0x220bbd05930>"
      ]
     },
     "execution_count": 4,
     "metadata": {},
     "output_type": "execute_result"
    }
   ],
   "source": [
    "# 학습\n",
    "model.fit(x_train,y_train,epochs=25,validation_split=0.25)\n",
    "# validation_split : 학습데이터를 학습과 평가용 데이터로 분리(75%:25%)"
   ]
  },
  {
   "cell_type": "code",
   "execution_count": 5,
   "id": "28868e5a-de80-488b-9843-7a9dafd9f5ca",
   "metadata": {},
   "outputs": [],
   "source": [
    "# train : 45000(train) + 15000(validation)\n",
    "# batch_size : 32\n",
    "#  1 epoch : 1407"
   ]
  },
  {
   "cell_type": "code",
   "execution_count": 6,
   "id": "313c457d-be79-435f-914d-b77072214e80",
   "metadata": {},
   "outputs": [
    {
     "name": "stdout",
     "output_type": "stream",
     "text": [
      "313/313 [==============================] - 1s 2ms/step - loss: 0.6419 - accuracy: 0.7590\n"
     ]
    },
    {
     "data": {
      "text/plain": [
       "[0.6418572664260864, 0.7590000033378601]"
      ]
     },
     "execution_count": 6,
     "metadata": {},
     "output_type": "execute_result"
    }
   ],
   "source": [
    "# 평가\n",
    "model.evaluate(x_test,y_test)"
   ]
  },
  {
   "cell_type": "code",
   "execution_count": 7,
   "id": "b17181a8-a359-461c-9d07-7453a5c3553b",
   "metadata": {},
   "outputs": [
    {
     "name": "stdout",
     "output_type": "stream",
     "text": [
      "1/1 [==============================] - 0s 91ms/step\n",
      "[9 2 1 1 8 1 4 6 5 7]\n",
      "[9 2 1 1 6 1 4 6 5 7]\n"
     ]
    }
   ],
   "source": [
    "# 예측\n",
    "preds = model.predict(x_test[:10])\n",
    "print(tf.argmax(preds,axis=1).numpy())\n",
    "print(y_test[:10])"
   ]
  },
  {
   "cell_type": "markdown",
   "id": "889efb75-1061-459e-a042-a5d081ef8972",
   "metadata": {},
   "source": [
    "### 모델 개선"
   ]
  },
  {
   "cell_type": "code",
   "execution_count": 8,
   "id": "dfdf5845-788a-4e67-b571-cf60a77793b5",
   "metadata": {},
   "outputs": [
    {
     "name": "stdout",
     "output_type": "stream",
     "text": [
      "Model: \"sequential_1\"\n",
      "_________________________________________________________________\n",
      " Layer (type)                Output Shape              Param #   \n",
      "=================================================================\n",
      " conv2d_3 (Conv2D)           (None, 28, 28, 32)        320       \n",
      "                                                                 \n",
      " conv2d_4 (Conv2D)           (None, 28, 28, 64)        18496     \n",
      "                                                                 \n",
      " max_pooling2d_3 (MaxPooling  (None, 14, 14, 64)       0         \n",
      " 2D)                                                             \n",
      "                                                                 \n",
      " dropout (Dropout)           (None, 14, 14, 64)        0         \n",
      "                                                                 \n",
      " conv2d_5 (Conv2D)           (None, 14, 14, 128)       73856     \n",
      "                                                                 \n",
      " conv2d_6 (Conv2D)           (None, 12, 12, 256)       295168    \n",
      "                                                                 \n",
      " max_pooling2d_4 (MaxPooling  (None, 6, 6, 256)        0         \n",
      " 2D)                                                             \n",
      "                                                                 \n",
      " dropout_1 (Dropout)         (None, 6, 6, 256)         0         \n",
      "                                                                 \n",
      " flatten_1 (Flatten)         (None, 9216)              0         \n",
      "                                                                 \n",
      " dense_1 (Dense)             (None, 512)               4719104   \n",
      "                                                                 \n",
      " dropout_2 (Dropout)         (None, 512)               0         \n",
      "                                                                 \n",
      " dense_2 (Dense)             (None, 256)               131328    \n",
      "                                                                 \n",
      " dropout_3 (Dropout)         (None, 256)               0         \n",
      "                                                                 \n",
      " dense_3 (Dense)             (None, 10)                2570      \n",
      "                                                                 \n",
      "=================================================================\n",
      "Total params: 5,240,842\n",
      "Trainable params: 5,240,842\n",
      "Non-trainable params: 0\n",
      "_________________________________________________________________\n"
     ]
    }
   ],
   "source": [
    "# VGGNet (VGG-19) 스타일의 MNIST 분류 CNN 모델 \n",
    "#--------------------------------------------\n",
    "# ( Conv2D * 2개  --> MaxPool2D ) * 2회 : 4층\n",
    "# ( Conv2D * 4개  --> MaxPool2D ) * 3회 : 12층\n",
    "# Dense * 3개                           : 3층\n",
    "#--------------------------------------------\n",
    "#                                     총 19층\n",
    "#--------------------------------------------\n",
    "# 각 네트워크마다 필터의 수를 2배로 증가 시킨다 : 32-->64-->128-->256-->512\n",
    "\n",
    "model = tf.keras.Sequential([\n",
    "    tf.keras.layers.Conv2D(filters=32,kernel_size=(3,3),padding='same',\n",
    "                           activation='relu',input_shape=(28,28,1)),\n",
    "    tf.keras.layers.Conv2D(filters=64,kernel_size=(3,3),padding='same',\n",
    "                           activation='relu'),\n",
    "    tf.keras.layers.MaxPool2D(pool_size=(2,2)),\n",
    "    tf.keras.layers.Dropout(rate=0.5),\n",
    "    \n",
    "    tf.keras.layers.Conv2D(filters=128,kernel_size=(3,3),padding='same',\n",
    "                           activation='relu'),\n",
    "    tf.keras.layers.Conv2D(filters=256,kernel_size=(3,3),padding='valid',\n",
    "                           activation='relu'),\n",
    "    tf.keras.layers.MaxPool2D(pool_size=(2,2)),\n",
    "    tf.keras.layers.Dropout(rate=0.5),\n",
    "\n",
    "    tf.keras.layers.Flatten(),\n",
    "    tf.keras.layers.Dense(units=512 ,activation='relu'),\n",
    "    tf.keras.layers.Dropout(rate=0.5),\n",
    "    tf.keras.layers.Dense(units=256 ,activation='relu'),\n",
    "    tf.keras.layers.Dropout(rate=0.5),\n",
    "    tf.keras.layers.Dense(units=10 ,activation='softmax')\n",
    "])\n",
    "model.compile(optimizer=tf.keras.optimizers.Adam(learning_rate=0.001),\n",
    "              loss ='sparse_categorical_crossentropy',\n",
    "              metrics = ['accuracy'])\n",
    "model.summary()"
   ]
  },
  {
   "cell_type": "code",
   "execution_count": 9,
   "id": "db0e08b5-9853-47d4-8fc7-aa4ea317805f",
   "metadata": {},
   "outputs": [
    {
     "name": "stdout",
     "output_type": "stream",
     "text": [
      "Epoch 1/25\n",
      "1407/1407 [==============================] - 12s 8ms/step - loss: 0.9338 - accuracy: 0.7292 - val_loss: 0.4219 - val_accuracy: 0.8379\n",
      "Epoch 2/25\n",
      "1407/1407 [==============================] - 11s 8ms/step - loss: 0.4919 - accuracy: 0.8234 - val_loss: 0.3658 - val_accuracy: 0.8583\n",
      "Epoch 3/25\n",
      "1407/1407 [==============================] - 11s 8ms/step - loss: 0.4293 - accuracy: 0.8447 - val_loss: 0.3115 - val_accuracy: 0.8811\n",
      "Epoch 4/25\n",
      "1407/1407 [==============================] - 11s 8ms/step - loss: 0.4063 - accuracy: 0.8518 - val_loss: 0.3340 - val_accuracy: 0.8779\n",
      "Epoch 5/25\n",
      "1407/1407 [==============================] - 11s 8ms/step - loss: 0.3934 - accuracy: 0.8590 - val_loss: 0.2986 - val_accuracy: 0.8898\n",
      "Epoch 6/25\n",
      "1407/1407 [==============================] - 11s 8ms/step - loss: 0.3802 - accuracy: 0.8627 - val_loss: 0.3199 - val_accuracy: 0.8765\n",
      "Epoch 7/25\n",
      "1407/1407 [==============================] - 11s 8ms/step - loss: 0.3827 - accuracy: 0.8647 - val_loss: 0.2928 - val_accuracy: 0.8861\n",
      "Epoch 8/25\n",
      "1407/1407 [==============================] - 11s 8ms/step - loss: 0.3718 - accuracy: 0.8674 - val_loss: 0.2924 - val_accuracy: 0.8881\n",
      "Epoch 9/25\n",
      "1407/1407 [==============================] - 11s 8ms/step - loss: 0.3688 - accuracy: 0.8701 - val_loss: 0.2783 - val_accuracy: 0.8960\n",
      "Epoch 10/25\n",
      "1407/1407 [==============================] - 11s 8ms/step - loss: 0.3643 - accuracy: 0.8696 - val_loss: 0.2857 - val_accuracy: 0.8987\n",
      "Epoch 11/25\n",
      "1407/1407 [==============================] - 11s 8ms/step - loss: 0.3505 - accuracy: 0.8753 - val_loss: 0.2838 - val_accuracy: 0.8891\n",
      "Epoch 12/25\n",
      "1407/1407 [==============================] - 11s 8ms/step - loss: 0.3519 - accuracy: 0.8755 - val_loss: 0.2796 - val_accuracy: 0.8961\n",
      "Epoch 13/25\n",
      "1407/1407 [==============================] - 11s 8ms/step - loss: 0.3565 - accuracy: 0.8754 - val_loss: 0.2672 - val_accuracy: 0.9008\n",
      "Epoch 14/25\n",
      "1407/1407 [==============================] - 11s 8ms/step - loss: 0.3429 - accuracy: 0.8787 - val_loss: 0.2645 - val_accuracy: 0.9017\n",
      "Epoch 15/25\n",
      "1407/1407 [==============================] - 11s 8ms/step - loss: 0.3599 - accuracy: 0.8746 - val_loss: 0.2982 - val_accuracy: 0.8887\n",
      "Epoch 16/25\n",
      "1407/1407 [==============================] - 11s 8ms/step - loss: 0.3517 - accuracy: 0.8750 - val_loss: 0.3246 - val_accuracy: 0.8804\n",
      "Epoch 17/25\n",
      "1407/1407 [==============================] - 11s 8ms/step - loss: 0.3505 - accuracy: 0.8764 - val_loss: 0.2551 - val_accuracy: 0.9039\n",
      "Epoch 18/25\n",
      "1407/1407 [==============================] - 12s 8ms/step - loss: 0.3433 - accuracy: 0.8785 - val_loss: 0.2551 - val_accuracy: 0.9058\n",
      "Epoch 19/25\n",
      "1407/1407 [==============================] - 11s 8ms/step - loss: 0.3320 - accuracy: 0.8824 - val_loss: 0.2881 - val_accuracy: 0.8929\n",
      "Epoch 20/25\n",
      "1407/1407 [==============================] - 11s 8ms/step - loss: 0.3545 - accuracy: 0.8739 - val_loss: 0.2784 - val_accuracy: 0.8947\n",
      "Epoch 21/25\n",
      "1407/1407 [==============================] - 11s 8ms/step - loss: 0.3544 - accuracy: 0.8762 - val_loss: 0.2708 - val_accuracy: 0.8981\n",
      "Epoch 22/25\n",
      "1407/1407 [==============================] - 11s 8ms/step - loss: 0.3491 - accuracy: 0.8778 - val_loss: 0.2688 - val_accuracy: 0.8997\n",
      "Epoch 23/25\n",
      "1407/1407 [==============================] - 11s 8ms/step - loss: 0.3459 - accuracy: 0.8769 - val_loss: 0.2776 - val_accuracy: 0.8973\n",
      "Epoch 24/25\n",
      "1407/1407 [==============================] - 11s 8ms/step - loss: 0.3437 - accuracy: 0.8783 - val_loss: 0.2683 - val_accuracy: 0.9025\n",
      "Epoch 25/25\n",
      "1407/1407 [==============================] - 11s 8ms/step - loss: 0.3460 - accuracy: 0.8759 - val_loss: 0.2643 - val_accuracy: 0.9001\n"
     ]
    },
    {
     "data": {
      "text/plain": [
       "<keras.callbacks.History at 0x223b75c03a0>"
      ]
     },
     "execution_count": 9,
     "metadata": {},
     "output_type": "execute_result"
    }
   ],
   "source": [
    "# 학습\n",
    "model.fit(x_train,y_train,epochs=25,validation_split=0.25)"
   ]
  },
  {
   "cell_type": "code",
   "execution_count": 10,
   "id": "5db7ea37-4f2c-4243-8908-26aeb63e45ac",
   "metadata": {},
   "outputs": [
    {
     "name": "stdout",
     "output_type": "stream",
     "text": [
      "313/313 [==============================] - 1s 2ms/step - loss: 0.2836 - accuracy: 0.8950\n"
     ]
    },
    {
     "data": {
      "text/plain": [
       "[0.2836371064186096, 0.8949999809265137]"
      ]
     },
     "execution_count": 10,
     "metadata": {},
     "output_type": "execute_result"
    }
   ],
   "source": [
    "# 평가\n",
    "model.evaluate(x_test,y_test)"
   ]
  },
  {
   "cell_type": "code",
   "execution_count": 11,
   "id": "10db796b-f4f9-4403-bc51-fa1eb13af2bd",
   "metadata": {},
   "outputs": [
    {
     "name": "stdout",
     "output_type": "stream",
     "text": [
      "1/1 [==============================] - 0s 313ms/step\n",
      "[9 2 1 1 6 1 4 6 5 7]\n",
      "[9 2 1 1 6 1 4 6 5 7]\n"
     ]
    }
   ],
   "source": [
    "# 예측\n",
    "preds = model.predict(x_test[:10])\n",
    "print(tf.argmax(preds,axis=1).numpy())\n",
    "print(y_test[:10])"
   ]
  },
  {
   "cell_type": "code",
   "execution_count": null,
   "id": "193c8cbd-bec9-4fef-805e-e7fb7641413c",
   "metadata": {},
   "outputs": [],
   "source": []
  }
 ],
 "metadata": {
  "kernelspec": {
   "display_name": "Python 3 (ipykernel)",
   "language": "python",
   "name": "python3"
  },
  "language_info": {
   "codemirror_mode": {
    "name": "ipython",
    "version": 3
   },
   "file_extension": ".py",
   "mimetype": "text/x-python",
   "name": "python",
   "nbconvert_exporter": "python",
   "pygments_lexer": "ipython3",
   "version": "3.10.14"
  }
 },
 "nbformat": 4,
 "nbformat_minor": 5
}
