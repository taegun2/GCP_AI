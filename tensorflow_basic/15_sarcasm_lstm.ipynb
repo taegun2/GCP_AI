{
 "cells": [
  {
   "cell_type": "code",
   "execution_count": 1,
   "id": "f43b7feb-8944-4940-9420-5c250644d0ae",
   "metadata": {},
   "outputs": [],
   "source": [
    "# sarcasm json data binary classfication\n",
    "# total 26,709 headlines"
   ]
  },
  {
   "cell_type": "code",
   "execution_count": 2,
   "id": "929a36b2-2db5-47b8-ac9e-8be93bc85451",
   "metadata": {},
   "outputs": [],
   "source": [
    "import json\n",
    "import tensorflow as tf\n",
    "import urllib\n",
    "from tensorflow.keras.preprocessing.text import Tokenizer\n",
    "from tensorflow.keras.preprocessing.sequence import pad_sequences"
   ]
  },
  {
   "cell_type": "code",
   "execution_count": 3,
   "id": "a47cfd8a-9b0e-4e32-840d-bdee4caa9785",
   "metadata": {},
   "outputs": [
    {
     "data": {
      "text/plain": [
       "('sarcasm.json', <http.client.HTTPMessage at 0x18e4d81f7c0>)"
      ]
     },
     "execution_count": 3,
     "metadata": {},
     "output_type": "execute_result"
    }
   ],
   "source": [
    "# sarcasm.json 데이터셋 파일 다운로드 , Windows용\n",
    "url = 'https://storage.googleapis.com/download.tensorflow.org/data/sarcasm.json'\n",
    "urllib.request.urlretrieve(url, 'sarcasm.json')"
   ]
  },
  {
   "cell_type": "code",
   "execution_count": 7,
   "id": "cec8227e-3729-4bc2-9c61-4e2aa3af95be",
   "metadata": {},
   "outputs": [],
   "source": [
    "# 데이터 파일 불러오기\n",
    "with open('sarcasm.json','r') as f:\n",
    "    datastore = json.load(f)\n",
    "\n",
    "sentences = []\n",
    "labels=[]\n",
    "\n",
    "for item in datastore:\n",
    "    sentences.append(item['headline'])\n",
    "    labels.append(item['is_sarcastic'])"
   ]
  },
  {
   "cell_type": "code",
   "execution_count": 9,
   "id": "05945708-ef87-4e2a-b934-99219998be98",
   "metadata": {},
   "outputs": [
    {
     "name": "stdout",
     "output_type": "stream",
     "text": [
      "<class 'dict'>\n",
      "(26709, 2)\n",
      "is_sarcastic\n",
      "0    14985\n",
      "1    11724\n",
      "Name: count, dtype: int64\n"
     ]
    },
    {
     "data": {
      "text/html": [
       "<div>\n",
       "<style scoped>\n",
       "    .dataframe tbody tr th:only-of-type {\n",
       "        vertical-align: middle;\n",
       "    }\n",
       "\n",
       "    .dataframe tbody tr th {\n",
       "        vertical-align: top;\n",
       "    }\n",
       "\n",
       "    .dataframe thead th {\n",
       "        text-align: right;\n",
       "    }\n",
       "</style>\n",
       "<table border=\"1\" class=\"dataframe\">\n",
       "  <thead>\n",
       "    <tr style=\"text-align: right;\">\n",
       "      <th></th>\n",
       "      <th>headline</th>\n",
       "      <th>is_sarcastic</th>\n",
       "    </tr>\n",
       "  </thead>\n",
       "  <tbody>\n",
       "    <tr>\n",
       "      <th>0</th>\n",
       "      <td>former versace store clerk sues over secret 'b...</td>\n",
       "      <td>0</td>\n",
       "    </tr>\n",
       "    <tr>\n",
       "      <th>1</th>\n",
       "      <td>the 'roseanne' revival catches up to our thorn...</td>\n",
       "      <td>0</td>\n",
       "    </tr>\n",
       "    <tr>\n",
       "      <th>2</th>\n",
       "      <td>mom starting to fear son's web series closest ...</td>\n",
       "      <td>1</td>\n",
       "    </tr>\n",
       "    <tr>\n",
       "      <th>3</th>\n",
       "      <td>boehner just wants wife to listen, not come up...</td>\n",
       "      <td>1</td>\n",
       "    </tr>\n",
       "    <tr>\n",
       "      <th>4</th>\n",
       "      <td>j.k. rowling wishes snape happy birthday in th...</td>\n",
       "      <td>0</td>\n",
       "    </tr>\n",
       "    <tr>\n",
       "      <th>5</th>\n",
       "      <td>advancing the world's women</td>\n",
       "      <td>0</td>\n",
       "    </tr>\n",
       "    <tr>\n",
       "      <th>6</th>\n",
       "      <td>the fascinating case for eating lab-grown meat</td>\n",
       "      <td>0</td>\n",
       "    </tr>\n",
       "    <tr>\n",
       "      <th>7</th>\n",
       "      <td>this ceo will send your kids to school, if you...</td>\n",
       "      <td>0</td>\n",
       "    </tr>\n",
       "    <tr>\n",
       "      <th>8</th>\n",
       "      <td>top snake handler leaves sinking huckabee camp...</td>\n",
       "      <td>1</td>\n",
       "    </tr>\n",
       "    <tr>\n",
       "      <th>9</th>\n",
       "      <td>friday's morning email: inside trump's presser...</td>\n",
       "      <td>0</td>\n",
       "    </tr>\n",
       "  </tbody>\n",
       "</table>\n",
       "</div>"
      ],
      "text/plain": [
       "                                            headline  is_sarcastic\n",
       "0  former versace store clerk sues over secret 'b...             0\n",
       "1  the 'roseanne' revival catches up to our thorn...             0\n",
       "2  mom starting to fear son's web series closest ...             1\n",
       "3  boehner just wants wife to listen, not come up...             1\n",
       "4  j.k. rowling wishes snape happy birthday in th...             0\n",
       "5                        advancing the world's women             0\n",
       "6     the fascinating case for eating lab-grown meat             0\n",
       "7  this ceo will send your kids to school, if you...             0\n",
       "8  top snake handler leaves sinking huckabee camp...             1\n",
       "9  friday's morning email: inside trump's presser...             0"
      ]
     },
     "execution_count": 9,
     "metadata": {},
     "output_type": "execute_result"
    }
   ],
   "source": [
    "# 데이터 프레임으로 보기\n",
    "import pandas as pd\n",
    "df = pd.DataFrame(datastore)\n",
    "df = df.iloc[:,1:]\n",
    "\n",
    "print(type(datastore[0]))  # <class 'dict'>\n",
    "print(df.shape)            # (26709, 2)\n",
    "print(df['is_sarcastic'].value_counts())   # 0    14985 : not sarcastic \n",
    "                                           # 1    11724 : sarcastic\n",
    "df.head(10)"
   ]
  },
  {
   "cell_type": "markdown",
   "id": "04bc3173-92cc-4bcb-9c94-9ab4cfd7acce",
   "metadata": {},
   "source": [
    "### 텍스트 전처리 : Tokenizer"
   ]
  },
  {
   "cell_type": "code",
   "execution_count": 12,
   "id": "6e112a8e-7ce6-43f7-937f-8978b0433daa",
   "metadata": {},
   "outputs": [],
   "source": [
    "# 전처리를 위한 변수 설정\n",
    "vocab_size = 10000      # 토큰화에 사용될 최대 어휘수\n",
    "embedding_dim = 16      # Embedding 계층의 output size\n",
    "max_length = 100        # 한 문장의 길이, 데이터 셋의 길이, maxlen\n",
    "trunc_type = 'post'     # maxlen보다 클 때 잘라낼 유형, 'post' : 뒤 쪽\n",
    "padding_type = 'post'   # maxlen보다 작을 때 0을 추가할 유형, 'post' : 뒤 쪽 \n",
    "oov_tok = \"<OOV>\"       # out-of-vocabulary(단어 집합에 없는 단어)\n",
    "training_size = 20000   # 학습 데이터의 개수"
   ]
  },
  {
   "cell_type": "code",
   "execution_count": 14,
   "id": "e18ca970-f4c8-46c7-9492-51bb262c8f39",
   "metadata": {},
   "outputs": [],
   "source": [
    "# train(20000)/test(6709) data split\n",
    "training_sentences = sentences[:training_size]\n",
    "training_labels = labels[:training_size]\n",
    "\n",
    "testing_sentences = sentences[training_size:]\n",
    "testing_labels = labels[training_size:]\n"
   ]
  },
  {
   "cell_type": "code",
   "execution_count": 26,
   "id": "d86ef98b-0c9b-4cc6-a30b-e62e6e169138",
   "metadata": {},
   "outputs": [
    {
     "name": "stdout",
     "output_type": "stream",
     "text": [
      "(20000, 100)\n",
      "(6709, 100)\n"
     ]
    }
   ],
   "source": [
    "# 토큰나이저를 시행하여 단어를 숫자값, 인덱스로 변환하여 저장\n",
    "\n",
    "# 가장 빈도가 높은 10000개의 단어들만 사용하여 토큰화\n",
    "tokenizer = Tokenizer(num_words=vocab_size, oov_token=oov_tok)\n",
    "\n",
    "# 단어 인덱스를 구축\n",
    "tokenizer.fit_on_texts(training_sentences)\n",
    "\n",
    "word_index = tokenizer.word_index\n",
    "#print(word_index)\n",
    "#문자열을 정수 인덱스의 리스트로 변환 : 정수 인코딩\n",
    "training_sequences = tokenizer.texts_to_sequences(training_sentences) # type은 list\n",
    "#print(training_sequences[10000])\n",
    "\n",
    "# 패딩, 벡터  표현을 얻음 : 신경망에 입력할 X값\n",
    "training_padded = pad_sequences(training_sequences,maxlen=max_length,\n",
    "                                padding=padding_type,truncating = trunc_type)\n",
    "#print(training_padded[0])\n",
    "\n",
    "# test 데이터 : 정수 인덱스의 리스트로 변환\n",
    "testing_sequences = tokenizer.texts_to_sequences(testing_sentences)\n",
    "# test 데이터 : 벡터 표현을 얻음\n",
    "testing_padded = pad_sequences(testing_sequences,maxlen=max_length,\n",
    "                                padding=padding_type,truncating = trunc_type)\n",
    "print(training_padded.shape) # (20000,100)\n",
    "print(testing_padded.shape) # (6709,100)"
   ]
  },
  {
   "cell_type": "code",
   "execution_count": 31,
   "id": "80d2d348-e89e-4d21-a30f-d4b8aacc2e4a",
   "metadata": {},
   "outputs": [],
   "source": [
    "# list를 array로 변환\n",
    "import numpy as np\n",
    "training_labels = np.array(training_labels) #(20000,)\n",
    "testing_labels = np.array(testing_labels)   #(6709,)"
   ]
  },
  {
   "cell_type": "code",
   "execution_count": 34,
   "id": "ec2d402e-b1c6-4459-9426-00856057e76b",
   "metadata": {},
   "outputs": [
    {
     "name": "stdout",
     "output_type": "stream",
     "text": [
      "Model: \"sequential_2\"\n",
      "_________________________________________________________________\n",
      " Layer (type)                Output Shape              Param #   \n",
      "=================================================================\n",
      " embedding_2 (Embedding)     (None, 100, 16)           160000    \n",
      "                                                                 \n",
      " global_average_pooling1d_1   (None, 16)               0         \n",
      " (GlobalAveragePooling1D)                                        \n",
      "                                                                 \n",
      " dense_2 (Dense)             (None, 24)                408       \n",
      "                                                                 \n",
      " dense_3 (Dense)             (None, 1)                 25        \n",
      "                                                                 \n",
      "=================================================================\n",
      "Total params: 160,433\n",
      "Trainable params: 160,433\n",
      "Non-trainable params: 0\n",
      "_________________________________________________________________\n"
     ]
    }
   ],
   "source": [
    "model = tf.keras.Sequential([\n",
    "    tf.keras.layers.Embedding(vocab_size,embedding_dim,input_length=max_length),\n",
    "    tf.keras.layers.GlobalAveragePooling1D(), # feature를 1차원 벡터로 변환\n",
    "    tf.keras.layers.Dense(24,activation='relu'),\n",
    "    tf.keras.layers.Dense(1,activation='sigmoid'),\n",
    "    \n",
    "    \n",
    "])\n",
    "model.compile(optimizer='adam',\n",
    "              loss = 'binary_crossentropy',\n",
    "              metrics=['accuracy'])\n",
    "model.summary()"
   ]
  },
  {
   "cell_type": "code",
   "execution_count": 35,
   "id": "5afceba9-6b5a-42c6-b33e-97dc6a344fbb",
   "metadata": {},
   "outputs": [
    {
     "name": "stdout",
     "output_type": "stream",
     "text": [
      "Epoch 1/30\n",
      "625/625 [==============================] - 6s 7ms/step - loss: 0.6561 - accuracy: 0.6087 - val_loss: 0.5442 - val_accuracy: 0.7831\n",
      "Epoch 2/30\n",
      "625/625 [==============================] - 3s 5ms/step - loss: 0.4094 - accuracy: 0.8396 - val_loss: 0.3785 - val_accuracy: 0.8375\n",
      "Epoch 3/30\n",
      "625/625 [==============================] - 3s 5ms/step - loss: 0.3033 - accuracy: 0.8794 - val_loss: 0.3540 - val_accuracy: 0.8439\n",
      "Epoch 4/30\n",
      "625/625 [==============================] - 3s 5ms/step - loss: 0.2534 - accuracy: 0.8993 - val_loss: 0.3404 - val_accuracy: 0.8569\n",
      "Epoch 5/30\n",
      "625/625 [==============================] - 3s 6ms/step - loss: 0.2184 - accuracy: 0.9147 - val_loss: 0.3460 - val_accuracy: 0.8498\n",
      "Epoch 6/30\n",
      "625/625 [==============================] - 3s 6ms/step - loss: 0.1910 - accuracy: 0.9262 - val_loss: 0.3513 - val_accuracy: 0.8530\n",
      "Epoch 7/30\n",
      "625/625 [==============================] - 3s 6ms/step - loss: 0.1694 - accuracy: 0.9370 - val_loss: 0.3678 - val_accuracy: 0.8512\n",
      "Epoch 8/30\n",
      "625/625 [==============================] - 3s 5ms/step - loss: 0.1522 - accuracy: 0.9431 - val_loss: 0.3992 - val_accuracy: 0.8407\n",
      "Epoch 9/30\n",
      "625/625 [==============================] - 3s 5ms/step - loss: 0.1361 - accuracy: 0.9503 - val_loss: 0.4043 - val_accuracy: 0.8474\n",
      "Epoch 10/30\n",
      "625/625 [==============================] - 3s 5ms/step - loss: 0.1219 - accuracy: 0.9584 - val_loss: 0.4207 - val_accuracy: 0.8499\n",
      "Epoch 11/30\n",
      "625/625 [==============================] - 3s 5ms/step - loss: 0.1108 - accuracy: 0.9613 - val_loss: 0.4535 - val_accuracy: 0.8435\n",
      "Epoch 12/30\n",
      "625/625 [==============================] - 3s 5ms/step - loss: 0.1016 - accuracy: 0.9649 - val_loss: 0.4688 - val_accuracy: 0.8445\n",
      "Epoch 13/30\n",
      "625/625 [==============================] - 3s 5ms/step - loss: 0.0912 - accuracy: 0.9700 - val_loss: 0.4987 - val_accuracy: 0.8422\n",
      "Epoch 14/30\n",
      "625/625 [==============================] - 3s 5ms/step - loss: 0.0826 - accuracy: 0.9724 - val_loss: 0.5266 - val_accuracy: 0.8384\n",
      "Epoch 15/30\n",
      "625/625 [==============================] - 3s 5ms/step - loss: 0.0763 - accuracy: 0.9752 - val_loss: 0.5673 - val_accuracy: 0.8328\n",
      "Epoch 16/30\n",
      "625/625 [==============================] - 3s 5ms/step - loss: 0.0689 - accuracy: 0.9783 - val_loss: 0.5990 - val_accuracy: 0.8323\n",
      "Epoch 17/30\n",
      "625/625 [==============================] - 3s 5ms/step - loss: 0.0650 - accuracy: 0.9791 - val_loss: 0.6192 - val_accuracy: 0.8319\n",
      "Epoch 18/30\n",
      "625/625 [==============================] - 3s 5ms/step - loss: 0.0578 - accuracy: 0.9819 - val_loss: 0.6464 - val_accuracy: 0.8314\n",
      "Epoch 19/30\n",
      "625/625 [==============================] - 3s 5ms/step - loss: 0.0546 - accuracy: 0.9825 - val_loss: 0.6785 - val_accuracy: 0.8287\n",
      "Epoch 20/30\n",
      "625/625 [==============================] - 3s 5ms/step - loss: 0.0487 - accuracy: 0.9856 - val_loss: 0.7130 - val_accuracy: 0.8261\n",
      "Epoch 21/30\n",
      "625/625 [==============================] - 3s 5ms/step - loss: 0.0449 - accuracy: 0.9872 - val_loss: 0.7601 - val_accuracy: 0.8259\n",
      "Epoch 22/30\n",
      "625/625 [==============================] - 3s 5ms/step - loss: 0.0408 - accuracy: 0.9888 - val_loss: 0.7837 - val_accuracy: 0.8241\n",
      "Epoch 23/30\n",
      "625/625 [==============================] - 3s 5ms/step - loss: 0.0381 - accuracy: 0.9892 - val_loss: 0.8228 - val_accuracy: 0.8202\n",
      "Epoch 24/30\n",
      "625/625 [==============================] - 3s 4ms/step - loss: 0.0358 - accuracy: 0.9894 - val_loss: 0.8603 - val_accuracy: 0.8216\n",
      "Epoch 25/30\n",
      "625/625 [==============================] - 3s 5ms/step - loss: 0.0325 - accuracy: 0.9908 - val_loss: 0.9188 - val_accuracy: 0.8162\n",
      "Epoch 26/30\n",
      "625/625 [==============================] - 3s 5ms/step - loss: 0.0297 - accuracy: 0.9914 - val_loss: 0.9310 - val_accuracy: 0.8153\n",
      "Epoch 27/30\n",
      "625/625 [==============================] - 3s 5ms/step - loss: 0.0273 - accuracy: 0.9926 - val_loss: 0.9783 - val_accuracy: 0.8134\n",
      "Epoch 28/30\n",
      "625/625 [==============================] - 3s 5ms/step - loss: 0.0263 - accuracy: 0.9920 - val_loss: 1.0116 - val_accuracy: 0.8134\n",
      "Epoch 29/30\n",
      "625/625 [==============================] - 3s 5ms/step - loss: 0.0244 - accuracy: 0.9935 - val_loss: 1.0977 - val_accuracy: 0.8104\n",
      "Epoch 30/30\n",
      "625/625 [==============================] - 3s 5ms/step - loss: 0.0229 - accuracy: 0.9934 - val_loss: 1.1027 - val_accuracy: 0.8119\n"
     ]
    }
   ],
   "source": [
    "# 학습\n",
    "history = model.fit(training_padded,training_labels,epochs=30,\n",
    "                    validation_data=(testing_padded,testing_labels))"
   ]
  },
  {
   "cell_type": "code",
   "execution_count": 36,
   "id": "2ef1a682-51bb-4d2d-a63b-198c2115842c",
   "metadata": {},
   "outputs": [
    {
     "data": {
      "image/png": "[encoded data removed]",
      "text/plain": [
       "<Figure size 640x480 with 1 Axes>"
      ]
     },
     "metadata": {},
     "output_type": "display_data"
    },
    {
     "data": {
      "image/png": "[encoded data removed]",
      "text/plain": [
       "<Figure size 640x480 with 1 Axes>"
      ]
     },
     "metadata": {},
     "output_type": "display_data"
    }
   ],
   "source": [
    "# 시각화\n",
    "import matplotlib.pyplot as plt\n",
    "\n",
    "def plot_graphs(history, string):\n",
    "    plt.plot(history.history[string])\n",
    "    plt.plot(history.history['val_'+string])\n",
    "    plt.xlabel(\"Epochs\")\n",
    "    plt.ylabel(string)\n",
    "    plt.legend([string, 'val_'+string])\n",
    "    plt.show()\n",
    "\n",
    "plot_graphs(history, \"accuracy\")\n",
    "plot_graphs(history, \"loss\")"
   ]
  },
  {
   "cell_type": "markdown",
   "id": "c1a08fdc-ea48-46ce-8f2d-b19680b5ffee",
   "metadata": {},
   "source": [
    "## 모델 개선"
   ]
  },
  {
   "cell_type": "code",
   "execution_count": 38,
   "id": "6c51d9bd-924e-433e-abe9-4bec473201a1",
   "metadata": {},
   "outputs": [
    {
     "name": "stdout",
     "output_type": "stream",
     "text": [
      "Model: \"sequential_4\"\n",
      "_________________________________________________________________\n",
      " Layer (type)                Output Shape              Param #   \n",
      "=================================================================\n",
      " embedding_4 (Embedding)     (None, 100, 16)           160000    \n",
      "                                                                 \n",
      " dropout (Dropout)           (None, 100, 16)           0         \n",
      "                                                                 \n",
      " bidirectional_2 (Bidirectio  (None, 100, 128)         41472     \n",
      " nal)                                                            \n",
      "                                                                 \n",
      " dropout_1 (Dropout)         (None, 100, 128)          0         \n",
      "                                                                 \n",
      " bidirectional_3 (Bidirectio  (None, 64)               41216     \n",
      " nal)                                                            \n",
      "                                                                 \n",
      " dropout_2 (Dropout)         (None, 64)                0         \n",
      "                                                                 \n",
      " dense_4 (Dense)             (None, 64)                4160      \n",
      "                                                                 \n",
      " dense_5 (Dense)             (None, 1)                 65        \n",
      "                                                                 \n",
      "=================================================================\n",
      "Total params: 246,913\n",
      "Trainable params: 246,913\n",
      "Non-trainable params: 0\n",
      "_________________________________________________________________\n"
     ]
    }
   ],
   "source": [
    "model = tf.keras.Sequential([\n",
    "    tf.keras.layers.Embedding(vocab_size,embedding_dim,input_length=max_length),\n",
    "    tf.keras.layers.Dropout(0.2),\n",
    "    tf.keras.layers.Bidirectional(tf.keras.layers.LSTM(64,return_sequences=True)),\n",
    "    tf.keras.layers.Dropout(0.2),\n",
    "    tf.keras.layers.Bidirectional(tf.keras.layers.LSTM(32)),\n",
    "    tf.keras.layers.Dropout(0.2),\n",
    "    tf.keras.layers.Dense(64,activation='relu'),\n",
    "    tf.keras.layers.Dense(1,activation='sigmoid'),\n",
    "    \n",
    "])\n",
    "model.compile(optimizer='adam',\n",
    "              loss = 'binary_crossentropy',\n",
    "              metrics=['accuracy'])\n",
    "model.summary()"
   ]
  },
  {
   "cell_type": "code",
   "execution_count": 39,
   "id": "07eba17b-4f31-4724-8d26-67c0730d8868",
   "metadata": {},
   "outputs": [
    {
     "name": "stdout",
     "output_type": "stream",
     "text": [
      "Epoch 1/30\n",
      "625/625 [==============================] - 23s 31ms/step - loss: 0.4187 - accuracy: 0.7955 - val_loss: 0.3386 - val_accuracy: 0.8517\n",
      "Epoch 2/30\n",
      "625/625 [==============================] - 18s 29ms/step - loss: 0.2334 - accuracy: 0.9075 - val_loss: 0.3465 - val_accuracy: 0.8530\n",
      "Epoch 3/30\n",
      "625/625 [==============================] - 18s 29ms/step - loss: 0.1653 - accuracy: 0.9365 - val_loss: 0.3944 - val_accuracy: 0.8492\n",
      "Epoch 4/30\n",
      "625/625 [==============================] - 19s 30ms/step - loss: 0.1153 - accuracy: 0.9579 - val_loss: 0.4427 - val_accuracy: 0.8480\n",
      "Epoch 5/30\n",
      "625/625 [==============================] - 19s 30ms/step - loss: 0.0861 - accuracy: 0.9693 - val_loss: 0.4736 - val_accuracy: 0.8453\n",
      "Epoch 6/30\n",
      "625/625 [==============================] - 19s 30ms/step - loss: 0.0682 - accuracy: 0.9760 - val_loss: 0.5780 - val_accuracy: 0.8480\n",
      "Epoch 7/30\n",
      "625/625 [==============================] - 19s 30ms/step - loss: 0.0528 - accuracy: 0.9807 - val_loss: 0.6385 - val_accuracy: 0.8384\n",
      "Epoch 8/30\n",
      "625/625 [==============================] - 18s 30ms/step - loss: 0.0442 - accuracy: 0.9845 - val_loss: 0.6657 - val_accuracy: 0.8395\n",
      "Epoch 9/30\n",
      "625/625 [==============================] - 19s 30ms/step - loss: 0.0332 - accuracy: 0.9882 - val_loss: 0.7359 - val_accuracy: 0.8410\n",
      "Epoch 10/30\n",
      "625/625 [==============================] - 18s 29ms/step - loss: 0.0331 - accuracy: 0.9885 - val_loss: 0.8422 - val_accuracy: 0.8363\n",
      "Epoch 11/30\n",
      "625/625 [==============================] - 18s 29ms/step - loss: 0.0251 - accuracy: 0.9911 - val_loss: 0.8668 - val_accuracy: 0.8386\n",
      "Epoch 12/30\n",
      "625/625 [==============================] - 18s 30ms/step - loss: 0.0242 - accuracy: 0.9920 - val_loss: 0.7796 - val_accuracy: 0.8340\n",
      "Epoch 13/30\n",
      "625/625 [==============================] - 18s 30ms/step - loss: 0.0213 - accuracy: 0.9928 - val_loss: 0.9521 - val_accuracy: 0.8381\n",
      "Epoch 14/30\n",
      "625/625 [==============================] - 18s 30ms/step - loss: 0.0198 - accuracy: 0.9934 - val_loss: 0.8833 - val_accuracy: 0.8328\n",
      "Epoch 15/30\n",
      "625/625 [==============================] - 19s 30ms/step - loss: 0.0194 - accuracy: 0.9934 - val_loss: 0.8533 - val_accuracy: 0.8343\n",
      "Epoch 16/30\n",
      "625/625 [==============================] - 19s 30ms/step - loss: 0.0169 - accuracy: 0.9944 - val_loss: 0.8731 - val_accuracy: 0.8343\n",
      "Epoch 17/30\n",
      "625/625 [==============================] - 19s 30ms/step - loss: 0.0171 - accuracy: 0.9937 - val_loss: 1.0144 - val_accuracy: 0.8320\n",
      "Epoch 18/30\n",
      "625/625 [==============================] - 19s 30ms/step - loss: 0.0151 - accuracy: 0.9950 - val_loss: 0.9966 - val_accuracy: 0.8325\n",
      "Epoch 19/30\n",
      "625/625 [==============================] - 19s 30ms/step - loss: 0.0117 - accuracy: 0.9955 - val_loss: 1.3442 - val_accuracy: 0.8255\n",
      "Epoch 20/30\n",
      "625/625 [==============================] - 19s 30ms/step - loss: 0.0113 - accuracy: 0.9959 - val_loss: 1.0988 - val_accuracy: 0.8264\n",
      "Epoch 21/30\n",
      "625/625 [==============================] - 19s 30ms/step - loss: 0.0088 - accuracy: 0.9967 - val_loss: 1.1832 - val_accuracy: 0.8289\n",
      "Epoch 22/30\n",
      "625/625 [==============================] - 19s 30ms/step - loss: 0.0101 - accuracy: 0.9962 - val_loss: 1.1453 - val_accuracy: 0.8308\n",
      "Epoch 23/30\n",
      "625/625 [==============================] - 19s 30ms/step - loss: 0.0117 - accuracy: 0.9958 - val_loss: 1.2337 - val_accuracy: 0.8250\n",
      "Epoch 24/30\n",
      "625/625 [==============================] - 19s 30ms/step - loss: 0.0107 - accuracy: 0.9965 - val_loss: 1.1776 - val_accuracy: 0.8360\n",
      "Epoch 25/30\n",
      "625/625 [==============================] - 19s 30ms/step - loss: 0.0109 - accuracy: 0.9969 - val_loss: 1.0690 - val_accuracy: 0.8272\n",
      "Epoch 26/30\n",
      "625/625 [==============================] - 19s 30ms/step - loss: 0.0094 - accuracy: 0.9964 - val_loss: 1.1536 - val_accuracy: 0.8307\n",
      "Epoch 27/30\n",
      "625/625 [==============================] - 19s 30ms/step - loss: 0.0072 - accuracy: 0.9974 - val_loss: 1.2295 - val_accuracy: 0.8264\n",
      "Epoch 28/30\n",
      "625/625 [==============================] - 18s 29ms/step - loss: 0.0088 - accuracy: 0.9972 - val_loss: 1.0607 - val_accuracy: 0.8264\n",
      "Epoch 29/30\n",
      "625/625 [==============================] - 19s 30ms/step - loss: 0.0089 - accuracy: 0.9973 - val_loss: 1.0267 - val_accuracy: 0.8329\n",
      "Epoch 30/30\n",
      "625/625 [==============================] - 19s 30ms/step - loss: 0.0087 - accuracy: 0.9973 - val_loss: 1.0433 - val_accuracy: 0.8281\n"
     ]
    }
   ],
   "source": [
    "# 학습\n",
    "history = model.fit(training_padded,training_labels,epochs=30,\n",
    "                    validation_data=(testing_padded,testing_labels))"
   ]
  },
  {
   "cell_type": "code",
   "execution_count": null,
   "id": "de73f316-8381-4b6d-9656-baf9cfad1710",
   "metadata": {},
   "outputs": [],
   "source": [
    "# 성능 약간 개선"
   ]
  },
  {
   "cell_type": "code",
   "execution_count": 40,
   "id": "f41a61f7-1372-4353-84c7-a50a0f004d6a",
   "metadata": {},
   "outputs": [
    {
     "name": "stdout",
     "output_type": "stream",
     "text": [
      "mom starting to fear son's web series closest thing she will have to grandchild ? ? ? ? ? ? ? ? ? ? ? ? ? ? ? ? ? ? ? ? ? ? ? ? ? ? ? ? ? ? ? ? ? ? ? ? ? ? ? ? ? ? ? ? ? ? ? ? ? ? ? ? ? ? ? ? ? ? ? ? ? ? ? ? ? ? ? ? ? ? ? ? ? ? ? ? ? ? ? ? ? ? ? ? ? ?\n",
      "mom starting to fear son's web series closest thing she will have to grandchild\n",
      "1\n"
     ]
    }
   ],
   "source": [
    "reverse_word_index = dict([(value, key) for (key, value) in word_index.items()])\n",
    "\n",
    "def decode_sentence(text):\n",
    "    return ' '.join([reverse_word_index.get(i, '?') for i in text])\n",
    "\n",
    "print(decode_sentence(training_padded[2]))\n",
    "print(training_sentences[2])\n",
    "print(labels[2])"
   ]
  },
  {
   "cell_type": "code",
   "execution_count": 41,
   "id": "21a2d445-c0f5-4f6f-9730-ef0b26816eb0",
   "metadata": {},
   "outputs": [
    {
     "name": "stdout",
     "output_type": "stream",
     "text": [
      "(10000, 16)\n"
     ]
    }
   ],
   "source": [
    "e = model.layers[0]\n",
    "weights = e.get_weights()[0]\n",
    "print(weights.shape)  #shape : (vocabulary )"
   ]
  },
  {
   "cell_type": "code",
   "execution_count": 47,
   "id": "cece50a6-1f32-4ce5-8d6a-c1929d4962ff",
   "metadata": {},
   "outputs": [
    {
     "name": "stdout",
     "output_type": "stream",
     "text": [
      "1/1 [==============================] - 0s 17ms/step\n",
      "[[0.02446546]\n",
      " [0.00048581]]\n",
      "[[0.]\n",
      " [0.]]\n"
     ]
    }
   ],
   "source": [
    "# 예측\n",
    "sentence = [\"granny starting to fear spiders in the garden might be real\",\n",
    "            \"game of thrones season finale showing this sunday night\"]\n",
    "sequences = tokenizer.texts_to_sequences(sentence)\n",
    "padded = pad_sequences(sequences,maxlen=max_length,padding=padding_type,\n",
    "                       truncating=trunc_type)\n",
    "padded.shape # (2,100)\n",
    "preds = model.predict(padded)\n",
    "print(preds)\n",
    "print(np.round(preds))"
   ]
  },
  {
   "cell_type": "code",
   "execution_count": 55,
   "id": "d122b727-c5a6-49f7-8e85-e3992ad8442b",
   "metadata": {},
   "outputs": [
    {
     "name": "stdout",
     "output_type": "stream",
     "text": [
      "1/1 [==============================] - 0s 24ms/step\n",
      "[[0.00762629]]\n",
      "[[0.]]\n"
     ]
    }
   ],
   "source": [
    "# 예측\n",
    "sentence = [\"you are good\"]\n",
    "sequences = tokenizer.texts_to_sequences(sentence)\n",
    "padded = pad_sequences(sequences,maxlen=max_length,padding=padding_type,\n",
    "                       truncating=trunc_type)\n",
    "padded.shape # (2,100)\n",
    "preds = model.predict(padded)\n",
    "print(preds)\n",
    "print(np.round(preds))"
   ]
  },
  {
   "cell_type": "markdown",
   "id": "188083c3-82cf-4c7a-876f-573a6909bb57",
   "metadata": {},
   "source": [
    "### Keras Tokenizer 설명"
   ]
  },
  {
   "cell_type": "code",
   "execution_count": 56,
   "id": "0c181af0-3e02-4840-947c-078125e03a66",
   "metadata": {},
   "outputs": [
    {
     "name": "stdout",
     "output_type": "stream",
     "text": [
      "\n",
      "Word Index =  {'<OOV>': 1, 'my': 2, 'love': 3, 'dog': 4, 'i': 5, 'you': 6, 'cat': 7, 'do': 8, 'think': 9, 'is': 10, 'amazing': 11}\n",
      "\n",
      "Sequences =  [[5, 3, 2, 4], [5, 3, 2, 7], [6, 3, 2, 4], [8, 6, 9, 2, 4, 10, 11]]\n",
      "\n",
      "Padded Sequences:\n",
      "[[ 0  5  3  2  4]\n",
      " [ 0  5  3  2  7]\n",
      " [ 0  6  3  2  4]\n",
      " [ 9  2  4 10 11]]\n",
      "\n",
      "Test Sequence =  [[5, 1, 3, 2, 4], [2, 4, 1, 2, 1]]\n",
      "\n",
      "Padded Test Sequence: \n",
      "[[0 0 0 0 0 5 1 3 2 4]\n",
      " [0 0 0 0 0 2 4 1 2 1]]\n"
     ]
    }
   ],
   "source": [
    "import tensorflow as tf\n",
    "from tensorflow import keras\n",
    "\n",
    "\n",
    "from tensorflow.keras.preprocessing.text import Tokenizer\n",
    "from tensorflow.keras.preprocessing.sequence import pad_sequences\n",
    "\n",
    "sentences = [\n",
    "    'I love my dog',\n",
    "    'I love my cat',\n",
    "    'You love my dog!',\n",
    "    'Do you think my dog is amazing?'\n",
    "]\n",
    "\n",
    "tokenizer = Tokenizer(num_words = 100, oov_token=\"<OOV>\")\n",
    "tokenizer.fit_on_texts(sentences)\n",
    "word_index = tokenizer.word_index\n",
    "\n",
    "sequences = tokenizer.texts_to_sequences(sentences)\n",
    "\n",
    "padded = pad_sequences(sequences, maxlen=5)\n",
    "print(\"\\nWord Index = \" , word_index)\n",
    "print(\"\\nSequences = \" , sequences)\n",
    "print(\"\\nPadded Sequences:\")\n",
    "print(padded)\n",
    "\n",
    "\n",
    "# Try with words that the tokenizer wasn't fit to\n",
    "test_data = [\n",
    "    'i really love my dog',\n",
    "    'my dog loves my manatee'\n",
    "]\n",
    "\n",
    "test_seq = tokenizer.texts_to_sequences(test_data)\n",
    "print(\"\\nTest Sequence = \", test_seq)\n",
    "\n",
    "padded = pad_sequences(test_seq, maxlen=10)\n",
    "print(\"\\nPadded Test Sequence: \")\n",
    "print(padded)"
   ]
  },
  {
   "cell_type": "code",
   "execution_count": null,
   "id": "80aa58d9-44aa-46ca-8fa9-9b44d1e65abb",
   "metadata": {},
   "outputs": [],
   "source": []
  }
 ],
 "metadata": {
  "kernelspec": {
   "display_name": "Python 3 (ipykernel)",
   "language": "python",
   "name": "python3"
  },
  "language_info": {
   "codemirror_mode": {
    "name": "ipython",
    "version": 3
   },
   "file_extension": ".py",
   "mimetype": "text/x-python",
   "name": "python",
   "nbconvert_exporter": "python",
   "pygments_lexer": "ipython3",
   "version": "3.10.14"
  }
 },
 "nbformat": 4,
 "nbformat_minor": 5
}
