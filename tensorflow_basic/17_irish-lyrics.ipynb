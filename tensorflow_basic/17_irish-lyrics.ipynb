{
 "cells": [
  {
   "cell_type": "code",
   "execution_count": 1,
   "id": "4fd557e9-c245-47c9-a1b0-830fe5da08fc",
   "metadata": {},
   "outputs": [],
   "source": [
    "import tensorflow as tf\n",
    "\n",
    "from tensorflow.keras.preprocessing.sequence import pad_sequences\n",
    "from tensorflow.keras.layers import Embedding, LSTM, Dense, Bidirectional\n",
    "from tensorflow.keras.preprocessing.text import Tokenizer\n",
    "from tensorflow.keras.models import Sequential\n",
    "from tensorflow.keras.optimizers import Adam\n",
    "import numpy as np \n",
    "\n",
    "import urllib"
   ]
  },
  {
   "cell_type": "code",
   "execution_count": 2,
   "id": "6805e5aa-c427-4e75-8ad5-371bddd1b8a3",
   "metadata": {},
   "outputs": [
    {
     "data": {
      "text/plain": [
       "('irish-lyrics-eof.txt', <http.client.HTTPMessage at 0x1eff2ebfbe0>)"
      ]
     },
     "execution_count": 2,
     "metadata": {},
     "output_type": "execute_result"
    }
   ],
   "source": [
    "# irish-lyrics-eof.txt 데이터셋 파일 다운로드 , Windows용\n",
    "#url = 'https://github.com/aaBadri/nlp-tf/blob/master/irish-lyrics-eof.txt'\n",
    "#urllib.request.urlretrieve(url, 'irish-lyrics-eof.txt')"
   ]
  },
  {
   "cell_type": "code",
   "execution_count": 7,
   "id": "a4358508-2bd8-4ecd-97a7-39718427383a",
   "metadata": {},
   "outputs": [
    {
     "name": "stdout",
     "output_type": "stream",
     "text": [
      "2690\n"
     ]
    }
   ],
   "source": [
    "# 토큰화\n",
    "tokenizer = Tokenizer()\n",
    "\n",
    "data = open('irish-lyrics-eof.txt').read()\n",
    "\n",
    "corpus = data.lower().split('\\n')\n",
    "tokenizer.fit_on_texts(corpus)\n",
    "#print(tokenizer.word_index)\n",
    "total_words=len(tokenizer.word_index) + 1\n",
    "print(total_words)"
   ]
  },
  {
   "cell_type": "code",
   "execution_count": 12,
   "id": "549ff653-89b0-4712-97d3-33610e9ba214",
   "metadata": {},
   "outputs": [
    {
     "data": {
      "text/plain": [
       "array([[0., 0., 0., ..., 0., 0., 0.],\n",
       "       [0., 0., 0., ..., 0., 0., 0.],\n",
       "       [0., 0., 0., ..., 0., 0., 0.],\n",
       "       ...,\n",
       "       [0., 0., 0., ..., 0., 0., 0.],\n",
       "       [0., 0., 0., ..., 0., 0., 0.],\n",
       "       [0., 0., 0., ..., 0., 0., 0.]], dtype=float32)"
      ]
     },
     "execution_count": 12,
     "metadata": {},
     "output_type": "execute_result"
    }
   ],
   "source": [
    "input_sequences = []\n",
    "for line in corpus:\n",
    "    token_list = tokenizer.texts_to_sequences([line])[0]\n",
    "    for i in range(1, len(token_list)):\n",
    "        n_gram_sequence = token_list[:i+1]\n",
    "        input_sequences.append(n_gram_sequence)\n",
    "\n",
    "# pad sequences\n",
    "max_sequence_len = max([len(x) for x in input_sequences])\n",
    "input_sequences = np.array(pad_sequences(input_sequences, maxlen=max_sequence_len, padding = 'pre'))\n",
    "\n",
    "# create predictors and label\n",
    "xs, labels = input_sequences[:,:-1],input_sequences[:,-1]\n",
    "ys = tf.keras.utils.to_categorical(labels, num_classes=total_words)  # 원핫 인코딩\n",
    "\n",
    "ys[:10]"
   ]
  },
  {
   "cell_type": "code",
   "execution_count": 13,
   "id": "cca8b9da-d389-4ae2-86a4-5bca45e4be1a",
   "metadata": {},
   "outputs": [
    {
     "name": "stdout",
     "output_type": "stream",
     "text": [
      "Model: \"sequential\"\n",
      "_________________________________________________________________\n",
      " Layer (type)                Output Shape              Param #   \n",
      "=================================================================\n",
      " embedding (Embedding)       (None, 15, 100)           269000    \n",
      "                                                                 \n",
      " bidirectional (Bidirectiona  (None, 300)              301200    \n",
      " l)                                                              \n",
      "                                                                 \n",
      " dense (Dense)               (None, 2690)              809690    \n",
      "                                                                 \n",
      "=================================================================\n",
      "Total params: 1,379,890\n",
      "Trainable params: 1,379,890\n",
      "Non-trainable params: 0\n",
      "_________________________________________________________________\n"
     ]
    }
   ],
   "source": [
    "model = Sequential()\n",
    "model.add(Embedding(total_words, 100, input_length=max_sequence_len-1))\n",
    "model.add(Bidirectional(LSTM(150)))\n",
    "model.add(Dense(total_words, activation='softmax'))\n",
    "adam = Adam(learning_rate=0.01)\n",
    "model.compile(loss='categorical_crossentropy', \n",
    "              optimizer=adam,\n",
    "              metrics=['accuracy'])\n",
    "\n",
    "model.summary()"
   ]
  },
  {
   "cell_type": "code",
   "execution_count": 14,
   "id": "0c5958ec-597b-477a-a59a-e41fa4d7cb45",
   "metadata": {},
   "outputs": [
    {
     "name": "stdout",
     "output_type": "stream",
     "text": [
      "Epoch 1/100\n",
      "377/377 [==============================] - 8s 10ms/step - loss: 6.6558 - accuracy: 0.0715\n",
      "Epoch 2/100\n",
      "377/377 [==============================] - 3s 9ms/step - loss: 5.7836 - accuracy: 0.1111\n",
      "Epoch 3/100\n",
      "377/377 [==============================] - 3s 9ms/step - loss: 4.9285 - accuracy: 0.1569\n",
      "Epoch 4/100\n",
      "377/377 [==============================] - 3s 9ms/step - loss: 3.9680 - accuracy: 0.2309\n",
      "Epoch 5/100\n",
      "377/377 [==============================] - 3s 9ms/step - loss: 3.0676 - accuracy: 0.3470\n",
      "Epoch 6/100\n",
      "377/377 [==============================] - 3s 9ms/step - loss: 2.3658 - accuracy: 0.4674\n",
      "Epoch 7/100\n",
      "377/377 [==============================] - 3s 9ms/step - loss: 1.8774 - accuracy: 0.5654\n",
      "Epoch 8/100\n",
      "377/377 [==============================] - 3s 9ms/step - loss: 1.4967 - accuracy: 0.6425\n",
      "Epoch 9/100\n",
      "377/377 [==============================] - 3s 9ms/step - loss: 1.2637 - accuracy: 0.6948\n",
      "Epoch 10/100\n",
      "377/377 [==============================] - 3s 9ms/step - loss: 1.1120 - accuracy: 0.7319\n",
      "Epoch 11/100\n",
      "377/377 [==============================] - 3s 9ms/step - loss: 1.0738 - accuracy: 0.7355\n",
      "Epoch 12/100\n",
      "377/377 [==============================] - 3s 9ms/step - loss: 1.0894 - accuracy: 0.7263\n",
      "Epoch 13/100\n",
      "377/377 [==============================] - 3s 9ms/step - loss: 1.1055 - accuracy: 0.7217\n",
      "Epoch 14/100\n",
      "377/377 [==============================] - 3s 9ms/step - loss: 1.0441 - accuracy: 0.7374\n",
      "Epoch 15/100\n",
      "377/377 [==============================] - 3s 9ms/step - loss: 1.0382 - accuracy: 0.7386\n",
      "Epoch 16/100\n",
      "377/377 [==============================] - 3s 9ms/step - loss: 1.1152 - accuracy: 0.7166\n",
      "Epoch 17/100\n",
      "377/377 [==============================] - 3s 9ms/step - loss: 1.2277 - accuracy: 0.6918\n",
      "Epoch 18/100\n",
      "377/377 [==============================] - 3s 9ms/step - loss: 1.1834 - accuracy: 0.7002\n",
      "Epoch 19/100\n",
      "377/377 [==============================] - 3s 9ms/step - loss: 1.0842 - accuracy: 0.7270\n",
      "Epoch 20/100\n",
      "377/377 [==============================] - 3s 9ms/step - loss: 0.9447 - accuracy: 0.7585\n",
      "Epoch 21/100\n",
      "377/377 [==============================] - 3s 9ms/step - loss: 0.9133 - accuracy: 0.7717\n",
      "Epoch 22/100\n",
      "377/377 [==============================] - 3s 9ms/step - loss: 0.8733 - accuracy: 0.7799\n",
      "Epoch 23/100\n",
      "377/377 [==============================] - 3s 9ms/step - loss: 0.8759 - accuracy: 0.7789\n",
      "Epoch 24/100\n",
      "377/377 [==============================] - 3s 9ms/step - loss: 0.9679 - accuracy: 0.7508\n",
      "Epoch 25/100\n",
      "377/377 [==============================] - 3s 9ms/step - loss: 1.1140 - accuracy: 0.7126\n",
      "Epoch 26/100\n",
      "377/377 [==============================] - 3s 9ms/step - loss: 1.1543 - accuracy: 0.7051\n",
      "Epoch 27/100\n",
      "377/377 [==============================] - 3s 9ms/step - loss: 1.0921 - accuracy: 0.7191\n",
      "Epoch 28/100\n",
      "377/377 [==============================] - 3s 9ms/step - loss: 0.9687 - accuracy: 0.7513\n",
      "Epoch 29/100\n",
      "377/377 [==============================] - 3s 9ms/step - loss: 0.8774 - accuracy: 0.7701\n",
      "Epoch 30/100\n",
      "377/377 [==============================] - 3s 9ms/step - loss: 0.7807 - accuracy: 0.7986\n",
      "Epoch 31/100\n",
      "377/377 [==============================] - 3s 9ms/step - loss: 0.7544 - accuracy: 0.8052\n",
      "Epoch 32/100\n",
      "377/377 [==============================] - 3s 9ms/step - loss: 0.7637 - accuracy: 0.8021\n",
      "Epoch 33/100\n",
      "377/377 [==============================] - 3s 9ms/step - loss: 0.8560 - accuracy: 0.7802\n",
      "Epoch 34/100\n",
      "377/377 [==============================] - 3s 9ms/step - loss: 0.9896 - accuracy: 0.7399\n",
      "Epoch 35/100\n",
      "377/377 [==============================] - 3s 9ms/step - loss: 1.1075 - accuracy: 0.7166\n",
      "Epoch 36/100\n",
      "377/377 [==============================] - 3s 9ms/step - loss: 1.1293 - accuracy: 0.7049\n",
      "Epoch 37/100\n",
      "377/377 [==============================] - 3s 9ms/step - loss: 1.0372 - accuracy: 0.7278\n",
      "Epoch 38/100\n",
      "377/377 [==============================] - 3s 9ms/step - loss: 0.9879 - accuracy: 0.7433\n",
      "Epoch 39/100\n",
      "377/377 [==============================] - 3s 9ms/step - loss: 0.9414 - accuracy: 0.7577\n",
      "Epoch 40/100\n",
      "377/377 [==============================] - 3s 9ms/step - loss: 0.8646 - accuracy: 0.7752\n",
      "Epoch 41/100\n",
      "377/377 [==============================] - 3s 9ms/step - loss: 0.7761 - accuracy: 0.7963\n",
      "Epoch 42/100\n",
      "377/377 [==============================] - 3s 9ms/step - loss: 0.7619 - accuracy: 0.8036\n",
      "Epoch 43/100\n",
      "377/377 [==============================] - 3s 9ms/step - loss: 0.7863 - accuracy: 0.7917\n",
      "Epoch 44/100\n",
      "377/377 [==============================] - 3s 9ms/step - loss: 0.7954 - accuracy: 0.7909\n",
      "Epoch 45/100\n",
      "377/377 [==============================] - 3s 9ms/step - loss: 0.9018 - accuracy: 0.7664\n",
      "Epoch 46/100\n",
      "377/377 [==============================] - 3s 9ms/step - loss: 1.1117 - accuracy: 0.7137\n",
      "Epoch 47/100\n",
      "377/377 [==============================] - 3s 9ms/step - loss: 1.1335 - accuracy: 0.7053\n",
      "Epoch 48/100\n",
      "377/377 [==============================] - 3s 9ms/step - loss: 1.0541 - accuracy: 0.7279\n",
      "Epoch 49/100\n",
      "377/377 [==============================] - 3s 9ms/step - loss: 0.9576 - accuracy: 0.7477\n",
      "Epoch 50/100\n",
      "377/377 [==============================] - 3s 9ms/step - loss: 0.9028 - accuracy: 0.7657\n",
      "Epoch 51/100\n",
      "377/377 [==============================] - 3s 9ms/step - loss: 0.8159 - accuracy: 0.7860\n",
      "Epoch 52/100\n",
      "377/377 [==============================] - 3s 9ms/step - loss: 0.7868 - accuracy: 0.7938\n",
      "Epoch 53/100\n",
      "377/377 [==============================] - 3s 9ms/step - loss: 0.7958 - accuracy: 0.7948\n",
      "Epoch 54/100\n",
      "377/377 [==============================] - 3s 9ms/step - loss: 0.8034 - accuracy: 0.7870\n",
      "Epoch 55/100\n",
      "377/377 [==============================] - 3s 9ms/step - loss: 0.8614 - accuracy: 0.7755\n",
      "Epoch 56/100\n",
      "377/377 [==============================] - 3s 9ms/step - loss: 0.9194 - accuracy: 0.7602\n",
      "Epoch 57/100\n",
      "377/377 [==============================] - 3s 9ms/step - loss: 0.9509 - accuracy: 0.7498\n",
      "Epoch 58/100\n",
      "377/377 [==============================] - 3s 9ms/step - loss: 0.9547 - accuracy: 0.7503\n",
      "Epoch 59/100\n",
      "377/377 [==============================] - 3s 9ms/step - loss: 0.9687 - accuracy: 0.7441\n",
      "Epoch 60/100\n",
      "377/377 [==============================] - 3s 9ms/step - loss: 0.9349 - accuracy: 0.7506\n",
      "Epoch 61/100\n",
      "377/377 [==============================] - 3s 9ms/step - loss: 0.8945 - accuracy: 0.7607\n",
      "Epoch 62/100\n",
      "377/377 [==============================] - 3s 9ms/step - loss: 0.8508 - accuracy: 0.7750\n",
      "Epoch 63/100\n",
      "377/377 [==============================] - 3s 9ms/step - loss: 0.8249 - accuracy: 0.7798\n",
      "Epoch 64/100\n",
      "377/377 [==============================] - 3s 9ms/step - loss: 0.7951 - accuracy: 0.7897\n",
      "Epoch 65/100\n",
      "377/377 [==============================] - 3s 9ms/step - loss: 0.7848 - accuracy: 0.7935\n",
      "Epoch 66/100\n",
      "377/377 [==============================] - 3s 9ms/step - loss: 0.8397 - accuracy: 0.7792\n",
      "Epoch 67/100\n",
      "377/377 [==============================] - 3s 9ms/step - loss: 0.9288 - accuracy: 0.7537\n",
      "Epoch 68/100\n",
      "377/377 [==============================] - 3s 9ms/step - loss: 1.0094 - accuracy: 0.7382\n",
      "Epoch 69/100\n",
      "377/377 [==============================] - 3s 9ms/step - loss: 1.0442 - accuracy: 0.7323\n",
      "Epoch 70/100\n",
      "377/377 [==============================] - 3s 9ms/step - loss: 0.9624 - accuracy: 0.7485\n",
      "Epoch 71/100\n",
      "377/377 [==============================] - 3s 9ms/step - loss: 0.8979 - accuracy: 0.7642\n",
      "Epoch 72/100\n",
      "377/377 [==============================] - 3s 9ms/step - loss: 0.8537 - accuracy: 0.7728\n",
      "Epoch 73/100\n",
      "377/377 [==============================] - 3s 9ms/step - loss: 0.8277 - accuracy: 0.7767\n",
      "Epoch 74/100\n",
      "377/377 [==============================] - 3s 9ms/step - loss: 0.7751 - accuracy: 0.7932\n",
      "Epoch 75/100\n",
      "377/377 [==============================] - 3s 9ms/step - loss: 0.7355 - accuracy: 0.8086\n",
      "Epoch 76/100\n",
      "377/377 [==============================] - 3s 9ms/step - loss: 0.7539 - accuracy: 0.8007\n",
      "Epoch 77/100\n",
      "377/377 [==============================] - 3s 9ms/step - loss: 0.8448 - accuracy: 0.7772\n",
      "Epoch 78/100\n",
      "377/377 [==============================] - 3s 9ms/step - loss: 0.9808 - accuracy: 0.7461\n",
      "Epoch 79/100\n",
      "377/377 [==============================] - 3s 9ms/step - loss: 1.0065 - accuracy: 0.7417\n",
      "Epoch 80/100\n",
      "377/377 [==============================] - 3s 9ms/step - loss: 1.0023 - accuracy: 0.7402\n",
      "Epoch 81/100\n",
      "377/377 [==============================] - 3s 9ms/step - loss: 0.9003 - accuracy: 0.7608\n",
      "Epoch 82/100\n",
      "377/377 [==============================] - 3s 9ms/step - loss: 0.8299 - accuracy: 0.7818\n",
      "Epoch 83/100\n",
      "377/377 [==============================] - 3s 9ms/step - loss: 0.8003 - accuracy: 0.7893\n",
      "Epoch 84/100\n",
      "377/377 [==============================] - 3s 9ms/step - loss: 0.7814 - accuracy: 0.7951\n",
      "Epoch 85/100\n",
      "377/377 [==============================] - 3s 9ms/step - loss: 0.7457 - accuracy: 0.8044\n",
      "Epoch 86/100\n",
      "377/377 [==============================] - 3s 9ms/step - loss: 0.7170 - accuracy: 0.8113\n",
      "Epoch 87/100\n",
      "377/377 [==============================] - 3s 9ms/step - loss: 0.7116 - accuracy: 0.8123\n",
      "Epoch 88/100\n",
      "377/377 [==============================] - 3s 9ms/step - loss: 0.7734 - accuracy: 0.7991\n",
      "Epoch 89/100\n",
      "377/377 [==============================] - 3s 9ms/step - loss: 0.8859 - accuracy: 0.7699\n",
      "Epoch 90/100\n",
      "377/377 [==============================] - 3s 9ms/step - loss: 0.9410 - accuracy: 0.7527\n",
      "Epoch 91/100\n",
      "377/377 [==============================] - 3s 9ms/step - loss: 0.9895 - accuracy: 0.7403\n",
      "Epoch 92/100\n",
      "377/377 [==============================] - 3s 9ms/step - loss: 0.9308 - accuracy: 0.7552\n",
      "Epoch 93/100\n",
      "377/377 [==============================] - 3s 9ms/step - loss: 0.9495 - accuracy: 0.7606\n",
      "Epoch 94/100\n",
      "377/377 [==============================] - 3s 9ms/step - loss: 0.9160 - accuracy: 0.7593\n",
      "Epoch 95/100\n",
      "377/377 [==============================] - 3s 9ms/step - loss: 0.8645 - accuracy: 0.7724\n",
      "Epoch 96/100\n",
      "377/377 [==============================] - 3s 9ms/step - loss: 0.9397 - accuracy: 0.7668\n",
      "Epoch 97/100\n",
      "377/377 [==============================] - 3s 9ms/step - loss: 0.9242 - accuracy: 0.7644\n",
      "Epoch 98/100\n",
      "377/377 [==============================] - 3s 9ms/step - loss: 0.9252 - accuracy: 0.7603\n",
      "Epoch 99/100\n",
      "377/377 [==============================] - 3s 9ms/step - loss: 0.8873 - accuracy: 0.7646\n",
      "Epoch 100/100\n",
      "377/377 [==============================] - 3s 9ms/step - loss: 0.8998 - accuracy: 0.7750\n",
      "<keras.engine.sequential.Sequential object at 0x000001EFF4E193C0>\n"
     ]
    }
   ],
   "source": [
    "# 학습\n",
    "history = model.fit(xs,ys,epochs=100, verbose=1)\n",
    "print(model)"
   ]
  },
  {
   "cell_type": "code",
   "execution_count": 15,
   "id": "5227f768-d555-4913-bb04-509b8c02db31",
   "metadata": {},
   "outputs": [
    {
     "data": {
      "image/png": "[encoded data removed]",
      "text/plain": [
       "<Figure size 640x480 with 1 Axes>"
      ]
     },
     "metadata": {},
     "output_type": "display_data"
    }
   ],
   "source": [
    "# 시각화\n",
    "import matplotlib.pyplot as plt\n",
    "\n",
    "\n",
    "def plot_graphs(history, string):\n",
    "    plt.plot(history.history[string])\n",
    "    plt.xlabel(\"Epochs\")\n",
    "    plt.ylabel(string)\n",
    "    plt.show()\n",
    "    \n",
    "plot_graphs(history, 'accuracy')"
   ]
  },
  {
   "cell_type": "code",
   "execution_count": 17,
   "id": "afd6d2a1-7da6-42cb-9208-fa18559d738b",
   "metadata": {},
   "outputs": [
    {
     "name": "stdout",
     "output_type": "stream",
     "text": [
      "I've got a bad feeling about this id from me and said the fine old canal bare your friends flood heavens sun sets gone gone gone gone away love easy gone by day by side by side by side by i our wedding day please god stop grows lies along one hurrah me heavenward o power of my power of tears still tears them fray far alive hear oer the bounding main main chains hes stationed soul wild their mantle are creeping above i might ask someone thou art heavenward winging fading omalley started me my art heavenward winging across the counter had back pray someone gone\n"
     ]
    }
   ],
   "source": [
    "# 텍스트(문장) 생성\n",
    "seed_text = \"I've got a bad feeling about this\"\n",
    "next_words = 100\n",
    "  \n",
    "for _ in range(next_words):\n",
    "    token_list = tokenizer.texts_to_sequences([seed_text])[0]\n",
    "    token_list = pad_sequences([token_list], maxlen=max_sequence_len-1, padding='pre')\n",
    "    predicted = tf.argmax(model.predict(token_list, verbose=0),axis=1)\n",
    "    output_word = \"\"\n",
    "    for word, index in tokenizer.word_index.items():\n",
    "        if index == predicted:\n",
    "            output_word = word\n",
    "            break\n",
    "    seed_text += \" \" + output_word\n",
    "print(seed_text)"
   ]
  },
  {
   "cell_type": "code",
   "execution_count": null,
   "id": "ac20ea7d-01ff-4464-a680-f2466fa638ce",
   "metadata": {},
   "outputs": [],
   "source": []
  }
 ],
 "metadata": {
  "kernelspec": {
   "display_name": "Python 3 (ipykernel)",
   "language": "python",
   "name": "python3"
  },
  "language_info": {
   "codemirror_mode": {
    "name": "ipython",
    "version": 3
   },
   "file_extension": ".py",
   "mimetype": "text/x-python",
   "name": "python",
   "nbconvert_exporter": "python",
   "pygments_lexer": "ipython3",
   "version": "3.10.14"
  }
 },
 "nbformat": 4,
 "nbformat_minor": 5
}
