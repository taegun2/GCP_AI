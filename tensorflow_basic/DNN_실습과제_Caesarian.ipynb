{
 "cells": [
  {
   "cell_type": "markdown",
   "id": "81c80e71-5375-4ddc-8be5-c08030d77f00",
   "metadata": {},
   "source": [
    "### [2] Caesarian 제왕절개 Logistic Regression 모델을 텐서플로를 사용하여 3층으로신경망을 구현하여 Accuracy를 구하여 단층 신경망과 비교하여 보세요\n",
    "###    단층일 때보다 정확도가 높아지도록 구현한다"
   ]
  },
  {
   "cell_type": "code",
   "execution_count": 1,
   "id": "18fec765-e5c8-4598-8e03-6e06d17b9d31",
   "metadata": {},
   "outputs": [],
   "source": [
    "import tensorflow as tf\n",
    "import numpy as np\n",
    "tf.random.set_seed(5)"
   ]
  },
  {
   "cell_type": "code",
   "execution_count": 2,
   "id": "1e81b8c1-05ea-41f6-921f-8dd78c0e6b97",
   "metadata": {},
   "outputs": [
    {
     "name": "stdout",
     "output_type": "stream",
     "text": [
      "(80, 6)\n",
      "(56, 5) (56, 1)\n",
      "(24, 5) (24, 1)\n"
     ]
    }
   ],
   "source": [
    "# 데이터 불러 오기\n",
    "xy = np.loadtxt('caesarian.csv', delimiter=',', dtype=np.float32)\n",
    "xy.shape        #(759,9)\n",
    "print(xy.shape)\n",
    "# 학습 데이터 분리 : 70% 531개\n",
    "x_train = xy[:56,:-1]     # X     \n",
    "y_train = xy[:56,[-1]]    # Y\n",
    "print(x_train.shape,y_train.shape)\n",
    "\n",
    "# 검증 데이터 분리 : 30% 228개\n",
    "x_test = xy[56:,:-1]     # X     \n",
    "y_test = xy[56:,[-1]]    # Y\n",
    "print(x_test.shape,y_test.shape)"
   ]
  },
  {
   "cell_type": "code",
   "execution_count": 3,
   "id": "63fd17d6-5c9f-47d4-b70a-cd9b807190f9",
   "metadata": {},
   "outputs": [],
   "source": [
    "# 변수 초기화 : weight, bias\n",
    "# (m,n) * (n,l) = (m,l)  : 행렬의 내적 곱셉 공식\n",
    "#(56,5) * (5,5) = (56,5)                                 # x_train.shape과 W를 행렬곱하여 y_train.shape되도록\n",
    "W1 = tf.Variable(tf.random.normal([5,3]),name='weight1')     # W의 행렬 수치 수정(random.normal([ 여기 값 ])) \n",
    "b1 = tf.Variable(tf.random.normal([3]),name='bias1')         # b(bias)는 W의 마지막값과 같은 값으로 둔다 \n",
    "\n",
    "def layer1(X):\n",
    "    return tf.nn.relu(tf.matmul(X,W1) + b1)"
   ]
  },
  {
   "cell_type": "code",
   "execution_count": 4,
   "id": "98c72442-134b-4ac9-a05e-cee592fa01f7",
   "metadata": {},
   "outputs": [],
   "source": [
    "# layer2\n",
    "# 변수 초기화 : weight, bias\n",
    "# X * W = Y\n",
    "# (m,n) * (n,l) = (m,l)  : 행렬의 내적 곱셉 공식\n",
    "#(56,5) * (5,5) = (56,5)                                 # x_train.shape과 W를 행렬곱하여 y_train.shape되도록\n",
    "W2 = tf.Variable(tf.random.normal([3,2]),name='weight2')     # W의 행렬 수치 수정(random.normal([ 여기 값 ])) \n",
    "b2 = tf.Variable(tf.random.normal([2]),name='bias2')         # b(bias)는 W의 마지막값과 같은 값으로 둔다 \n",
    "\n",
    "def layer2(X):\n",
    "    return tf.nn.relu(tf.matmul(layer1(X),W2) + b2)"
   ]
  },
  {
   "cell_type": "code",
   "execution_count": 5,
   "id": "b2602e66-6fbe-4600-b97b-ca507ad36484",
   "metadata": {},
   "outputs": [],
   "source": [
    "# Layer 3 : 출력 층(Output layer)\n",
    "W3 = tf.Variable(tf.random.normal([2,1]),name='weight3')     # W의 행렬 수치 수정(random.normal([ 여기 값 ])) \n",
    "b3 = tf.Variable(tf.random.normal([1]),name='bias3')         # b(bias)는 W의 마지막값과 같은 값으로 둔다 "
   ]
  },
  {
   "cell_type": "code",
   "execution_count": 6,
   "id": "5137877f-4e32-4f67-94bc-7b3b2769397e",
   "metadata": {},
   "outputs": [],
   "source": [
    "# 예측 함수(hypothesis) : H(X) = sigmoid(W*X + b)\n",
    "# 이전 층의 출력이 입력으로 들어와야됨 \n",
    "def hypothesis(X):\n",
    "    return tf.sigmoid(tf.matmul(layer2(X),W3) + b3)  # 0 과 1 사이의 값 출력"
   ]
  },
  {
   "cell_type": "code",
   "execution_count": 7,
   "id": "b0ac5909-eca3-44cf-9074-577c1dcf9d0b",
   "metadata": {},
   "outputs": [],
   "source": [
    "# 비용 함수 : logloss, 2진 분류 모델\n",
    "def cost_func():\n",
    "    cost = -tf.reduce_mean(y_train*tf.math.log(hypothesis(x_train)) +                # y가 0일때는 앞의식은 0됨 \n",
    "                         (1-y_train)*tf.math.log(1-hypothesis(x_train)))             # y가 1일때는 뒤의식은 0됨 \n",
    "    return cost"
   ]
  },
  {
   "cell_type": "code",
   "execution_count": 8,
   "id": "0539d2a3-e10a-43c9-83af-971d62e49348",
   "metadata": {},
   "outputs": [],
   "source": [
    "# 경사 하강법\n",
    "# learning_rate(학습율)을 0.01 로 설정하여 optimizer객체를 생성\n",
    "optimizer = tf.optimizers.Adam(learning_rate=0.01)"
   ]
  },
  {
   "cell_type": "code",
   "execution_count": 9,
   "id": "d954faa3-c716-4b1d-bb65-3dcf7dde29d3",
   "metadata": {},
   "outputs": [
    {
     "name": "stdout",
     "output_type": "stream",
     "text": [
      "***** Start Learning!!\n",
      "0000 cost:[ 0.70376265 ]\n",
      "1000 cost:[ 0.46454245 ]\n",
      "2000 cost:[ 0.46268204 ]\n",
      "3000 cost:[ 0.4625016 ]\n",
      "4000 cost:[ 0.4632113 ]\n",
      "5000 cost:[ 0.46248025 ]\n",
      "6000 cost:[ 0.690594 ]\n",
      "7000 cost:[ 0.690594 ]\n",
      "8000 cost:[ 0.690594 ]\n",
      "9000 cost:[ 0.690594 ]\n",
      "10000 cost:[ 0.690594 ]\n",
      "***** Learning Finished!!\n"
     ]
    }
   ],
   "source": [
    "# 학습 시작\n",
    "print('***** Start Learning!!')\n",
    "for step in range(10001):\n",
    "    optimizer.minimize(cost_func,var_list=[W1,b1,W2,b2,W3,b3])\n",
    "    if step % 1000 == 0:\n",
    "        print('%04d'%step,'cost:[',cost_func().numpy(),']')\n",
    "        \n",
    "print('***** Learning Finished!!')"
   ]
  },
  {
   "cell_type": "code",
   "execution_count": 10,
   "id": "cae2adde-4cf2-412e-b5b8-0d6897cb2965",
   "metadata": {},
   "outputs": [
    {
     "name": "stdout",
     "output_type": "stream",
     "text": [
      "***** Predict\n",
      "tf.Tensor(\n",
      "[[0.5357143]\n",
      " [0.5357143]\n",
      " [0.5357143]\n",
      " [0.5357143]\n",
      " [0.5357143]\n",
      " [0.5357143]\n",
      " [0.5357143]\n",
      " [0.5357143]\n",
      " [0.5357143]\n",
      " [0.5357143]\n",
      " [0.5357143]\n",
      " [0.5357143]\n",
      " [0.5357143]\n",
      " [0.5357143]\n",
      " [0.5357143]\n",
      " [0.5357143]\n",
      " [0.5357143]\n",
      " [0.5357143]\n",
      " [0.5357143]\n",
      " [0.5357143]\n",
      " [0.5357143]\n",
      " [0.5357143]\n",
      " [0.5357143]\n",
      " [0.5357143]], shape=(24, 1), dtype=float32)\n"
     ]
    }
   ],
   "source": [
    "# 예측\n",
    "print('***** Predict')\n",
    "\n",
    "tx_test = np.array(x_test,dtype=np.float32)\n",
    "print(hypothesis(tx_test))"
   ]
  },
  {
   "cell_type": "code",
   "execution_count": 11,
   "id": "96f78ffd-6d17-4b80-a0db-47b7f0bb72e9",
   "metadata": {},
   "outputs": [
    {
     "name": "stdout",
     "output_type": "stream",
     "text": [
      "Accuracy: 0.6666667\n"
     ]
    }
   ],
   "source": [
    "#정확도 측정 : accuracy computation\n",
    "def predict(X):\n",
    "    return tf.cast(hypothesis(X) > 0.5,dtype=tf.float32)\n",
    "\n",
    "# 검증 데이터를 사용하여 예측 \n",
    "preds = predict(x_test)\n",
    "accuracy = tf.reduce_mean(tf.cast(tf.equal(preds,y_test),dtype=tf.float32))\n",
    "\n",
    "print('Accuracy:',accuracy.numpy()) \n",
    "# print('Hypothesis:\\n',hypothesis(x_test).numpy())\n",
    "# print('Predict:\\n',preds.numpy())"
   ]
  }
 ],
 "metadata": {
  "kernelspec": {
   "display_name": "Python 3 (ipykernel)",
   "language": "python",
   "name": "python3"
  },
  "language_info": {
   "codemirror_mode": {
    "name": "ipython",
    "version": 3
   },
   "file_extension": ".py",
   "mimetype": "text/x-python",
   "name": "python",
   "nbconvert_exporter": "python",
   "pygments_lexer": "ipython3",
   "version": "3.10.14"
  }
 },
 "nbformat": 4,
 "nbformat_minor": 5
}
