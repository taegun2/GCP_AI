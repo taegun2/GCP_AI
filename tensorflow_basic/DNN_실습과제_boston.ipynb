{
 "cells": [
  {
   "cell_type": "markdown",
   "id": "6e1b075e-3107-433d-9697-a41ae29513aa",
   "metadata": {},
   "source": [
    "### [1] Boston 주택 가격 회귀 예측 모델을 텐서플로로  3층 신경망을 구현하여 RMSE를 구하여 단층 신경망과 비교하여 보세요 : \n",
    "##### 단층일 때보다 RMSE가 낮아지도록 구현한다"
   ]
  },
  {
   "cell_type": "code",
   "execution_count": 1,
   "id": "3ec3117f-16c5-4f76-b492-8eed52d8d1f5",
   "metadata": {},
   "outputs": [],
   "source": [
    "import tensorflow as tf\n",
    "import numpy as np\n",
    "tf.random.set_seed(5)"
   ]
  },
  {
   "cell_type": "code",
   "execution_count": 2,
   "id": "ea2d25b5-56ba-4738-8336-e395a4133a39",
   "metadata": {},
   "outputs": [
    {
     "name": "stdout",
     "output_type": "stream",
     "text": [
      "(400, 10)\n",
      "(400, 9) (400, 1)\n"
     ]
    }
   ],
   "source": [
    "# 데이터 불러 오기\n",
    "xy = np.loadtxt('boston_train.csv', delimiter=',',skiprows=1, dtype=np.float32)\n",
    "xy.shape          #(400,10)\n",
    "print(xy.shape)\n",
    "# x_train\n",
    "x_train = xy[:,:-1]     # X     \n",
    "y_train = xy[:,[-1]]    # Y\n",
    "print(x_train.shape,y_train.shape)"
   ]
  },
  {
   "cell_type": "code",
   "execution_count": 3,
   "id": "ebd5d45a-573f-4f8d-b9da-e95ff276c7b2",
   "metadata": {},
   "outputs": [],
   "source": [
    "# layer1\n",
    "# 변수 초기화 : weight, bias\n",
    "# X * W = Y\n",
    "# (m,n) * (n,l) = (m,l)  : 행렬의 내적 곱셉 공식\n",
    "#(400,9) * (9,5) = (400,5)                                 # x_train.shape과 W를 행렬곱하여 y_train.shape되도록\n",
    "W1 = tf.Variable(tf.random.normal([9,5]),name='weight1')     # W의 행렬 수치 수정(random.normal([ 여기 값 ])) \n",
    "b1 = tf.Variable(tf.random.normal([5]),name='bias1')         # b(bias)는 W의 마지막값과 같은 값으로 둔다 \n",
    "\n",
    "def layer1(X):\n",
    "    return tf.nn.relu(tf.matmul(X,W1) + b1)"
   ]
  },
  {
   "cell_type": "code",
   "execution_count": 4,
   "id": "9176bf01-52fd-4a2f-b0f7-01083514944d",
   "metadata": {},
   "outputs": [],
   "source": [
    "# layer2\n",
    "# 변수 초기화 : weight, bias\n",
    "# X * W = Y\n",
    "# (m,n) * (n,l) = (m,l)  : 행렬의 내적 곱셉 공식\n",
    "#(400,5) * (5,2) = (400,2)                                 # x_train.shape과 W를 행렬곱하여 y_train.shape되도록\n",
    "W2 = tf.Variable(tf.random.normal([5,2]),name='weight2')     # W의 행렬 수치 수정(random.normal([ 여기 값 ])) \n",
    "b2 = tf.Variable(tf.random.normal([2]),name='bias2')         # b(bias)는 W의 마지막값과 같은 값으로 둔다 \n",
    "\n",
    "def layer2(X):\n",
    "    return tf.nn.relu(tf.matmul(layer1(X),W2) + b2)"
   ]
  },
  {
   "cell_type": "code",
   "execution_count": 5,
   "id": "82052621-4bf4-41f3-a723-dd544c8af3ca",
   "metadata": {},
   "outputs": [],
   "source": [
    "# Layer 3 : 출력 층(Output layer)\n",
    "W3 = tf.Variable(tf.random.normal([2,1]),name='weight3')     # W의 행렬 수치 수정(random.normal([ 여기 값 ])) \n",
    "b3 = tf.Variable(tf.random.normal([1]),name='bias3')         # b(bias)는 W의 마지막값과 같은 값으로 둔다 "
   ]
  },
  {
   "cell_type": "code",
   "execution_count": 6,
   "id": "9c1478c4-a0a1-4599-98c1-c8cf609024d3",
   "metadata": {},
   "outputs": [],
   "source": [
    "# 예측 함수(hypothesis) : H(X) = sigmoid(W*X + b)\n",
    "# 이전 층의 출력이 입력으로 들어와야됨 \n",
    "def hypothesis(X):\n",
    "    return tf.matmul(layer2(X),W3) + b3  # 0 과 1 사이의 값 출력"
   ]
  },
  {
   "cell_type": "code",
   "execution_count": 7,
   "id": "a61ac9cc-dfd6-45e9-a051-ef5b2ddaee18",
   "metadata": {},
   "outputs": [],
   "source": [
    "# 비용 함수 : (Hx - y)^2 의 평균\n",
    "# tf.square() : 제곱\n",
    "# tf.reduce_mean() : 평균\n",
    "def cost_func():\n",
    "    cost = tf.reduce_mean(tf.square(hypothesis(x_train) - y_train))\n",
    "    return cost"
   ]
  },
  {
   "cell_type": "code",
   "execution_count": 8,
   "id": "614c69f8-e419-483f-8c9f-553884f36004",
   "metadata": {},
   "outputs": [],
   "source": [
    "# 경사 하강법\n",
    "# learning_rate(학습율)을 0.01 로 설정하여 optimizer객체를 생성\n",
    "# optimizer = tf.compat.v1.train.GradientDescentOptimizer(learning_rate= 0.01)\n",
    "#optimizer = tf.compat.v1.train.AdamOptimizer(learning_rate= 0.01)\n",
    "optimizer = tf.optimizers.Adam(learning_rate=0.01)"
   ]
  },
  {
   "cell_type": "code",
   "execution_count": 9,
   "id": "f1d1cbf4-8e21-477a-a6b1-d6bce0d93148",
   "metadata": {},
   "outputs": [
    {
     "name": "stdout",
     "output_type": "stream",
     "text": [
      "***** Start Learning!!\n",
      "0000 cost:[ 642.0554 ]\n",
      "1000 cost:[ 48.661392 ]\n",
      "2000 cost:[ 30.033325 ]\n",
      "3000 cost:[ 29.162199 ]\n",
      "4000 cost:[ 28.880713 ]\n",
      "5000 cost:[ 28.782488 ]\n",
      "***** Learning Finished!!\n"
     ]
    }
   ],
   "source": [
    "# 학습 시작\n",
    "print('***** Start Learning!!')\n",
    "for step in range(5001):\n",
    "    optimizer.minimize(cost_func,var_list=[W1,b1,W2,b2,W3,b3])\n",
    "    if step % 1000 == 0:\n",
    "        print('%04d'%step,'cost:[',cost_func().numpy(),']')\n",
    "        \n",
    "print('***** Learning Finished!!')"
   ]
  },
  {
   "cell_type": "code",
   "execution_count": 10,
   "id": "a3306920-9567-4fa9-b0b6-22783ce317b4",
   "metadata": {},
   "outputs": [
    {
     "name": "stdout",
     "output_type": "stream",
     "text": [
      "***** Predict\n",
      "tf.Tensor(\n",
      "[[22.304045]\n",
      " [35.359783]\n",
      " [23.34349 ]\n",
      " [32.912292]\n",
      " [36.185444]\n",
      " [25.120132]\n",
      " [24.323961]\n",
      " [13.656739]\n",
      " [29.801325]\n",
      " [21.27197 ]\n",
      " [27.538134]\n",
      " [19.130419]\n",
      " [21.0803  ]\n",
      " [46.44721 ]\n",
      " [13.656739]\n",
      " [16.026825]\n",
      " [27.560251]\n",
      " [16.97412 ]\n",
      " [28.363794]\n",
      " [17.431181]\n",
      " [13.656739]\n",
      " [23.29926 ]\n",
      " [27.810898]\n",
      " [16.686613]\n",
      " [17.696571]\n",
      " [22.267185]\n",
      " [31.968681]\n",
      " [38.367542]\n",
      " [24.795767]\n",
      " [20.903372]\n",
      " [23.291887]\n",
      " [21.301458]\n",
      " [33.664234]\n",
      " [34.711052]\n",
      " [37.79253 ]\n",
      " [21.810123]\n",
      " [20.195665]\n",
      " [41.19837 ]\n",
      " [21.176136]\n",
      " [24.390308]\n",
      " [22.259813]\n",
      " [21.566849]\n",
      " [14.215165]\n",
      " [21.434155]\n",
      " [20.818598]\n",
      " [14.603114]\n",
      " [15.684028]\n",
      " [22.13449 ]\n",
      " [16.749277]\n",
      " [20.612183]\n",
      " [13.656739]\n",
      " [13.656739]\n",
      " [20.74119 ]\n",
      " [24.338705]\n",
      " [26.867287]\n",
      " [24.898973]\n",
      " [15.004886]\n",
      " [16.91883 ]\n",
      " [28.584953]\n",
      " [20.15512 ]\n",
      " [19.845499]\n",
      " [15.042667]\n",
      " [24.50826 ]\n",
      " [30.966095]\n",
      " [15.436145]\n",
      " [13.656739]\n",
      " [32.33728 ]\n",
      " [24.73679 ]\n",
      " [30.803911]\n",
      " [27.759293]\n",
      " [28.599697]\n",
      " [24.523005]\n",
      " [20.818598]\n",
      " [20.700645]\n",
      " [26.697731]\n",
      " [18.953491]\n",
      " [35.99377 ]\n",
      " [17.527016]\n",
      " [17.34456 ]\n",
      " [16.754805]\n",
      " [19.915531]\n",
      " [17.280058]\n",
      " [25.665657]\n",
      " [22.761106]\n",
      " [25.732004]\n",
      " [21.301458]\n",
      " [17.600737]\n",
      " [18.426395]\n",
      " [33.207172]\n",
      " [24.54512 ]\n",
      " [30.464802]\n",
      " [17.711315]\n",
      " [28.135263]\n",
      " [32.89755 ]\n",
      " [13.656739]\n",
      " [18.555407]\n",
      " [14.804001]\n",
      " [13.656739]\n",
      " [15.927302]\n",
      " [31.054558]], shape=(100, 1), dtype=float32)\n"
     ]
    }
   ],
   "source": [
    "# 예측\n",
    "print('***** Predict')\n",
    "\n",
    "xxyy = np.loadtxt('boston_test.csv', delimiter=',',skiprows=1, dtype=np.float32) # 테스트용 값 파일 불러오기\n",
    "xxyy.shape\n",
    "\n",
    "x_data = xxyy[:,:-1]                        # 테스트 할 x값만 저장\n",
    "x_test = np.array(x_data,dtype=np.float32)\n",
    "print(hypothesis(x_test))\n",
    "#73, 80, 75, 152\n",
    "#93, 88, 93, 185\n",
    "#89, 91, 90, 180\n",
    "#96, 98, 100, 196\n",
    "#73, 66, 70, 142\n"
   ]
  },
  {
   "cell_type": "code",
   "execution_count": 11,
   "id": "7a6cac36-da1a-4706-bbcd-9844bf254bba",
   "metadata": {},
   "outputs": [
    {
     "name": "stdout",
     "output_type": "stream",
     "text": [
      "RMSE: 3.6937554\n"
     ]
    }
   ],
   "source": [
    "# 정확도 측정 : RMSE\n",
    "def get_rmse(y_test,preds):\n",
    "    squared_error = 0\n",
    "    for k,_ in enumerate(y_test):\n",
    "        squared_error += (preds[k] - y_test[k])**2\n",
    "    mse = squared_error/len(y_test)  \n",
    "    rmse = np.sqrt(mse)\n",
    "    return rmse[0]\n",
    "\n",
    "# 학습한 데이터를 그대로 검증 데이터로 사용한 경우\n",
    "x_test = xxyy[:,:-1]     # X\n",
    "y_test = xxyy[:,[-1]]    # Y\n",
    "\n",
    "preds = hypothesis(x_test).numpy()\n",
    "print('RMSE:', get_rmse(y_test,preds)) #RMSE: 4.00894"
   ]
  },
  {
   "cell_type": "code",
   "execution_count": null,
   "id": "c4e75f43-b717-4ddd-aa66-bd2b0cec90bc",
   "metadata": {},
   "outputs": [],
   "source": []
  }
 ],
 "metadata": {
  "kernelspec": {
   "display_name": "Python 3 (ipykernel)",
   "language": "python",
   "name": "python3"
  },
  "language_info": {
   "codemirror_mode": {
    "name": "ipython",
    "version": 3
   },
   "file_extension": ".py",
   "mimetype": "text/x-python",
   "name": "python",
   "nbconvert_exporter": "python",
   "pygments_lexer": "ipython3",
   "version": "3.10.14"
  }
 },
 "nbformat": 4,
 "nbformat_minor": 5
}
