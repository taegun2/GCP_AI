{
 "cells": [
  {
   "cell_type": "markdown",
   "id": "0e2bd7dc-460d-4927-89e8-42eddb943f7a",
   "metadata": {},
   "source": [
    "# iris multi-nomial classification 실습"
   ]
  },
  {
   "cell_type": "code",
   "execution_count": 4,
   "id": "26ba389c-7688-48e5-8a76-3bd8f14d90c9",
   "metadata": {},
   "outputs": [],
   "source": [
    "import tensorflow as tf\n",
    "import numpy as np\n",
    "tf.random.set_seed(5)"
   ]
  },
  {
   "cell_type": "code",
   "execution_count": 6,
   "id": "e90f7fa9-0ca0-41d0-9595-d318d8be8714",
   "metadata": {},
   "outputs": [
    {
     "data": {
      "text/plain": [
       "(150, 6)"
      ]
     },
     "execution_count": 6,
     "metadata": {},
     "output_type": "execute_result"
    }
   ],
   "source": [
    "# 데이터 불러 오기\n",
    "species_list =['\"setosa\"','\"versicolor\"','\"virginica\"']\n",
    "xy = np.loadtxt('iris.csv',delimiter=',',dtype=str,skiprows=1)\n",
    "xy.shape\n",
    "# 학습 데이터 분리 : 70% 70개\n",
    "# 검증 데이터 분리 : 30% 31개\n"
   ]
  },
  {
   "cell_type": "code",
   "execution_count": null,
   "id": "a0819a4f-16fa-4a41-a106-293b969c1a2d",
   "metadata": {},
   "outputs": [],
   "source": []
  }
 ],
 "metadata": {
  "kernelspec": {
   "display_name": "Python 3 (ipykernel)",
   "language": "python",
   "name": "python3"
  },
  "language_info": {
   "codemirror_mode": {
    "name": "ipython",
    "version": 3
   },
   "file_extension": ".py",
   "mimetype": "text/x-python",
   "name": "python",
   "nbconvert_exporter": "python",
   "pygments_lexer": "ipython3",
   "version": "3.10.14"
  }
 },
 "nbformat": 4,
 "nbformat_minor": 5
}
