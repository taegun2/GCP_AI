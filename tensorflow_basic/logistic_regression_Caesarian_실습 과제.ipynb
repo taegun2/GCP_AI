{
 "cells": [
  {
   "cell_type": "code",
   "execution_count": 16,
   "id": "0d9d89ae-f343-452a-bdb0-073498d1dd9e",
   "metadata": {},
   "outputs": [],
   "source": [
    "import tensorflow as tf\n",
    "import numpy as np\n",
    "tf.random.set_seed(5)"
   ]
  },
  {
   "cell_type": "code",
   "execution_count": 17,
   "id": "b4a6e9fb-ece2-4745-a9da-0b88f7796c0c",
   "metadata": {},
   "outputs": [
    {
     "name": "stdout",
     "output_type": "stream",
     "text": [
      "(80, 6)\n",
      "(56, 5) (56, 1)\n",
      "(24, 5) (24, 1)\n"
     ]
    }
   ],
   "source": [
    "# 데이터 불러 오기\n",
    "xy = np.loadtxt('caesarian.csv', delimiter=',', dtype=np.float32)\n",
    "xy.shape        #(759,9)\n",
    "print(xy.shape)\n",
    "# 학습 데이터 분리 : 70% 531개\n",
    "x_train = xy[:56,:-1]     # X     \n",
    "y_train = xy[:56,[-1]]    # Y\n",
    "print(x_train.shape,y_train.shape)\n",
    "\n",
    "# 검증 데이터 분리 : 30% 228개\n",
    "x_test = xy[56:,:-1]     # X     \n",
    "y_test = xy[56:,[-1]]    # Y\n",
    "print(x_test.shape,y_test.shape)"
   ]
  },
  {
   "cell_type": "code",
   "execution_count": 18,
   "id": "2634786a-77eb-45d1-a498-b4782cbf3260",
   "metadata": {},
   "outputs": [],
   "source": [
    "# 변수 초기화 : weight, bias\n",
    "# (m,n) * (n,l) = (m,l)  : 행렬의 내적 곱셉 공식\n",
    "#(80,5) * (5,1) = (80,1)                                 # x_train.shape과 W를 행렬곱하여 y_train.shape되도록\n",
    "W = tf.Variable(tf.random.normal([5,1]),name='weight')     # W의 행렬 수치 수정(random.normal([ 여기 값 ])) \n",
    "b = tf.Variable(tf.random.normal([1]),name='bias')         # b(bias)는 W의 마지막값과 같은 값으로 둔다 "
   ]
  },
  {
   "cell_type": "code",
   "execution_count": 19,
   "id": "c779152e-dfd1-4d0f-8c8b-690c749dbe1a",
   "metadata": {},
   "outputs": [],
   "source": [
    "# 예측 함수(hypothesis) : H(X) = sigmoid(W*X + b)\n",
    "def hypothesis(X):\n",
    "    return tf.sigmoid(tf.matmul(X,W) + b)  # 0 과 1 사이의 값 출력   "
   ]
  },
  {
   "cell_type": "code",
   "execution_count": 20,
   "id": "dc051384-1644-4f6b-82b5-cd1ab4e3a080",
   "metadata": {},
   "outputs": [],
   "source": [
    "# 비용 함수 : logloss, 2진 분류 모델\n",
    "def cost_func():\n",
    "    cost = -tf.reduce_mean(y_train*tf.math.log(hypothesis(x_train)) +                # y가 0일때는 앞의식은 0됨 \n",
    "                         (1-y_train)*tf.math.log(1-hypothesis(x_train)))             # y가 1일때는 뒤의식은 0됨 \n",
    "    return cost"
   ]
  },
  {
   "cell_type": "code",
   "execution_count": 21,
   "id": "39856962-e895-4b44-a210-c2cef76b35ea",
   "metadata": {},
   "outputs": [],
   "source": [
    "# 경사 하강법\n",
    "# learning_rate(학습율)을 0.01 로 설정하여 optimizer객체를 생성\n",
    "optimizer = tf.optimizers.Adam(learning_rate=0.01)"
   ]
  },
  {
   "cell_type": "code",
   "execution_count": 22,
   "id": "6e36c6a7-fae9-4ced-a45a-58eab56b9f2c",
   "metadata": {},
   "outputs": [
    {
     "name": "stdout",
     "output_type": "stream",
     "text": [
      "***** Start Learning!!\n",
      "0000 cost:[ 3.2573545 ]  W: [[-0.17030635]\n",
      " [-0.940286  ]\n",
      " [-0.02964031]\n",
      " [-0.73254037]\n",
      " [ 1.3331525 ]]  b: [0.23652889]\n",
      "1000 cost:[ 0.5308221 ]  W: [[-0.03349107]\n",
      " [ 0.25211978]\n",
      " [-0.27006328]\n",
      " [ 0.15151864]\n",
      " [ 2.5541186 ]]  b: [-0.17207605]\n",
      "2000 cost:[ 0.5292896 ]  W: [[-0.01470615]\n",
      " [ 0.2631409 ]\n",
      " [-0.2468881 ]\n",
      " [ 0.19900672]\n",
      " [ 2.552211  ]]  b: [-0.77784324]\n",
      "3000 cost:[ 0.5291536 ]  W: [[-0.00793587]\n",
      " [ 0.26635006]\n",
      " [-0.23871742]\n",
      " [ 0.21688206]\n",
      " [ 2.5552855 ]]  b: [-0.99656326]\n",
      "4000 cost:[ 0.52915204 ]  W: [[-0.00714858]\n",
      " [ 0.26674047]\n",
      " [-0.23777401]\n",
      " [ 0.21897122]\n",
      " [ 2.5557613 ]]  b: [-1.0220594]\n",
      "5000 cost:[ 0.52915204 ]  W: [[-0.00713164]\n",
      " [ 0.2667489 ]\n",
      " [-0.23775375]\n",
      " [ 0.21901618]\n",
      " [ 2.555772  ]]  b: [-1.0226083]\n",
      "6000 cost:[ 0.529152 ]  W: [[-0.00713156]\n",
      " [ 0.26674873]\n",
      " [-0.23775361]\n",
      " [ 0.21901639]\n",
      " [ 2.5557725 ]]  b: [-1.0226104]\n",
      "7000 cost:[ 0.52915204 ]  W: [[-0.00713149]\n",
      " [ 0.2667488 ]\n",
      " [-0.23775363]\n",
      " [ 0.21901666]\n",
      " [ 2.555773  ]]  b: [-1.0226127]\n",
      "8000 cost:[ 0.52915204 ]  W: [[-0.00713216]\n",
      " [ 0.26674825]\n",
      " [-0.23775433]\n",
      " [ 0.21901591]\n",
      " [ 2.5557728 ]]  b: [-1.0226133]\n",
      "9000 cost:[ 0.52935064 ]  W: [[-0.00564531]\n",
      " [ 0.26824772]\n",
      " [-0.23635273]\n",
      " [ 0.2204646 ]\n",
      " [ 2.5573912 ]]  b: [-1.0211412]\n",
      "10000 cost:[ 0.529152 ]  W: [[-0.0071323 ]\n",
      " [ 0.26674828]\n",
      " [-0.23775436]\n",
      " [ 0.219016  ]\n",
      " [ 2.555772  ]]  b: [-1.0226144]\n",
      "***** Learning Finished!!\n"
     ]
    }
   ],
   "source": [
    "# 학습 시작\n",
    "print('***** Start Learning!!')\n",
    "for step in range(10001):\n",
    "    optimizer.minimize(cost_func,var_list=[W,b])\n",
    "    if step % 1000 == 0:\n",
    "        print('%04d'%step,'cost:[',cost_func().numpy(),']',\n",
    "             ' W:',W.numpy(),' b:',b.numpy())\n",
    "        \n",
    "print('***** Learning Finished!!')"
   ]
  },
  {
   "cell_type": "code",
   "execution_count": 23,
   "id": "5b863442-ad82-4ac0-824c-71c94c7cedc3",
   "metadata": {},
   "outputs": [
    {
     "name": "stdout",
     "output_type": "stream",
     "text": [
      "***** Predict\n",
      "tf.Tensor(\n",
      "[[0.86615884]\n",
      " [0.28789198]\n",
      " [0.37677163]\n",
      " [0.8862466 ]\n",
      " [0.27883387]\n",
      " [0.33796775]\n",
      " [0.32797652]\n",
      " [0.88669693]\n",
      " [0.82365775]\n",
      " [0.37291485]\n",
      " [0.44940922]\n",
      " [0.8888288 ]\n",
      " [0.28207877]\n",
      " [0.2391767 ]\n",
      " [0.29377595]\n",
      " [0.753536  ]\n",
      " [0.38466218]\n",
      " [0.9108603 ]\n",
      " [0.88338655]\n",
      " [0.3317173 ]\n",
      " [0.50700676]\n",
      " [0.3785572 ]\n",
      " [0.19628417]\n",
      " [0.2856133 ]], shape=(24, 1), dtype=float32)\n"
     ]
    }
   ],
   "source": [
    "# 예측\n",
    "print('***** Predict')\n",
    "\n",
    "tx_test = np.array(x_test,dtype=np.float32)\n",
    "print(hypothesis(tx_test))"
   ]
  },
  {
   "cell_type": "code",
   "execution_count": 24,
   "id": "0f350e68-d622-4710-954c-b1f5990acd3c",
   "metadata": {},
   "outputs": [
    {
     "name": "stdout",
     "output_type": "stream",
     "text": [
      "Accuracy: 0.45833334\n"
     ]
    }
   ],
   "source": [
    "#정확도 측정 : accuracy computation\n",
    "def predict(X):\n",
    "    return tf.cast(hypothesis(X) > 0.5,dtype=tf.float32)\n",
    "\n",
    "# 검증 데이터를 사용하여 예측 \n",
    "preds = predict(x_test)\n",
    "accuracy = tf.reduce_mean(tf.cast(tf.equal(preds,y_test),dtype=tf.float32))\n",
    "\n",
    "print('Accuracy:',accuracy.numpy()) \n",
    "# print('Hypothesis:\\n',hypothesis(x_test).numpy())\n",
    "# print('Predict:\\n',preds.numpy())"
   ]
  },
  {
   "cell_type": "code",
   "execution_count": null,
   "id": "d8f6d678-b185-4469-8c6d-ba66b6e68703",
   "metadata": {},
   "outputs": [],
   "source": []
  }
 ],
 "metadata": {
  "kernelspec": {
   "display_name": "Python 3 (ipykernel)",
   "language": "python",
   "name": "python3"
  },
  "language_info": {
   "codemirror_mode": {
    "name": "ipython",
    "version": 3
   },
   "file_extension": ".py",
   "mimetype": "text/x-python",
   "name": "python",
   "nbconvert_exporter": "python",
   "pygments_lexer": "ipython3",
   "version": "3.10.14"
  }
 },
 "nbformat": 4,
 "nbformat_minor": 5
}
